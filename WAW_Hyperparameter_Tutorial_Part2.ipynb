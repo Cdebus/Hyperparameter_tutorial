{
 "cells": [
  {
   "cell_type": "markdown",
   "metadata": {},
   "source": [
    "# WAW ML5 Tutorial - Hyperparameter Optimization - Part 2\n",
    "\n",
    "<img src='https://raw.githubusercontent.com/DLR-SC/Hyperparameter_tutorial/master/img/WAW_Tutorial_Title.png' width=500px>\n"
   ]
  },
  {
   "cell_type": "code",
   "execution_count": 1,
   "metadata": {
    "pycharm": {
     "is_executing": false
    }
   },
   "outputs": [
    {
     "name": "stderr",
     "text": [
      "Using TensorFlow backend.\n"
     ],
     "output_type": "stream"
    }
   ],
   "source": [
    "%matplotlib inline\n",
    "import talos"
   ]
  },
  {
   "cell_type": "markdown",
   "source": [
    "## Overview\n",
    "\n",
    "The aim of the 2nd tutorial is the following:\n",
    "\n",
    "* Introduction of Talos\n",
    "* Use Talos for machine-assisted hyperparameter optimization of the Boston house price problem (1st Jupyter notebook)\n",
    "* Give general guidelines for hyperparamter optimization"
   ],
   "metadata": {
    "collapsed": false,
    "pycharm": {
     "name": "#%% md\n"
    }
   }
  },
  {
   "cell_type": "markdown",
   "metadata": {},
   "source": [
    "## 1. Introduction of Talos <a name=\"one\"></a> "
   ]
  },
  {
   "cell_type": "markdown",
   "metadata": {
    "pycharm": {
     "is_executing": false,
     "name": "#%% md\n"
    }
   },
   "source": [
    "### Start (iteration 0) with the original Keras code \n",
    "\n",
    "We first start with the code that we have already used in the first notebook"
   ]
  },
  {
   "cell_type": "code",
   "execution_count": 2,
   "outputs": [],
   "source": [
    "from keras.datasets import boston_housing\n",
    "\n",
    "# load the data\n",
    "(train_data, train_targets), (test_data, test_targets) =  boston_housing.load_data()\n",
    "\n",
    "# data normalization\n",
    "mean = train_data.mean(axis=0)\n",
    "train_data -= mean\n",
    "std = train_data.std(axis=0)\n",
    "train_data /= std\n",
    "\n",
    "test_data -= mean\n",
    "test_data /= std"
   ],
   "metadata": {
    "collapsed": false,
    "pycharm": {
     "name": "#%%\n",
     "is_executing": false
    }
   }
  },
  {
   "cell_type": "markdown",
   "source": [
    "### Model preparation\n",
    "\n",
    "Talos works with any Keras model, without changing the structure of the model in any way.  \n",
    "The only difference in the Keras model is that a parameter is not set explicitly as before, e.g.\n",
    "\n",
    "<pre><code> model.add(layers.Dense(32, activation='relu'))    </code></pre>\n",
    "\n",
    "but instead taken from a dictionary, e.g.\n",
    "\n",
    "<pre><code>\n",
    "params = {'number_of_neurons' : [4, 6, 7, 8], 'activation' : ['relu'] }\n",
    "\n",
    "model.add(layers.Dense(params['number_of_neurons'], activation=params['activation']))    \n",
    "</code></pre>\n",
    "\n",
    "Afterwards, this dictionary and the model will be passed to Talos. In the dictionary we have \n",
    "three different ways to input values:\n",
    "\n",
    "- as stepped ranges (min, max, steps)\n",
    "- as multiple values [in a list]\n",
    "- as a single value [in a list]\n",
    "\n",
    "For values we don't want to use, it's ok to set it as None.\n",
    "\n",
    "NOTE: at this point you have to import from Keras the optimizer, activations, and losses you want to scan for."
   ],
   "metadata": {
    "collapsed": false,
    "pycharm": {
     "name": "#%% md\n"
    }
   }
  },
  {
   "cell_type": "markdown",
   "source": [
    "## Tasks ## \n",
    "__Excercise 1:__\n",
    " - Create a Python dictionary that contains at least the following entries:\n",
    "    * 'number_of_layers' : 1, 2\n",
    "    * 'number_of_neurons' : 8, 16, 32, 64\n",
    "    * 'dropout_value' : None, 0.1, 0.2\n",
    "    * 'optimizer' : 'Adam', 'rmsprop'\n",
    "    * 'batch_size': 1, 2, 4, 8 \n",
    "    * 'epoch_number' : 10, 20, 40, 80\n",
    "    * anything that you want to modify further (e.g. learning_rate, activation_function, loss_function, ...)\n",
    " - What is the number of different hyperparameter configurations that is considered?"
   ],
   "metadata": {
    "collapsed": false,
    "pycharm": {
     "name": "#%% md\n"
    }
   }
  },
  {
   "cell_type": "code",
   "execution_count": 3,
   "outputs": [],
   "source": [
    "# missing import statements\n",
    "from keras.optimizers import Adam, rmsprop\n",
    "from keras.activations import softmax\n",
    "from keras.losses import categorical_crossentropy, logcosh\n",
    "\n",
    "# parameter dictionary\n",
    "param = {'number_of_layers' : [1, 2],\n",
    "         'number_of_neurons' : [8, 16, 32, 64],\n",
    "         'epoch_number' : [10, 20, 40, 80],\n",
    "         'dropout_value' : [None, 0.1, 0.2],\n",
    "         'optimizer' : ['Adam', 'rmsprop'],\n",
    "         'batch_size' : [1, 2, 4, 8]}\n"
   ],
   "metadata": {
    "collapsed": false,
    "pycharm": {
     "name": "#%%\n",
     "is_executing": false
    }
   }
  },
  {
   "cell_type": "markdown",
   "source": [
    "## Tasks ## \n",
    "__Excercise 2:__\n",
    " - Modify your original Keras model (Jupyter notebook 1) such that it uses uses the values from a \n",
    " dictionary 'p'."
   ],
   "metadata": {
    "collapsed": false,
    "pycharm": {
     "name": "#%% md\n"
    }
   }
  },
  {
   "cell_type": "code",
   "execution_count": 4,
   "outputs": [],
   "source": [
    "from keras import models\n",
    "from keras import layers\n",
    "\n",
    "def build_better_model(train_data, train_targets, val_data, val_targets, p):\n",
    "    model = models.Sequential()\n",
    "    \n",
    "    # replace the hyperparameter inputs with references to dictionary p \n",
    "    model.add(layers.Dense(p['number_of_neurons'], activation='relu',\n",
    "                           input_shape=(train_data.shape[1],)))\n",
    "    \n",
    "    if p['number_of_layers'] >= 2:\n",
    "        model.add(layers.Dense(p['number_of_neurons'], activation='relu'))\n",
    "    \n",
    "    if p['dropout_value'] is not None:\n",
    "        model.add(layers.Dropout(p['dropout_value']))\n",
    "        \n",
    "    model.add(layers.Dense(1))\n",
    "    model.compile(optimizer='Adam', loss='mse', metrics=['mae'])\n",
    "    \n",
    "    # make sure history object is returned by model.fit()\n",
    "    history = model.fit(train_data, train_targets, epochs=p['epoch_number'], batch_size=p['batch_size'], verbose=0)\n",
    "    \n",
    "    return history, model"
   ],
   "metadata": {
    "collapsed": false,
    "pycharm": {
     "name": "#%%\n",
     "is_executing": false
    }
   }
  },
  {
   "cell_type": "markdown",
   "source": [
    "## 2. Use Talos for hyperparameter optimization <a name=\"two\"></a> \n",
    "\n",
    "This part is quite simple. The Talos experiment just uses the <code> Scan()<\\code> command. In the following,\n",
    "we will investigate different arguments for this routine. However, it there are only four necessary arguments\n",
    "that are required:\n",
    "* train_data (often known as 'x')\n",
    "* train_targets (often known as 'y')\n",
    "* params (the dictionary 'param' that we have created before)\n",
    "* model (the 'build_model' that we also have created before)"
   ],
   "metadata": {
    "collapsed": false
   }
  },
  {
   "cell_type": "code",
   "execution_count": 5,
   "metadata": {
    "pycharm": {
     "is_executing": false
    }
   },
   "outputs": [
    {
     "name": "stderr",
     "text": [
      "\r  0%|          | 0/10 [00:00<?, ?it/s]",
      "\r 10%|█         | 1/10 [00:29<04:21, 29.09s/it]",
      "\r 20%|██        | 2/10 [00:31<02:48, 21.07s/it]",
      "\r 30%|███       | 3/10 [00:42<02:07, 18.15s/it]",
      "\r 40%|████      | 4/10 [00:47<01:23, 13.99s/it]",
      "\r 50%|█████     | 5/10 [00:49<00:52, 10.54s/it]",
      "\r 60%|██████    | 6/10 [00:52<00:32,  8.17s/it]",
      "\r 70%|███████   | 7/10 [00:53<00:18,  6.21s/it]",
      "\r 80%|████████  | 8/10 [00:55<00:09,  4.82s/it]",
      "\r 90%|█████████ | 9/10 [00:57<00:03,  3.89s/it]",
      "\r100%|██████████| 10/10 [01:01<00:00,  3.95s/it]",
      "\r100%|██████████| 10/10 [01:01<00:00,  6.12s/it]",
      "\n"
     ],
     "output_type": "stream"
    }
   ],
   "source": [
    "scan_object = talos.Scan(x=train_data,\n",
    "                         y=train_targets,\n",
    "                         model=build_better_model,\n",
    "                         experiment_name='find_optimal_params',\n",
    "                         params=param,\n",
    "                         round_limit=10)"
   ]
  },
  {
   "cell_type": "markdown",
   "source": [
    "If all different parameter configurations from the dictionary are used, the routine <code> Scan()</code> has to\n",
    "evaluate 768 different models. Depending on the neural network architecture and the number of training samples,\n",
    "this can be very time consuming.\n",
    "\n",
    "As a solution, Talos offers several routines to limit the number of model configurations that is evaluated. Two useful\n",
    "commands of <code> Scan()</code> for this purpose are:\n",
    "\n",
    "* <code> round_limit=10</code> which limits the number of model evaluations to the specified integer value (e.g. \n",
    "10 model evaluations in this example).\n",
    "* <code> fraction_limit = 0.1</code> specifies the fraction of `params` that will be tested  (e.g. 10% of the \n",
    "configurations in this example).   "
   ],
   "metadata": {
    "collapsed": false,
    "pycharm": {
     "name": "#%% md\n"
    }
   }
  },
  {
   "cell_type": "markdown",
   "metadata": {},
   "source": [
    "### Access the results through the <code>Scan</code> object "
   ]
  },
  {
   "cell_type": "markdown",
   "source": [
    "Using <code> round_limit=10</code> we have actually investigated only ten parameter configurations (since the time\n",
    "for this tutorial is limited). But how do I get the ten configurations that have been used and what is their\n",
    "performance?\n",
    "\n",
    "For this purpose, the results of the scan object can be directly accessed:"
   ],
   "metadata": {
    "collapsed": false,
    "pycharm": {
     "name": "#%% md\n"
    }
   }
  },
  {
   "cell_type": "code",
   "execution_count": 16,
   "outputs": [
    {
     "data": {
      "text/plain": "   round_epochs       loss       mae  batch_size  dropout_value  epoch_number  \\\n0            80   9.049133  2.244879           1            0.2            80   \n1            20  25.765061  3.610672           4            NaN            20   \n2            40  24.273087  3.646617           1            0.2            40   \n3            10  23.649886  3.728795           1            0.2            10   \n4            10  11.829737  2.565081           2            NaN            10   \n5            20  14.111620  2.704567           4            NaN            20   \n6            10  16.879916  3.086509           8            0.1            10   \n7            20  36.202574  4.562779           8            0.1            20   \n8            10  18.208287  3.208301           4            0.2            10   \n9            80  21.093233  3.343346           8            0.2            80   \n\n   number_of_layers  number_of_neurons optimizer  \n0                 2                 32      Adam  \n1                 1                 16   rmsprop  \n2                 1                 16      Adam  \n3                 2                 32      Adam  \n4                 2                 32   rmsprop  \n5                 2                 16      Adam  \n6                 2                 64      Adam  \n7                 1                 32      Adam  \n8                 2                 64   rmsprop  \n9                 2                 16      Adam  ",
      "text/html": "<div>\n<style scoped>\n    .dataframe tbody tr th:only-of-type {\n        vertical-align: middle;\n    }\n\n    .dataframe tbody tr th {\n        vertical-align: top;\n    }\n\n    .dataframe thead th {\n        text-align: right;\n    }\n</style>\n<table border=\"1\" class=\"dataframe\">\n  <thead>\n    <tr style=\"text-align: right;\">\n      <th></th>\n      <th>round_epochs</th>\n      <th>loss</th>\n      <th>mae</th>\n      <th>batch_size</th>\n      <th>dropout_value</th>\n      <th>epoch_number</th>\n      <th>number_of_layers</th>\n      <th>number_of_neurons</th>\n      <th>optimizer</th>\n    </tr>\n  </thead>\n  <tbody>\n    <tr>\n      <th>0</th>\n      <td>80</td>\n      <td>9.049133</td>\n      <td>2.244879</td>\n      <td>1</td>\n      <td>0.2</td>\n      <td>80</td>\n      <td>2</td>\n      <td>32</td>\n      <td>Adam</td>\n    </tr>\n    <tr>\n      <th>1</th>\n      <td>20</td>\n      <td>25.765061</td>\n      <td>3.610672</td>\n      <td>4</td>\n      <td>NaN</td>\n      <td>20</td>\n      <td>1</td>\n      <td>16</td>\n      <td>rmsprop</td>\n    </tr>\n    <tr>\n      <th>2</th>\n      <td>40</td>\n      <td>24.273087</td>\n      <td>3.646617</td>\n      <td>1</td>\n      <td>0.2</td>\n      <td>40</td>\n      <td>1</td>\n      <td>16</td>\n      <td>Adam</td>\n    </tr>\n    <tr>\n      <th>3</th>\n      <td>10</td>\n      <td>23.649886</td>\n      <td>3.728795</td>\n      <td>1</td>\n      <td>0.2</td>\n      <td>10</td>\n      <td>2</td>\n      <td>32</td>\n      <td>Adam</td>\n    </tr>\n    <tr>\n      <th>4</th>\n      <td>10</td>\n      <td>11.829737</td>\n      <td>2.565081</td>\n      <td>2</td>\n      <td>NaN</td>\n      <td>10</td>\n      <td>2</td>\n      <td>32</td>\n      <td>rmsprop</td>\n    </tr>\n    <tr>\n      <th>5</th>\n      <td>20</td>\n      <td>14.111620</td>\n      <td>2.704567</td>\n      <td>4</td>\n      <td>NaN</td>\n      <td>20</td>\n      <td>2</td>\n      <td>16</td>\n      <td>Adam</td>\n    </tr>\n    <tr>\n      <th>6</th>\n      <td>10</td>\n      <td>16.879916</td>\n      <td>3.086509</td>\n      <td>8</td>\n      <td>0.1</td>\n      <td>10</td>\n      <td>2</td>\n      <td>64</td>\n      <td>Adam</td>\n    </tr>\n    <tr>\n      <th>7</th>\n      <td>20</td>\n      <td>36.202574</td>\n      <td>4.562779</td>\n      <td>8</td>\n      <td>0.1</td>\n      <td>20</td>\n      <td>1</td>\n      <td>32</td>\n      <td>Adam</td>\n    </tr>\n    <tr>\n      <th>8</th>\n      <td>10</td>\n      <td>18.208287</td>\n      <td>3.208301</td>\n      <td>4</td>\n      <td>0.2</td>\n      <td>10</td>\n      <td>2</td>\n      <td>64</td>\n      <td>rmsprop</td>\n    </tr>\n    <tr>\n      <th>9</th>\n      <td>80</td>\n      <td>21.093233</td>\n      <td>3.343346</td>\n      <td>8</td>\n      <td>0.2</td>\n      <td>80</td>\n      <td>2</td>\n      <td>16</td>\n      <td>Adam</td>\n    </tr>\n  </tbody>\n</table>\n</div>"
     },
     "metadata": {},
     "output_type": "execute_result",
     "execution_count": 16
    }
   ],
   "source": [
    "# accessing the results data frame\n",
    "scan_object.data\n"
   ],
   "metadata": {
    "collapsed": false,
    "pycharm": {
     "name": "#%%\n",
     "is_executing": false
    }
   }
  },
  {
   "cell_type": "markdown",
   "source": [
    "The output on my local computer is (the results should differ on your machine since you probably\n",
    "consider ten other parameter configurations)\n",
    "\n",
    "<img src='https://raw.githubusercontent.com/DLR-SC/Hyperparameter_tutorial/master/img/talos_scan_output.png' \n",
    "width=1000px>\n",
    "\n",
    "There are several hyperparameter configurations with a mean average error (mae) in the range 2-3.\n",
    "Since the number of training samples is only 400, the result of the mean average error \n",
    "have a high variance and should not be overestimated. Nevertheless, the we already obtain a certain \n",
    "intuition on the size of some of the hyperparameters (e.g. 10 epochs is certainly not\n",
    " enough since 'mae' becomes large then).\n",
    " "
   ],
   "metadata": {
    "collapsed": false,
    "pycharm": {
     "name": "#%% md\n"
    }
   }
  },
  {
   "cell_type": "markdown",
   "source": [
    "You already noticed that your results differ from mine. This is due to the usage of a 'random search'\n",
    "strategy in Talos. More information on the search strategy are given \n",
    "in the summary details using <code>scan_object.details</code>.  "
   ],
   "metadata": {
    "collapsed": false,
    "pycharm": {
     "name": "#%% md\n"
    }
   }
  },
  {
   "cell_type": "code",
   "execution_count": 13,
   "outputs": [
    {
     "data": {
      "text/plain": "experiment_name        find_optimal_params\nrandom_method             uniform_mersenne\nreduction_method                      None\nreduction_interval                      50\nreduction_window                        20\nreduction_threshold                    0.2\nreduction_metric                   val_acc\ncomplete_time               11/18/19/14:07\nx_shape                          (404, 13)\ny_shape                             (404,)\ndtype: object"
     },
     "metadata": {},
     "output_type": "execute_result",
     "execution_count": 13
    }
   ],
   "source": [
    "# access the summary details\n",
    "scan_object.details\n"
   ],
   "metadata": {
    "collapsed": false,
    "pycharm": {
     "name": "#%%\n",
     "is_executing": false
    }
   }
  },
  {
   "cell_type": "markdown",
   "source": [
    "From the 768 possible hyperparameter configurations Talos considers a random subset\n",
    "of ten configurations (due to <code>round_limit=10</code>). This random subset \n",
    "is chosen with a 'Mersenne Twister' pseudorandom number generator. Other possible\n",
    "random choices are e.g. 'Halton' or 'Sobol' quasi Monte Carlo sequences. \n",
    "\n",
    "Note: If there is no parameter such as  <code> round_limit=10</code> or\n",
    "<code> fraction_limit = 0.1</code> the default optimization strategy \n",
    "is called 'grid search'. This means that all hyperparameter permutations in \n",
    "a given dictionary are processed. In most cases, this is not recommended\n",
    "for anything but very small permutation spaces. \n",
    "Therefore, better use a 'random search' routine."
   ],
   "metadata": {
    "collapsed": false,
    "pycharm": {
     "name": "#%% md\n"
    }
   }
  },
  {
   "cell_type": "markdown",
   "metadata": {},
   "source": [
    "In addition to statistics and meta-data related with the Scan, the used data (x and y) \n",
    "together with the saved model and model weights for each hyperparameter permutation is stored in the Scan object. "
   ]
  },
  {
   "cell_type": "code",
   "execution_count": 13,
   "metadata": {
    "pycharm": {
     "is_executing": false
    }
   },
   "outputs": [
    {
     "data": {
      "text/plain": "[array([[-8.38897407e-01, -1.43938139e-01,  1.11391522e-01,\n         -1.09193353e-02,  2.58457959e-01,  2.17029408e-01,\n         -2.04411387e-01, -8.21907043e-01, -2.64130056e-01,\n         -6.01866804e-02, -7.31536001e-02, -1.39986232e-01,\n          4.16413635e-01, -5.20827956e-02,  5.98771423e-02,\n          4.12954122e-01,  2.31539115e-01,  1.11565955e-01,\n          2.63870001e-01, -2.02329814e-01, -2.50781149e-01,\n          2.32718915e-01, -5.56486659e-02,  1.35042012e-01,\n         -3.68533343e-01,  7.01688975e-02,  2.37694308e-01,\n         -2.54949778e-01, -2.98739910e-01, -2.88264781e-01,\n          8.69323611e-02,  2.34808996e-01],\n        [-1.24940433e-01, -1.07590645e-03, -2.83617735e-01,\n          2.80249089e-01,  1.20290406e-01,  2.57741481e-01,\n         -2.87064195e-01, -1.31497920e-01, -3.32656838e-02,\n         -2.66632348e-01,  2.29115617e-02,  1.90930948e-01,\n         -1.74275011e-01, -2.16409728e-01,  2.39052877e-01,\n          1.47082329e-01, -1.37673736e-01, -1.60397105e-02,\n          2.75386006e-01,  3.25601455e-03, -2.71030992e-01,\n          1.56499863e-01, -2.94379950e-01, -1.73610672e-01,\n          9.74762291e-02, -2.42578551e-01, -2.63779700e-01,\n          2.87162125e-01, -2.32578546e-01, -3.08826476e-01,\n         -1.82337999e-01,  3.16767991e-01],\n        [-3.40563320e-02, -3.63274306e-01,  1.50433257e-01,\n         -4.16490734e-01,  2.25619927e-01,  1.77123129e-01,\n         -1.50695160e-01, -3.36541682e-01,  3.04488778e-01,\n          1.89283624e-01, -1.01901643e-01, -3.13473284e-01,\n          1.29849315e-01, -3.77692670e-01,  9.45496664e-04,\n         -1.20469898e-01, -1.48735613e-01,  1.81677654e-01,\n          2.34787971e-01, -6.56715687e-03, -3.49715024e-01,\n          3.32425922e-01,  2.24657342e-01, -2.73868591e-01,\n          3.71968657e-01,  4.23038483e-01, -2.37158239e-01,\n         -5.19266903e-01,  4.24811333e-01,  2.75636613e-01,\n         -2.75451422e-01, -1.61499783e-01],\n        [-1.58188492e-01, -1.40171677e-01,  9.55607295e-02,\n          1.72870100e-01,  3.89005244e-01,  1.62314683e-01,\n         -5.59548736e-01, -5.15336692e-01,  3.00981849e-01,\n         -4.92547393e-01, -1.12601906e-01, -1.58758871e-02,\n         -2.73515105e-01,  2.47029215e-01,  1.70477077e-01,\n         -1.98321659e-02, -2.42367551e-01, -1.53909460e-01,\n          1.44665748e-01,  1.05595018e-03, -4.34450775e-01,\n         -9.80469733e-02,  1.15016997e-01,  4.20251578e-01,\n         -1.18518963e-01,  2.53348202e-01,  1.19245984e-01,\n         -1.95111424e-01, -2.08052114e-01,  3.42355281e-01,\n          3.41444202e-02,  3.66936661e-02],\n        [ 3.27681065e-01, -1.85070604e-01, -5.42001188e-01,\n          1.89317483e-02, -4.56118703e-01, -3.87366004e-02,\n          1.75535783e-01,  5.32265425e-01, -2.51903921e-01,\n          1.81747511e-01, -1.06985003e-01,  4.01794389e-02,\n         -5.77496588e-01, -1.61238387e-01,  7.67500639e-01,\n          2.96662718e-01, -3.55913192e-01, -2.72430718e-01,\n         -4.87444341e-01,  1.00701459e-01,  6.51932955e-02,\n          6.41808569e-01, -9.77623910e-02, -5.77814341e-01,\n          2.00919539e-01, -3.08446169e-01, -3.24818730e-01,\n         -4.10886317e-01,  4.44095999e-01, -2.87076861e-01,\n         -5.03965318e-02, -3.34461540e-01],\n        [ 4.75281537e-01,  2.35690847e-02, -6.03100620e-02,\n         -1.25725850e-01,  4.04311687e-01, -3.84255916e-01,\n         -1.29691586e-01,  3.85261804e-01,  2.19490871e-01,\n          1.33519039e-01, -1.47145791e-02, -8.43037367e-02,\n         -6.90341890e-02, -1.76946118e-01,  1.09626614e-01,\n         -4.09026116e-01,  3.18371981e-01, -1.07538976e-01,\n          4.82594103e-01, -4.65258479e-01,  3.42639148e-01,\n          5.30234933e-01, -1.81965679e-01, -1.52415380e-01,\n          6.36510730e-01,  3.04709971e-01, -4.04569298e-01,\n          1.32891670e-01, -1.03460215e-01, -2.64587760e-01,\n         -1.28817230e-01, -1.06804483e-01],\n        [-3.14091563e-01, -1.75680429e-01,  2.27289513e-01,\n         -6.41884357e-02, -5.46021163e-02,  2.67793804e-01,\n          1.27418771e-01, -6.98214918e-02,  5.22442646e-02,\n         -3.74386847e-01, -1.21798180e-01, -5.94173092e-03,\n          1.41752690e-01, -1.87521264e-01,  4.77723747e-01,\n         -5.12066185e-01, -2.36732796e-01, -2.06271991e-01,\n          2.72235721e-01,  8.65015294e-03,  1.40670165e-02,\n         -2.84492999e-01,  1.89530939e-01,  1.33011535e-01,\n         -3.44699502e-01, -4.78256047e-02, -1.35049760e-01,\n         -3.84787410e-01,  2.68881023e-01,  2.63686717e-01,\n         -3.17887127e-01, -3.91206712e-01],\n        [ 7.69681355e-05,  1.66511253e-01, -1.87855795e-01,\n          2.54639536e-01,  1.46840345e-02, -4.80955802e-02,\n          2.31181100e-01,  2.01722831e-01, -5.95266998e-01,\n         -1.68049172e-01, -4.16856915e-01, -1.94349185e-01,\n         -1.94954962e-01, -2.93171227e-01,  8.24688524e-02,\n          8.24329779e-02,  7.51877278e-02, -3.33368480e-01,\n         -1.70316808e-02, -1.91573068e-01,  2.10216001e-01,\n         -2.49552913e-02, -5.05997300e-01, -5.10581851e-01,\n         -1.82313591e-01,  2.42723122e-01, -5.07195830e-01,\n         -1.35885701e-01,  5.29080033e-01, -5.10349870e-01,\n         -3.11565995e-01, -3.33602160e-01],\n        [ 1.15487710e-01, -7.17724934e-02,  2.66784459e-01,\n          9.90467072e-02,  3.50995734e-02,  3.17079782e-01,\n         -5.83890416e-02,  2.31607273e-01,  3.45502228e-01,\n         -1.90206751e-01, -1.44458324e-01,  2.83038378e-01,\n          3.70714396e-01,  8.54259357e-02, -2.80445516e-01,\n          1.35765895e-01,  4.45909560e-01,  2.66944557e-01,\n          3.48156333e-01,  1.91326678e-01,  1.21575389e-02,\n         -1.82807326e-01,  3.23228627e-01, -1.05190445e-02,\n         -2.20800519e-01,  4.33749944e-01,  1.20871283e-01,\n          6.43985793e-02,  2.58599669e-02, -3.66974145e-01,\n          3.50211471e-01,  3.61283422e-01],\n        [ 1.92781091e-01, -3.57042819e-01,  1.39497295e-01,\n          4.29961890e-01,  5.27929105e-02, -1.15445428e-01,\n          1.49054915e-01, -2.94778973e-01,  6.99394122e-02,\n         -3.08513701e-01, -1.71599388e-01,  5.87433241e-02,\n          2.37479359e-01, -3.34654421e-01,  1.92559939e-02,\n         -1.65464267e-01,  3.54094446e-01, -3.30346286e-01,\n          8.02133325e-03, -7.83396885e-02, -1.18365847e-01,\n          1.96501970e-01, -8.04564655e-02, -1.40040834e-02,\n         -4.93160397e-01, -3.28990407e-02,  9.37793255e-02,\n          4.45693471e-02, -1.36033908e-01,  5.44422641e-02,\n         -2.82090515e-01,  4.40097265e-02],\n        [-9.36045796e-02, -9.55314338e-02,  2.37267196e-01,\n          4.28560942e-01, -2.85875678e-01,  2.68878043e-01,\n         -1.19086213e-01, -7.37015083e-02, -4.46884722e-01,\n          4.12098095e-02, -5.01860678e-01,  1.57230068e-02,\n         -3.56421232e-01, -2.24863812e-01, -2.57608503e-01,\n         -1.18161827e-01, -8.01241919e-02, -2.87862867e-01,\n          1.62573382e-01,  2.65316993e-01, -5.64549983e-01,\n         -3.13730150e-01, -4.08507615e-01, -2.47607112e-01,\n          2.82174587e-01, -3.06173414e-02,  5.17971218e-01,\n          2.59522349e-01, -4.23186928e-01,  1.25441656e-01,\n          3.34271222e-01,  2.01815128e-01],\n        [-4.83444259e-02,  7.72679448e-02, -1.42539799e-01,\n         -3.77566903e-03,  1.58478484e-01, -1.90139294e-01,\n         -9.85979810e-02,  2.36749843e-01,  2.35894248e-01,\n          4.30018365e-01, -1.15088157e-01,  8.72349292e-02,\n          2.36259997e-01, -1.73604876e-01,  1.67493984e-01,\n         -2.55502105e-01, -1.14381917e-01, -7.31879612e-03,\n          1.17389195e-01, -9.31731015e-02,  4.93158460e-01,\n          1.00276172e-01,  1.95438579e-01,  1.80789959e-02,\n         -3.28017101e-02,  2.13873789e-01,  2.80154943e-01,\n         -1.74972024e-02, -1.30647808e-01, -6.88659726e-03,\n          7.84040838e-02,  1.44674703e-01],\n        [-3.90844494e-02,  5.79495549e-01, -4.53230053e-01,\n         -5.25565565e-01,  9.52380672e-02,  8.87918752e-03,\n          3.08543265e-01, -7.41727799e-02, -3.14015478e-01,\n          2.06118673e-01,  3.17994833e-01, -1.99973106e-01,\n          2.21722335e-01,  2.77461410e-01,  8.66111517e-01,\n         -3.18725973e-01, -2.09120601e-01,  1.13721415e-01,\n         -4.83060777e-01,  4.98823553e-01, -1.67767238e-02,\n         -5.84775098e-02,  1.65555909e-01, -3.59346598e-01,\n         -1.87509358e-01, -5.40816963e-01, -2.66944636e-02,\n          2.71608651e-01, -6.79768696e-02, -3.15120608e-01,\n          3.65265571e-02, -4.62519348e-01]], dtype=float32),\n array([ 0.17220186,  0.26380596,  0.11486444, -0.03245797,  0.09758783,\n        -0.05613348,  0.32867515,  0.4542739 ,  0.20221448,  0.26841813,\n         0.04778967,  0.03893034, -0.14873804,  0.05098663, -0.12724216,\n        -0.14061925, -0.09886685,  0.05937528,  0.13177533,  0.49662787,\n         0.35938558, -0.26767564,  0.09502161,  0.35295492,  0.08880909,\n         0.19480628,  0.05850316,  0.21647412,  0.13951446,  0.04122077,\n         0.12372141,  0.00409046], dtype=float32),\n array([[ 0.2512441 , -0.05707823,  0.10596129, ...,  0.47102445,\n         -0.0791672 , -0.09659043],\n        [ 0.21849267,  0.37910214, -0.04409702, ...,  0.39852563,\n          0.34623653, -0.24124397],\n        [ 0.2810845 ,  0.08094993,  0.00101326, ..., -0.13494436,\n          0.3002604 , -0.24120995],\n        ...,\n        [ 0.30932635,  0.32392097,  0.13690107, ..., -0.13874611,\n          0.3786297 , -0.08386455],\n        [ 0.04927675, -0.0716415 ,  0.20969325, ..., -0.08688017,\n          0.00406479,  0.05598047],\n        [ 0.1548488 ,  0.3562979 ,  0.43040782, ...,  0.37837663,\n          0.2758052 , -0.34345275]], dtype=float32),\n array([ 0.4549195 ,  0.36825517,  0.27584556,  0.39780354, -0.03260187,\n         0.35018963,  0.31720966,  0.29588246,  0.28491518,  0.21125612,\n         0.26888356,  0.39646724,  0.3756515 , -0.11983629,  0.3766964 ,\n         0.38165256, -0.01821574,  0.2917557 ,  0.07217783, -0.03788698,\n         0.2746237 ,  0.37335882,  0.29665473,  0.19477518,  0.3214527 ,\n         0.33210075,  0.27370927,  0.34776548,  0.43679744,  0.43861914,\n         0.19028257, -0.16427408], dtype=float32),\n array([[ 0.32296842],\n        [ 0.3146912 ],\n        [ 0.5958557 ],\n        [ 0.29212773],\n        [-0.65416825],\n        [ 0.3738818 ],\n        [ 0.46020713],\n        [ 0.43895075],\n        [ 0.32855457],\n        [ 0.34995675],\n        [ 0.38211378],\n        [ 0.29224992],\n        [ 0.36609256],\n        [-0.51601094],\n        [ 0.3969985 ],\n        [ 0.2838303 ],\n        [-0.27495235],\n        [ 0.513852  ],\n        [ 0.31806302],\n        [-0.0189339 ],\n        [ 0.4861372 ],\n        [ 0.33192313],\n        [ 0.49193236],\n        [ 0.6386999 ],\n        [ 0.43655878],\n        [ 0.2708612 ],\n        [ 0.38509136],\n        [ 0.4143176 ],\n        [ 0.25413823],\n        [ 0.2503321 ],\n        [ 0.56012565],\n        [-0.25290522]], dtype=float32),\n array([1.6063222], dtype=float32)]"
     },
     "metadata": {},
     "output_type": "execute_result",
     "execution_count": 13
    }
   ],
   "source": [
    "# accessing the saved models which returns a list of models\n",
    "scan_object.saved_models\n",
    "\n",
    "# accessing the saved weights for models which returns a list of weights\n",
    "model_weights = scan_object.saved_weights\n",
    "\n",
    "# weights of first model \n",
    "model_weights[0]"
   ]
  },
  {
   "cell_type": "markdown",
   "metadata": {},
   "source": [
    "The Scan object can be further used, and is required, as input for Predict(), Evaluate(), and Deploy(). \n",
    "More about this in the corresponding sections below."
   ]
  },
  {
   "cell_type": "markdown",
   "metadata": {},
   "source": [
    "### Analysing the Scan results with <code>Reporting()</code> "
   ]
  },
  {
   "cell_type": "markdown",
   "metadata": {},
   "source": [
    "In the Scan process, the results are stored round-by-round in the corresponding experiment log which is a .csv file stored in the \n",
    "present working directory (which is './find_optimal_params' our case). The Reporting() \n",
    "accepts as its source either a file name, or the Scan object. "
   ]
  },
  {
   "cell_type": "code",
   "execution_count": 14,
   "metadata": {
    "pycharm": {
     "is_executing": false
    }
   },
   "outputs": [],
   "source": [
    "# use Scan object as input\n",
    "analyze_object = talos.Analyze(scan_object)"
   ]
  },
  {
   "cell_type": "code",
   "execution_count": 17,
   "metadata": {
    "pycharm": {
     "is_executing": false
    }
   },
   "outputs": [
    {
     "data": {
      "text/plain": "   round_epochs       loss       mae  batch_size  dropout_value  epoch_number  \\\n0            80   9.049133  2.244879           1            0.2            80   \n1            20  25.765061  3.610672           4            NaN            20   \n2            40  24.273087  3.646617           1            0.2            40   \n3            10  23.649886  3.728795           1            0.2            10   \n4            10  11.829737  2.565081           2            NaN            10   \n5            20  14.111620  2.704567           4            NaN            20   \n6            10  16.879916  3.086509           8            0.1            10   \n7            20  36.202574  4.562779           8            0.1            20   \n8            10  18.208287  3.208301           4            0.2            10   \n9            80  21.093233  3.343346           8            0.2            80   \n\n   number_of_layers  number_of_neurons optimizer  \n0                 2                 32      Adam  \n1                 1                 16   rmsprop  \n2                 1                 16      Adam  \n3                 2                 32      Adam  \n4                 2                 32   rmsprop  \n5                 2                 16      Adam  \n6                 2                 64      Adam  \n7                 1                 32      Adam  \n8                 2                 64   rmsprop  \n9                 2                 16      Adam  ",
      "text/html": "<div>\n<style scoped>\n    .dataframe tbody tr th:only-of-type {\n        vertical-align: middle;\n    }\n\n    .dataframe tbody tr th {\n        vertical-align: top;\n    }\n\n    .dataframe thead th {\n        text-align: right;\n    }\n</style>\n<table border=\"1\" class=\"dataframe\">\n  <thead>\n    <tr style=\"text-align: right;\">\n      <th></th>\n      <th>round_epochs</th>\n      <th>loss</th>\n      <th>mae</th>\n      <th>batch_size</th>\n      <th>dropout_value</th>\n      <th>epoch_number</th>\n      <th>number_of_layers</th>\n      <th>number_of_neurons</th>\n      <th>optimizer</th>\n    </tr>\n  </thead>\n  <tbody>\n    <tr>\n      <th>0</th>\n      <td>80</td>\n      <td>9.049133</td>\n      <td>2.244879</td>\n      <td>1</td>\n      <td>0.2</td>\n      <td>80</td>\n      <td>2</td>\n      <td>32</td>\n      <td>Adam</td>\n    </tr>\n    <tr>\n      <th>1</th>\n      <td>20</td>\n      <td>25.765061</td>\n      <td>3.610672</td>\n      <td>4</td>\n      <td>NaN</td>\n      <td>20</td>\n      <td>1</td>\n      <td>16</td>\n      <td>rmsprop</td>\n    </tr>\n    <tr>\n      <th>2</th>\n      <td>40</td>\n      <td>24.273087</td>\n      <td>3.646617</td>\n      <td>1</td>\n      <td>0.2</td>\n      <td>40</td>\n      <td>1</td>\n      <td>16</td>\n      <td>Adam</td>\n    </tr>\n    <tr>\n      <th>3</th>\n      <td>10</td>\n      <td>23.649886</td>\n      <td>3.728795</td>\n      <td>1</td>\n      <td>0.2</td>\n      <td>10</td>\n      <td>2</td>\n      <td>32</td>\n      <td>Adam</td>\n    </tr>\n    <tr>\n      <th>4</th>\n      <td>10</td>\n      <td>11.829737</td>\n      <td>2.565081</td>\n      <td>2</td>\n      <td>NaN</td>\n      <td>10</td>\n      <td>2</td>\n      <td>32</td>\n      <td>rmsprop</td>\n    </tr>\n    <tr>\n      <th>5</th>\n      <td>20</td>\n      <td>14.111620</td>\n      <td>2.704567</td>\n      <td>4</td>\n      <td>NaN</td>\n      <td>20</td>\n      <td>2</td>\n      <td>16</td>\n      <td>Adam</td>\n    </tr>\n    <tr>\n      <th>6</th>\n      <td>10</td>\n      <td>16.879916</td>\n      <td>3.086509</td>\n      <td>8</td>\n      <td>0.1</td>\n      <td>10</td>\n      <td>2</td>\n      <td>64</td>\n      <td>Adam</td>\n    </tr>\n    <tr>\n      <th>7</th>\n      <td>20</td>\n      <td>36.202574</td>\n      <td>4.562779</td>\n      <td>8</td>\n      <td>0.1</td>\n      <td>20</td>\n      <td>1</td>\n      <td>32</td>\n      <td>Adam</td>\n    </tr>\n    <tr>\n      <th>8</th>\n      <td>10</td>\n      <td>18.208287</td>\n      <td>3.208301</td>\n      <td>4</td>\n      <td>0.2</td>\n      <td>10</td>\n      <td>2</td>\n      <td>64</td>\n      <td>rmsprop</td>\n    </tr>\n    <tr>\n      <th>9</th>\n      <td>80</td>\n      <td>21.093233</td>\n      <td>3.343346</td>\n      <td>8</td>\n      <td>0.2</td>\n      <td>80</td>\n      <td>2</td>\n      <td>16</td>\n      <td>Adam</td>\n    </tr>\n  </tbody>\n</table>\n</div>"
     },
     "metadata": {},
     "output_type": "execute_result",
     "execution_count": 17
    }
   ],
   "source": [
    "# access the dataframe with the results\n",
    "analyze_object.data"
   ]
  },
  {
   "cell_type": "code",
   "execution_count": 18,
   "outputs": [
    {
     "data": {
      "text/plain": "10"
     },
     "metadata": {},
     "output_type": "execute_result",
     "execution_count": 18
    }
   ],
   "source": [
    "# get the number of rounds in the Scan\n",
    "analyze_object.rounds()"
   ],
   "metadata": {
    "collapsed": false,
    "pycharm": {
     "name": "#%%\n",
     "is_executing": false
    }
   }
  },
  {
   "cell_type": "code",
   "execution_count": 21,
   "outputs": [
    {
     "data": {
      "text/plain": "2.2448790073394775"
     },
     "metadata": {},
     "output_type": "execute_result",
     "execution_count": 21
    }
   ],
   "source": [
    "# get the lowest result for any metric (if lower is better)\n",
    "analyze_object.low('mae')"
   ],
   "metadata": {
    "collapsed": false,
    "pycharm": {
     "name": "#%%\n",
     "is_executing": false
    }
   }
  },
  {
   "cell_type": "markdown",
   "source": [
    "Next, we want to obtain the parameters of our best n=3 parameter runs. For this\n",
    "purpose we use <code> best_params</code>. It is alluring to consider the best \n",
    "result only (i.e. n=1 in the following cell) but keep in mind that due to the high\n",
    "variance in the result, a sequence of more models should be considered.\n",
    "\n",
    "The signature of <code> best_params</code> is the following:\n",
    "* The first argument (here 'mae') is the metric that is considered.\n",
    "* The second argument is a list of metrics / loss functions that is not required here\n",
    "* The third argument gives the 'n' best results\n",
    "* Fourth argument: ascending | bool | Set to True when `metric` is to be minimized eg. loss or mae"
   ],
   "metadata": {
    "collapsed": false,
    "pycharm": {
     "name": "#%% md\n"
    }
   }
  },
  {
   "cell_type": "code",
   "execution_count": null,
   "outputs": [],
   "source": [
    "# get the best n=3 paramaters\n",
    "analyze_object.best_params('mae', ['loss'], n=3, ascending=True)"
   ],
   "metadata": {
    "collapsed": false,
    "pycharm": {
     "name": "#%%\n",
     "is_executing": true
    }
   }
  },
  {
   "cell_type": "code",
   "execution_count": 29,
   "outputs": [
    {
     "traceback": [
      "\u001b[0;31m---------------------------------------------------------------------------\u001b[0m",
      "\u001b[0;31mKeyError\u001b[0m                                  Traceback (most recent call last)",
      "\u001b[0;32m~/PycharmProjects/talos_tutorial/venv/lib/python3.6/site-packages/pandas/core/indexes/base.py\u001b[0m in \u001b[0;36mget_loc\u001b[0;34m(self, key, method, tolerance)\u001b[0m\n\u001b[1;32m   2896\u001b[0m             \u001b[0;32mtry\u001b[0m\u001b[0;34m:\u001b[0m\u001b[0;34m\u001b[0m\u001b[0;34m\u001b[0m\u001b[0m\n\u001b[0;32m-> 2897\u001b[0;31m                 \u001b[0;32mreturn\u001b[0m \u001b[0mself\u001b[0m\u001b[0;34m.\u001b[0m\u001b[0m_engine\u001b[0m\u001b[0;34m.\u001b[0m\u001b[0mget_loc\u001b[0m\u001b[0;34m(\u001b[0m\u001b[0mkey\u001b[0m\u001b[0;34m)\u001b[0m\u001b[0;34m\u001b[0m\u001b[0;34m\u001b[0m\u001b[0m\n\u001b[0m\u001b[1;32m   2898\u001b[0m             \u001b[0;32mexcept\u001b[0m \u001b[0mKeyError\u001b[0m\u001b[0;34m:\u001b[0m\u001b[0;34m\u001b[0m\u001b[0;34m\u001b[0m\u001b[0m\n",
      "\u001b[0;32mpandas/_libs/index.pyx\u001b[0m in \u001b[0;36mpandas._libs.index.IndexEngine.get_loc\u001b[0;34m()\u001b[0m\n",
      "\u001b[0;32mpandas/_libs/index.pyx\u001b[0m in \u001b[0;36mpandas._libs.index.IndexEngine.get_loc\u001b[0;34m()\u001b[0m\n",
      "\u001b[0;32mpandas/_libs/hashtable_class_helper.pxi\u001b[0m in \u001b[0;36mpandas._libs.hashtable.PyObjectHashTable.get_item\u001b[0;34m()\u001b[0m\n",
      "\u001b[0;32mpandas/_libs/hashtable_class_helper.pxi\u001b[0m in \u001b[0;36mpandas._libs.hashtable.PyObjectHashTable.get_item\u001b[0;34m()\u001b[0m\n",
      "\u001b[0;31mKeyError\u001b[0m: 'val_loss'",
      "\nDuring handling of the above exception, another exception occurred:\n",
      "\u001b[0;31mKeyError\u001b[0m                                  Traceback (most recent call last)",
      "\u001b[0;32m<ipython-input-29-15bdb71a41b7>\u001b[0m in \u001b[0;36m<module>\u001b[0;34m\u001b[0m\n\u001b[1;32m      1\u001b[0m \u001b[0;31m# get correlation for hyperparameters against a metric\u001b[0m\u001b[0;34m\u001b[0m\u001b[0;34m\u001b[0m\u001b[0;34m\u001b[0m\u001b[0m\n\u001b[0;32m----> 2\u001b[0;31m \u001b[0manalyze_object\u001b[0m\u001b[0;34m.\u001b[0m\u001b[0mcorrelate\u001b[0m\u001b[0;34m(\u001b[0m\u001b[0;34m'val_loss'\u001b[0m\u001b[0;34m,\u001b[0m \u001b[0;34m[\u001b[0m\u001b[0;34m'acc'\u001b[0m\u001b[0;34m,\u001b[0m \u001b[0;34m'loss'\u001b[0m\u001b[0;34m,\u001b[0m \u001b[0;34m'val_loss'\u001b[0m\u001b[0;34m]\u001b[0m\u001b[0;34m)\u001b[0m\u001b[0;34m\u001b[0m\u001b[0;34m\u001b[0m\u001b[0m\n\u001b[0m\u001b[1;32m      3\u001b[0m \u001b[0;34m\u001b[0m\u001b[0m\n",
      "\u001b[0;32m~/PycharmProjects/talos_tutorial/venv/lib/python3.6/site-packages/talos/commands/analyze.py\u001b[0m in \u001b[0;36mcorrelate\u001b[0;34m(self, metric, exclude)\u001b[0m\n\u001b[1;32m     57\u001b[0m         \u001b[0mcolumns\u001b[0m \u001b[0;34m=\u001b[0m \u001b[0;34m[\u001b[0m\u001b[0mc\u001b[0m \u001b[0;32mfor\u001b[0m \u001b[0mc\u001b[0m \u001b[0;32min\u001b[0m \u001b[0mself\u001b[0m\u001b[0;34m.\u001b[0m\u001b[0mdata\u001b[0m\u001b[0;34m.\u001b[0m\u001b[0mcolumns\u001b[0m \u001b[0;32mif\u001b[0m \u001b[0mc\u001b[0m \u001b[0;32mnot\u001b[0m \u001b[0;32min\u001b[0m \u001b[0mexclude\u001b[0m \u001b[0;34m+\u001b[0m \u001b[0;34m[\u001b[0m\u001b[0mmetric\u001b[0m\u001b[0;34m]\u001b[0m\u001b[0;34m]\u001b[0m\u001b[0;34m\u001b[0m\u001b[0;34m\u001b[0m\u001b[0m\n\u001b[1;32m     58\u001b[0m         \u001b[0mout\u001b[0m \u001b[0;34m=\u001b[0m \u001b[0mself\u001b[0m\u001b[0;34m.\u001b[0m\u001b[0mdata\u001b[0m\u001b[0;34m[\u001b[0m\u001b[0mcolumns\u001b[0m\u001b[0;34m]\u001b[0m\u001b[0;34m\u001b[0m\u001b[0;34m\u001b[0m\u001b[0m\n\u001b[0;32m---> 59\u001b[0;31m         \u001b[0mout\u001b[0m\u001b[0;34m.\u001b[0m\u001b[0minsert\u001b[0m\u001b[0;34m(\u001b[0m\u001b[0;36m0\u001b[0m\u001b[0;34m,\u001b[0m \u001b[0mmetric\u001b[0m\u001b[0;34m,\u001b[0m \u001b[0mself\u001b[0m\u001b[0;34m.\u001b[0m\u001b[0mdata\u001b[0m\u001b[0;34m[\u001b[0m\u001b[0mmetric\u001b[0m\u001b[0;34m]\u001b[0m\u001b[0;34m)\u001b[0m\u001b[0;34m\u001b[0m\u001b[0;34m\u001b[0m\u001b[0m\n\u001b[0m\u001b[1;32m     60\u001b[0m \u001b[0;34m\u001b[0m\u001b[0m\n\u001b[1;32m     61\u001b[0m         \u001b[0mout\u001b[0m \u001b[0;34m=\u001b[0m \u001b[0mout\u001b[0m\u001b[0;34m.\u001b[0m\u001b[0mcorr\u001b[0m\u001b[0;34m(\u001b[0m\u001b[0;34m)\u001b[0m\u001b[0;34m[\u001b[0m\u001b[0mmetric\u001b[0m\u001b[0;34m]\u001b[0m\u001b[0;34m\u001b[0m\u001b[0;34m\u001b[0m\u001b[0m\n",
      "\u001b[0;32m~/PycharmProjects/talos_tutorial/venv/lib/python3.6/site-packages/pandas/core/frame.py\u001b[0m in \u001b[0;36m__getitem__\u001b[0;34m(self, key)\u001b[0m\n\u001b[1;32m   2993\u001b[0m             \u001b[0;32mif\u001b[0m \u001b[0mself\u001b[0m\u001b[0;34m.\u001b[0m\u001b[0mcolumns\u001b[0m\u001b[0;34m.\u001b[0m\u001b[0mnlevels\u001b[0m \u001b[0;34m>\u001b[0m \u001b[0;36m1\u001b[0m\u001b[0;34m:\u001b[0m\u001b[0;34m\u001b[0m\u001b[0;34m\u001b[0m\u001b[0m\n\u001b[1;32m   2994\u001b[0m                 \u001b[0;32mreturn\u001b[0m \u001b[0mself\u001b[0m\u001b[0;34m.\u001b[0m\u001b[0m_getitem_multilevel\u001b[0m\u001b[0;34m(\u001b[0m\u001b[0mkey\u001b[0m\u001b[0;34m)\u001b[0m\u001b[0;34m\u001b[0m\u001b[0;34m\u001b[0m\u001b[0m\n\u001b[0;32m-> 2995\u001b[0;31m             \u001b[0mindexer\u001b[0m \u001b[0;34m=\u001b[0m \u001b[0mself\u001b[0m\u001b[0;34m.\u001b[0m\u001b[0mcolumns\u001b[0m\u001b[0;34m.\u001b[0m\u001b[0mget_loc\u001b[0m\u001b[0;34m(\u001b[0m\u001b[0mkey\u001b[0m\u001b[0;34m)\u001b[0m\u001b[0;34m\u001b[0m\u001b[0;34m\u001b[0m\u001b[0m\n\u001b[0m\u001b[1;32m   2996\u001b[0m             \u001b[0;32mif\u001b[0m \u001b[0mis_integer\u001b[0m\u001b[0;34m(\u001b[0m\u001b[0mindexer\u001b[0m\u001b[0;34m)\u001b[0m\u001b[0;34m:\u001b[0m\u001b[0;34m\u001b[0m\u001b[0;34m\u001b[0m\u001b[0m\n\u001b[1;32m   2997\u001b[0m                 \u001b[0mindexer\u001b[0m \u001b[0;34m=\u001b[0m \u001b[0;34m[\u001b[0m\u001b[0mindexer\u001b[0m\u001b[0;34m]\u001b[0m\u001b[0;34m\u001b[0m\u001b[0;34m\u001b[0m\u001b[0m\n",
      "\u001b[0;32m~/PycharmProjects/talos_tutorial/venv/lib/python3.6/site-packages/pandas/core/indexes/base.py\u001b[0m in \u001b[0;36mget_loc\u001b[0;34m(self, key, method, tolerance)\u001b[0m\n\u001b[1;32m   2897\u001b[0m                 \u001b[0;32mreturn\u001b[0m \u001b[0mself\u001b[0m\u001b[0;34m.\u001b[0m\u001b[0m_engine\u001b[0m\u001b[0;34m.\u001b[0m\u001b[0mget_loc\u001b[0m\u001b[0;34m(\u001b[0m\u001b[0mkey\u001b[0m\u001b[0;34m)\u001b[0m\u001b[0;34m\u001b[0m\u001b[0;34m\u001b[0m\u001b[0m\n\u001b[1;32m   2898\u001b[0m             \u001b[0;32mexcept\u001b[0m \u001b[0mKeyError\u001b[0m\u001b[0;34m:\u001b[0m\u001b[0;34m\u001b[0m\u001b[0;34m\u001b[0m\u001b[0m\n\u001b[0;32m-> 2899\u001b[0;31m                 \u001b[0;32mreturn\u001b[0m \u001b[0mself\u001b[0m\u001b[0;34m.\u001b[0m\u001b[0m_engine\u001b[0m\u001b[0;34m.\u001b[0m\u001b[0mget_loc\u001b[0m\u001b[0;34m(\u001b[0m\u001b[0mself\u001b[0m\u001b[0;34m.\u001b[0m\u001b[0m_maybe_cast_indexer\u001b[0m\u001b[0;34m(\u001b[0m\u001b[0mkey\u001b[0m\u001b[0;34m)\u001b[0m\u001b[0;34m)\u001b[0m\u001b[0;34m\u001b[0m\u001b[0;34m\u001b[0m\u001b[0m\n\u001b[0m\u001b[1;32m   2900\u001b[0m         \u001b[0mindexer\u001b[0m \u001b[0;34m=\u001b[0m \u001b[0mself\u001b[0m\u001b[0;34m.\u001b[0m\u001b[0mget_indexer\u001b[0m\u001b[0;34m(\u001b[0m\u001b[0;34m[\u001b[0m\u001b[0mkey\u001b[0m\u001b[0;34m]\u001b[0m\u001b[0;34m,\u001b[0m \u001b[0mmethod\u001b[0m\u001b[0;34m=\u001b[0m\u001b[0mmethod\u001b[0m\u001b[0;34m,\u001b[0m \u001b[0mtolerance\u001b[0m\u001b[0;34m=\u001b[0m\u001b[0mtolerance\u001b[0m\u001b[0;34m)\u001b[0m\u001b[0;34m\u001b[0m\u001b[0;34m\u001b[0m\u001b[0m\n\u001b[1;32m   2901\u001b[0m         \u001b[0;32mif\u001b[0m \u001b[0mindexer\u001b[0m\u001b[0;34m.\u001b[0m\u001b[0mndim\u001b[0m \u001b[0;34m>\u001b[0m \u001b[0;36m1\u001b[0m \u001b[0;32mor\u001b[0m \u001b[0mindexer\u001b[0m\u001b[0;34m.\u001b[0m\u001b[0msize\u001b[0m \u001b[0;34m>\u001b[0m \u001b[0;36m1\u001b[0m\u001b[0;34m:\u001b[0m\u001b[0;34m\u001b[0m\u001b[0;34m\u001b[0m\u001b[0m\n",
      "\u001b[0;32mpandas/_libs/index.pyx\u001b[0m in \u001b[0;36mpandas._libs.index.IndexEngine.get_loc\u001b[0;34m()\u001b[0m\n",
      "\u001b[0;32mpandas/_libs/index.pyx\u001b[0m in \u001b[0;36mpandas._libs.index.IndexEngine.get_loc\u001b[0;34m()\u001b[0m\n",
      "\u001b[0;32mpandas/_libs/hashtable_class_helper.pxi\u001b[0m in \u001b[0;36mpandas._libs.hashtable.PyObjectHashTable.get_item\u001b[0;34m()\u001b[0m\n",
      "\u001b[0;32mpandas/_libs/hashtable_class_helper.pxi\u001b[0m in \u001b[0;36mpandas._libs.hashtable.PyObjectHashTable.get_item\u001b[0;34m()\u001b[0m\n",
      "\u001b[0;31mKeyError\u001b[0m: 'val_loss'"
     ],
     "ename": "KeyError",
     "evalue": "'val_loss'",
     "output_type": "error"
    }
   ],
   "source": [
    "# get correlation for hyperparameters against a metric\n",
    "analyze_object.correlate('mae', ['acc', 'loss', 'val_loss'])"
   ],
   "metadata": {
    "collapsed": false,
    "pycharm": {
     "name": "#%%\n",
     "is_executing": false
    }
   }
  },
  {
   "cell_type": "code",
   "execution_count": 12,
   "metadata": {
    "pycharm": {
     "is_executing": false
    }
   },
   "outputs": [
    {
     "data": {
      "text/plain": "round_epochs         NaN\nval_acc        -0.997755\nbatch_size      0.830592\ndropout         0.047916\nepochs               NaN\nfirst_neuron   -0.556881\nlr             -0.996029\nName: val_loss, dtype: float64"
     },
     "metadata": {},
     "output_type": "execute_result",
     "execution_count": 12
    }
   ],
   "source": [
    "# get the number of rounds in the Scan\n",
    "analyze_object.rounds()\n",
    "\n",
    "# get the highest result for any metric\n",
    "analyze_object.high('val_acc')\n",
    "\n",
    "# get the round with the best result\n",
    "analyze_object.rounds2high('val_acc')\n",
    "\n",
    "# get the best paramaters\n",
    "analyze_object.best_params('val_acc', ['acc', 'loss', 'val_loss'])\n",
    "\n",
    "# get correlation for hyperparameters against a metric\n",
    "analyze_object.correlate('val_loss', ['acc', 'loss', 'val_loss'])"
   ]
  },
  {
   "cell_type": "markdown",
   "metadata": {},
   "source": [
    "In addition to the key obsevations, several useful plots are available for analysis of the results."
   ]
  },
  {
   "cell_type": "code",
   "execution_count": 13,
   "metadata": {
    "pycharm": {
     "is_executing": false
    }
   },
   "outputs": [
    {
     "name": "stderr",
     "text": [
      "findfont: Font family ['Verdana'] not found. Falling back to DejaVu Sans.\n"
     ],
     "output_type": "stream"
    },
    {
     "data": {
      "text/plain": "<Figure size 720x475.2 with 1 Axes>",
      "image/png": "[encoded data removed]"
     },
     "metadata": {},
     "output_type": "display_data"
    },
    {
     "data": {
      "text/plain": "<Figure size 864x475.2 with 1 Axes>",
      "image/png": "[encoded data removed]"
     },
     "metadata": {},
     "output_type": "display_data"
    },
    {
     "data": {
      "text/plain": "<Figure size 720x475.2 with 1 Axes>",
      "image/png": "[encoded data removed]"
     },
     "metadata": {},
     "output_type": "display_data"
    },
    {
     "data": {
      "text/plain": "<Figure size 720x475.2 with 1 Axes>",
      "image/png": "[encoded data removed]"
     },
     "metadata": {},
     "output_type": "display_data"
    },
    {
     "data": {
      "text/plain": "<Figure size 684x684 with 2 Axes>",
      "image/png": "[encoded data removed]"
     },
     "metadata": {},
     "output_type": "display_data"
    },
    {
     "data": {
      "text/plain": "<Figure size 1236.25x288 with 3 Axes>",
      "image/png": "[encoded data removed]"
     },
     "metadata": {},
     "output_type": "display_data"
    }
   ],
   "source": [
    "# a regression plot for two dimensions \n",
    "analyze_object.plot_regs('val_acc', 'val_loss')\n",
    "\n",
    "# line plot\n",
    "analyze_object.plot_line('val_acc')\n",
    "\n",
    "# up to two dimensional kernel density estimator\n",
    "analyze_object.plot_kde('val_acc')\n",
    "\n",
    "# a simple histogram\n",
    "analyze_object.plot_hist('val_acc', bins=50)\n",
    "\n",
    "# heatmap correlation\n",
    "analyze_object.plot_corr('val_loss', ['acc', 'loss', 'val_loss'])\n",
    "\n",
    "# a four dimensional bar grid\n",
    "analyze_object.plot_bars('batch_size', 'val_acc', 'first_neuron', 'lr')"
   ]
  },
  {
   "cell_type": "markdown",
   "metadata": {},
   "source": [
    "### 7. Evaluating Models with <code>Evaluate()</code> <a name=\"seven\"></a> "
   ]
  },
  {
   "cell_type": "markdown",
   "metadata": {},
   "source": [
    "Models can be evaluated with <code>Evaluate()</code> against a k-fold cross-validation. Ideally at least 50% of the data, or more if possible, is kept completely out of the <code>Scan</code> process and only exposed into Evaluate once one or more candidate models have been identified."
   ]
  },
  {
   "cell_type": "code",
   "execution_count": 14,
   "metadata": {
    "pycharm": {
     "is_executing": false
    }
   },
   "outputs": [
    {
     "data": {
      "text/plain": "[1.0,\n 0.9440559440559441,\n 0.8777777777777778,\n 1.0,\n 1.0,\n 1.0,\n 1.0,\n 0.9433551198257081,\n 1.0,\n 1.0]"
     },
     "metadata": {},
     "output_type": "execute_result",
     "execution_count": 14
    }
   ],
   "source": [
    "evaluate_object = talos.Evaluate(scan_object)\n",
    "evaluate_object.evaluate(x, y, folds=10, metric='val_acc', task='multi_label')"
   ]
  },
  {
   "cell_type": "markdown",
   "metadata": {},
   "source": [
    "Once a sufficiently performing model have been found, a deployment package can be easily created."
   ]
  },
  {
   "cell_type": "markdown",
   "metadata": {},
   "source": [
    "### 8. Deploying Models with <code>Deploy()</code> <a name=\"eight\"></a> "
   ]
  },
  {
   "cell_type": "markdown",
   "metadata": {},
   "source": [
    "Once the right model or models have been found, you can create a deployment package with <code>Deploy()</code> which is then easy to transfer to a production or other environment, send via email, or upload to shared remote location. Best model is automatically chosen based on a given metric ('val_acc' by default).\n",
    "\n",
    "The Deploy package is a zip file that consist of: \n",
    "\n",
    "- details of the scan\n",
    "- model weights\n",
    "- model json\n",
    "- results of the experiment\n",
    "- sample of x data\n",
    "- sample of y data\n",
    "\n",
    "The <code>Deploy</code> package can be easily restored with <code>Restore()</code> which is covered in the next section."
   ]
  },
  {
   "cell_type": "code",
   "execution_count": 15,
   "metadata": {
    "pycharm": {
     "is_executing": false
    }
   },
   "outputs": [
    {
     "name": "stdout",
     "text": [
      "Deploy package iris_deploy have been saved.\n"
     ],
     "output_type": "stream"
    }
   ],
   "source": [
    "talos.Deploy(scan_object=scan_object, model_name='iris_deploy', metric='val_acc');"
   ]
  },
  {
   "cell_type": "markdown",
   "metadata": {},
   "source": [
    "### 9. Restoring Models with <code>Restore()</code> <a name=\"nine\"></a> "
   ]
  },
  {
   "cell_type": "markdown",
   "metadata": {},
   "source": [
    "Models can be evaluated with <code>Evaluate()</code> against a k-fold cross-validation. Ideally at least 50% of the data, or more if possible, is kept completely out of the <code>Scan</code> process and only exposed into Evaluate once one or more candidate models have been identified."
   ]
  },
  {
   "cell_type": "code",
   "execution_count": 16,
   "metadata": {
    "pycharm": {
     "is_executing": false
    }
   },
   "outputs": [],
   "source": [
    "iris = talos.Restore('iris_deploy.zip')"
   ]
  },
  {
   "cell_type": "markdown",
   "metadata": {},
   "source": [
    "The <code>Restore</code> object now consists of the assets from the Scan object originally associated with the experiment, together with the model that had been picked as 'best'. The model can be immediately used for making prediction, or use in any other other way Keras model objects can be used."
   ]
  },
  {
   "cell_type": "code",
   "execution_count": 17,
   "metadata": {
    "pycharm": {
     "is_executing": false
    }
   },
   "outputs": [
    {
     "data": {
      "text/plain": "array([[8.99947166e-01, 9.97709632e-02, 2.81914050e-04],\n       [9.04120057e-10, 8.54317784e-01, 1.45682216e-01],\n       [8.99947166e-01, 9.97709632e-02, 2.81914050e-04],\n       [6.67008254e-18, 2.08236560e-01, 7.91763484e-01],\n       [6.90926584e-07, 9.49802279e-01, 5.01970612e-02],\n       [8.99947166e-01, 9.97709632e-02, 2.81914050e-04],\n       [6.61923638e-15, 4.41949427e-01, 5.58050573e-01],\n       [8.99947166e-01, 9.97709632e-02, 2.81914050e-04],\n       [6.89416483e-26, 1.52990678e-02, 9.84700918e-01],\n       [5.46807072e-26, 1.47760203e-02, 9.85224009e-01],\n       [8.99947166e-01, 9.97709632e-02, 2.81914050e-04],\n       [8.99947166e-01, 9.97709632e-02, 2.81914050e-04],\n       [1.20792322e-07, 9.32818770e-01, 6.71810433e-02],\n       [5.39756156e-11, 7.82327592e-01, 2.17672408e-01],\n       [5.99508758e-06, 9.65265155e-01, 3.47287878e-02],\n       [4.82715742e-14, 5.23173571e-01, 4.76826400e-01],\n       [4.56301594e-11, 7.77353287e-01, 2.22646758e-01],\n       [8.99947166e-01, 9.97709632e-02, 2.81914050e-04],\n       [8.99947166e-01, 9.97709632e-02, 2.81914050e-04],\n       [3.06611798e-14, 5.04476607e-01, 4.95523334e-01],\n       [8.99947166e-01, 9.97709632e-02, 2.81914050e-04],\n       [6.13269745e-23, 4.19726968e-02, 9.58027303e-01],\n       [8.99947166e-01, 9.97709632e-02, 2.81914050e-04],\n       [8.99947166e-01, 9.97709632e-02, 2.81914050e-04],\n       [1.09224525e-26, 1.15980171e-02, 9.88401949e-01],\n       [1.22787029e-07, 9.33000445e-01, 6.69994131e-02],\n       [6.15579971e-23, 4.19958457e-02, 9.58004117e-01],\n       [1.05093222e-17, 2.20262915e-01, 7.79737055e-01],\n       [1.34435773e-04, 9.79632735e-01, 2.02328451e-02],\n       [1.13412884e-20, 8.89498889e-02, 9.11050141e-01],\n       [4.33021841e-09, 8.85275781e-01, 1.14724129e-01],\n       [8.71890371e-21, 8.57204869e-02, 9.14279521e-01],\n       [8.99947166e-01, 9.97709632e-02, 2.81914050e-04],\n       [8.99947166e-01, 9.97709632e-02, 2.81914050e-04],\n       [2.36476114e-16, 3.16320777e-01, 6.83679283e-01],\n       [6.89734092e-09, 8.93330157e-01, 1.06669851e-01],\n       [4.06979494e-23, 3.95213105e-02, 9.60478723e-01],\n       [1.01824771e-04, 9.78656828e-01, 2.12413669e-02],\n       [1.16920649e-11, 7.34265387e-01, 2.65734673e-01],\n       [8.99947166e-01, 9.97709632e-02, 2.81914050e-04],\n       [1.00527389e-03, 9.84801710e-01, 1.41930366e-02],\n       [2.27968053e-06, 9.59009767e-01, 4.09879871e-02],\n       [9.97758331e-16, 3.68227452e-01, 6.31772578e-01],\n       [8.99947166e-01, 9.97709632e-02, 2.81914050e-04],\n       [8.99947166e-01, 9.97709632e-02, 2.81914050e-04],\n       [8.99947166e-01, 9.97709632e-02, 2.81914050e-04],\n       [2.94589724e-14, 5.02830148e-01, 4.97169852e-01],\n       [9.84091528e-08, 9.30507720e-01, 6.94921389e-02],\n       [4.15999903e-16, 3.36179227e-01, 6.63820744e-01],\n       [1.91507582e-03, 9.85431433e-01, 1.26535641e-02],\n       [1.29957394e-14, 4.69278395e-01, 5.30721605e-01],\n       [8.14955315e-26, 1.56879444e-02, 9.84312117e-01],\n       [9.69253899e-10, 8.55824411e-01, 1.44175515e-01],\n       [2.82468805e-11, 7.62732208e-01, 2.37267807e-01],\n       [8.99947166e-01, 9.97709632e-02, 2.81914050e-04],\n       [1.43720253e-19, 1.26303375e-01, 8.73696685e-01],\n       [2.65985705e-07, 9.41076159e-01, 5.89235686e-02],\n       [8.99947166e-01, 9.97709632e-02, 2.81914050e-04],\n       [4.43623017e-27, 1.01259230e-02, 9.89874125e-01],\n       [2.56704569e-19, 1.36572793e-01, 8.63427222e-01],\n       [2.07140582e-20, 9.67712104e-02, 9.03228760e-01],\n       [2.93141593e-17, 2.49291584e-01, 7.50708401e-01],\n       [8.99947166e-01, 9.97709632e-02, 2.81914050e-04],\n       [4.51335609e-06, 9.63530481e-01, 3.64650451e-02],\n       [9.51738343e-07, 9.52447712e-01, 4.75513861e-02],\n       [8.99947166e-01, 9.97709632e-02, 2.81914050e-04],\n       [9.92182031e-11, 7.99713492e-01, 2.00286523e-01],\n       [1.69904216e-10, 8.14229846e-01, 1.85770124e-01],\n       [8.99947166e-01, 9.97709632e-02, 2.81914050e-04],\n       [8.99947166e-01, 9.97709632e-02, 2.81914050e-04],\n       [5.74323078e-09, 8.90221715e-01, 1.09778263e-01],\n       [8.71890371e-21, 8.57204869e-02, 9.14279521e-01],\n       [4.98079316e-06, 9.64141905e-01, 3.58531550e-02],\n       [7.58693602e-24, 3.08476705e-02, 9.69152272e-01],\n       [2.10623549e-21, 7.00694323e-02, 9.29930568e-01],\n       [1.50533581e-22, 4.78621088e-02, 9.52137887e-01],\n       [8.99947166e-01, 9.97709632e-02, 2.81914050e-04],\n       [4.09193411e-02, 9.52063978e-01, 7.01667555e-03],\n       [2.27499103e-26, 1.29518174e-02, 9.87048209e-01],\n       [1.91793428e-10, 8.17390621e-01, 1.82609320e-01],\n       [9.82072606e-21, 8.71683359e-02, 9.12831664e-01],\n       [9.39204983e-23, 4.46757339e-02, 9.55324292e-01],\n       [3.40833856e-26, 1.37632759e-02, 9.86236691e-01],\n       [8.99947166e-01, 9.97709632e-02, 2.81914050e-04],\n       [3.59840078e-06, 9.62086678e-01, 3.79097834e-02],\n       [2.04040411e-24, 2.53846925e-02, 9.74615335e-01],\n       [2.82130094e-27, 9.45792347e-03, 9.90542114e-01],\n       [8.99947166e-01, 9.97709632e-02, 2.81914050e-04],\n       [3.71584706e-02, 9.55670595e-01, 7.17093749e-03],\n       [1.06574255e-07, 9.31415141e-01, 6.85847774e-02],\n       [9.84342607e-10, 8.56157303e-01, 1.43842712e-01],\n       [1.35226310e-24, 2.38768533e-02, 9.76123154e-01],\n       [1.59629087e-18, 1.73718870e-01, 8.26281071e-01],\n       [8.99947166e-01, 9.97709632e-02, 2.81914050e-04],\n       [1.53066468e-24, 2.43216064e-02, 9.75678444e-01],\n       [8.99947166e-01, 9.97709632e-02, 2.81914050e-04],\n       [9.11334411e-27, 1.12860631e-02, 9.88713920e-01],\n       [1.75646470e-10, 8.15100789e-01, 1.84899196e-01],\n       [8.99947166e-01, 9.97709632e-02, 2.81914050e-04],\n       [9.46788550e-11, 7.98412144e-01, 2.01587930e-01],\n       [8.99947166e-01, 9.97709632e-02, 2.81914050e-04],\n       [5.50780033e-23, 4.13164049e-02, 9.58683610e-01],\n       [3.45308809e-20, 1.03890970e-01, 8.96108985e-01],\n       [8.99947166e-01, 9.97709632e-02, 2.81914050e-04],\n       [1.14650250e-16, 2.91906297e-01, 7.08093703e-01],\n       [1.72988136e-33, 1.08220591e-03, 9.98917818e-01],\n       [8.53517423e-10, 8.53060782e-01, 1.46939218e-01],\n       [8.99947166e-01, 9.97709632e-02, 2.81914050e-04],\n       [2.26863514e-17, 2.41792575e-01, 7.58207381e-01],\n       [8.99947166e-01, 9.97709632e-02, 2.81914050e-04],\n       [8.99947166e-01, 9.97709632e-02, 2.81914050e-04],\n       [8.99947166e-01, 9.97709632e-02, 2.81914050e-04],\n       [1.34467498e-17, 2.26998091e-01, 7.73001969e-01],\n       [7.61472073e-19, 1.57765627e-01, 8.42234373e-01],\n       [1.97216110e-09, 8.70497108e-01, 1.29502952e-01],\n       [9.94065656e-30, 4.02560830e-03, 9.95974362e-01],\n       [8.99947166e-01, 9.97709632e-02, 2.81914050e-04],\n       [2.01298974e-25, 1.79648548e-02, 9.82035160e-01],\n       [8.99947166e-01, 9.97709632e-02, 2.81914050e-04],\n       [1.40213864e-16, 2.98573464e-01, 7.01426506e-01],\n       [8.99947166e-01, 9.97709632e-02, 2.81914050e-04],\n       [8.18503665e-09, 8.96166980e-01, 1.03833035e-01],\n       [8.99947166e-01, 9.97709632e-02, 2.81914050e-04],\n       [7.49711493e-22, 6.04119338e-02, 9.39588010e-01],\n       [8.99947166e-01, 9.97709632e-02, 2.81914050e-04],\n       [3.69707836e-23, 3.89673933e-02, 9.61032629e-01],\n       [8.99947166e-01, 9.97709632e-02, 2.81914050e-04],\n       [1.38139912e-19, 1.25627577e-01, 8.74372363e-01],\n       [8.99947166e-01, 9.97709632e-02, 2.81914050e-04],\n       [8.99947166e-01, 9.97709632e-02, 2.81914050e-04],\n       [3.77161165e-08, 9.18701887e-01, 8.12981799e-02],\n       [4.31604708e-09, 8.85217309e-01, 1.14782631e-01],\n       [8.99947166e-01, 9.97709632e-02, 2.81914050e-04],\n       [6.23770632e-07, 9.48928833e-01, 5.10704666e-02],\n       [8.99947166e-01, 9.97709632e-02, 2.81914050e-04],\n       [1.00316684e-20, 8.74293149e-02, 9.12570715e-01],\n       [9.37663572e-06, 9.67837632e-01, 3.21529843e-02],\n       [8.99947166e-01, 9.97709632e-02, 2.81914050e-04],\n       [4.01989291e-06, 9.62799251e-01, 3.71967256e-02],\n       [8.99947166e-01, 9.97709632e-02, 2.81914050e-04],\n       [1.92821579e-04, 9.80814457e-01, 1.89927146e-02],\n       [4.42937534e-07, 9.45900083e-01, 5.40994816e-02],\n       [5.15128020e-27, 1.03565864e-02, 9.89643335e-01],\n       [7.97265720e-09, 8.95735502e-01, 1.04264453e-01],\n       [4.89901050e-22, 5.68113476e-02, 9.43188667e-01],\n       [8.99947166e-01, 9.97709632e-02, 2.81914050e-04],\n       [8.99947166e-01, 9.97709632e-02, 2.81914050e-04],\n       [8.99947166e-01, 9.97709632e-02, 2.81914050e-04],\n       [7.79513620e-10, 8.51063848e-01, 1.48936152e-01],\n       [2.31560246e-17, 2.42386192e-01, 7.57613838e-01]], dtype=float32)"
     },
     "metadata": {},
     "output_type": "execute_result",
     "execution_count": 17
    }
   ],
   "source": [
    "# make predictions with the model\n",
    "iris.model.predict(x)"
   ]
  },
  {
   "cell_type": "markdown",
   "metadata": {},
   "source": [
    "In addition, for book keeping purpose, and for simplicity of sharing models with team members and other stakeholders, various attributes are included in the <code>Restore</code> object:"
   ]
  },
  {
   "cell_type": "code",
   "execution_count": 18,
   "metadata": {
    "pycharm": {
     "is_executing": false
    }
   },
   "outputs": [
    {
     "data": {
      "text/plain": "                     0                 1\n0      experiment_name              iris\n1        random_method  uniform_mersenne\n2     reduction_method               NaN\n3   reduction_interval                50\n4     reduction_window                20\n5  reduction_threshold               0.2\n6     reduction_metric           val_acc\n7        complete_time    11/12/19/16:50\n8              x_shape          (150, 4)\n9              y_shape          (150, 3)",
      "text/html": "<div>\n<style scoped>\n    .dataframe tbody tr th:only-of-type {\n        vertical-align: middle;\n    }\n\n    .dataframe tbody tr th {\n        vertical-align: top;\n    }\n\n    .dataframe thead th {\n        text-align: right;\n    }\n</style>\n<table border=\"1\" class=\"dataframe\">\n  <thead>\n    <tr style=\"text-align: right;\">\n      <th></th>\n      <th>0</th>\n      <th>1</th>\n    </tr>\n  </thead>\n  <tbody>\n    <tr>\n      <th>0</th>\n      <td>experiment_name</td>\n      <td>iris</td>\n    </tr>\n    <tr>\n      <th>1</th>\n      <td>random_method</td>\n      <td>uniform_mersenne</td>\n    </tr>\n    <tr>\n      <th>2</th>\n      <td>reduction_method</td>\n      <td>NaN</td>\n    </tr>\n    <tr>\n      <th>3</th>\n      <td>reduction_interval</td>\n      <td>50</td>\n    </tr>\n    <tr>\n      <th>4</th>\n      <td>reduction_window</td>\n      <td>20</td>\n    </tr>\n    <tr>\n      <th>5</th>\n      <td>reduction_threshold</td>\n      <td>0.2</td>\n    </tr>\n    <tr>\n      <th>6</th>\n      <td>reduction_metric</td>\n      <td>val_acc</td>\n    </tr>\n    <tr>\n      <th>7</th>\n      <td>complete_time</td>\n      <td>11/12/19/16:50</td>\n    </tr>\n    <tr>\n      <th>8</th>\n      <td>x_shape</td>\n      <td>(150, 4)</td>\n    </tr>\n    <tr>\n      <th>9</th>\n      <td>y_shape</td>\n      <td>(150, 3)</td>\n    </tr>\n  </tbody>\n</table>\n</div>"
     },
     "metadata": {},
     "output_type": "execute_result",
     "execution_count": 18
    }
   ],
   "source": [
    "# get the meta-data for the experiment\n",
    "iris.details"
   ]
  },
  {
   "cell_type": "code",
   "execution_count": 19,
   "metadata": {
    "pycharm": {
     "is_executing": false
    }
   },
   "outputs": [
    {
     "data": {
      "text/plain": "{'lr': (0.1, 10, 10),\n 'first_neuron': [4, 8, 16, 32, 64, 128],\n 'batch_size': [2, 3, 4],\n 'epochs': [200],\n 'dropout': (0, 0.4, 10),\n 'optimizer': [keras.optimizers.Adam, keras.optimizers.Nadam],\n 'loss': ['categorical_crossentropy'],\n 'last_activation': ['softmax'],\n 'weight_regulizer': [None]}"
     },
     "metadata": {},
     "output_type": "execute_result",
     "execution_count": 19
    }
   ],
   "source": [
    "# get the hyperparameter space boundary\n",
    "iris.params"
   ]
  },
  {
   "cell_type": "code",
   "execution_count": null,
   "metadata": {},
   "outputs": [],
   "source": [
    "# sample of x and y data\n",
    "iris.x\n",
    "iris.y"
   ]
  },
  {
   "cell_type": "code",
   "execution_count": 20,
   "metadata": {
    "pycharm": {
     "is_executing": false
    }
   },
   "outputs": [
    {
     "data": {
      "text/plain": "   round_epochs  val_loss   val_acc      loss       acc  batch_size  dropout  \\\n0           200  1.032670  0.622222  1.050516  0.523810           4     0.16   \n1           200  0.139562  0.955556  0.227370  0.961905           2     0.04   \n2           200  0.067544  0.955556  0.197836  0.923810           3     0.24   \n\n   epochs  first_neuron last_activation                    loss.1    lr  \\\n0     200             4         softmax  categorical_crossentropy  0.10   \n1     200             4         softmax  categorical_crossentropy  5.05   \n2     200            32         softmax  categorical_crossentropy  6.04   \n\n                          optimizer  weight_regulizer  Unnamed: 15  \n0   <class 'keras.optimizers.Adam'>               NaN            0  \n1   <class 'keras.optimizers.Adam'>               NaN            1  \n2  <class 'keras.optimizers.Nadam'>               NaN            2  ",
      "text/html": "<div>\n<style scoped>\n    .dataframe tbody tr th:only-of-type {\n        vertical-align: middle;\n    }\n\n    .dataframe tbody tr th {\n        vertical-align: top;\n    }\n\n    .dataframe thead th {\n        text-align: right;\n    }\n</style>\n<table border=\"1\" class=\"dataframe\">\n  <thead>\n    <tr style=\"text-align: right;\">\n      <th></th>\n      <th>round_epochs</th>\n      <th>val_loss</th>\n      <th>val_acc</th>\n      <th>loss</th>\n      <th>acc</th>\n      <th>batch_size</th>\n      <th>dropout</th>\n      <th>epochs</th>\n      <th>first_neuron</th>\n      <th>last_activation</th>\n      <th>loss.1</th>\n      <th>lr</th>\n      <th>optimizer</th>\n      <th>weight_regulizer</th>\n      <th>Unnamed: 15</th>\n    </tr>\n  </thead>\n  <tbody>\n    <tr>\n      <th>0</th>\n      <td>200</td>\n      <td>1.032670</td>\n      <td>0.622222</td>\n      <td>1.050516</td>\n      <td>0.523810</td>\n      <td>4</td>\n      <td>0.16</td>\n      <td>200</td>\n      <td>4</td>\n      <td>softmax</td>\n      <td>categorical_crossentropy</td>\n      <td>0.10</td>\n      <td>&lt;class 'keras.optimizers.Adam'&gt;</td>\n      <td>NaN</td>\n      <td>0</td>\n    </tr>\n    <tr>\n      <th>1</th>\n      <td>200</td>\n      <td>0.139562</td>\n      <td>0.955556</td>\n      <td>0.227370</td>\n      <td>0.961905</td>\n      <td>2</td>\n      <td>0.04</td>\n      <td>200</td>\n      <td>4</td>\n      <td>softmax</td>\n      <td>categorical_crossentropy</td>\n      <td>5.05</td>\n      <td>&lt;class 'keras.optimizers.Adam'&gt;</td>\n      <td>NaN</td>\n      <td>1</td>\n    </tr>\n    <tr>\n      <th>2</th>\n      <td>200</td>\n      <td>0.067544</td>\n      <td>0.955556</td>\n      <td>0.197836</td>\n      <td>0.923810</td>\n      <td>3</td>\n      <td>0.24</td>\n      <td>200</td>\n      <td>32</td>\n      <td>softmax</td>\n      <td>categorical_crossentropy</td>\n      <td>6.04</td>\n      <td>&lt;class 'keras.optimizers.Nadam'&gt;</td>\n      <td>NaN</td>\n      <td>2</td>\n    </tr>\n  </tbody>\n</table>\n</div>"
     },
     "metadata": {},
     "output_type": "execute_result",
     "execution_count": 20
    }
   ],
   "source": [
    "# the results dataframe\n",
    "iris.results"
   ]
  },
  {
   "cell_type": "markdown",
   "metadata": {},
   "source": [
    "\n",
    "<img align=left src='https://img00.deviantart.net/920c/i/2014/137/a/2/pinkie_pie_thats_all_folks_by_dan232323-d7ipnd4.jpg' width=400>"
   ]
  },
  {
   "cell_type": "markdown",
   "metadata": {},
   "source": [
    "Back to the repository page >> http://github.com/autonomio/talos"
   ]
  }
 ],
 "metadata": {
  "kernelspec": {
   "display_name": "Python 3",
   "language": "python",
   "name": "python3"
  },
  "language_info": {
   "codemirror_mode": {
    "name": "ipython",
    "version": 3
   },
   "file_extension": ".py",
   "mimetype": "text/x-python",
   "name": "python",
   "nbconvert_exporter": "python",
   "pygments_lexer": "ipython3",
   "version": "3.6.8"
  },
  "pycharm": {
   "stem_cell": {
    "cell_type": "raw",
    "source": [],
    "metadata": {
     "collapsed": false
    }
   }
  }
 },
 "nbformat": 4,
 "nbformat_minor": 2
}