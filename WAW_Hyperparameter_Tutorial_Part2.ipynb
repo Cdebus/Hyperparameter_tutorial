{
 "cells": [
  {
   "cell_type": "markdown",
   "metadata": {},
   "source": [
    "# WAW ML5 Tutorial - Hyperparameter Optimization - Part 2\n",
    "\n",
    "<img src='https://raw.githubusercontent.com/DLR-SC/Hyperparameter_tutorial/master/img/WAW_Tutorial_Title.png' width=500px>\n"
   ]
  },
  {
   "cell_type": "code",
   "execution_count": 9,
   "metadata": {
    "pycharm": {
     "is_executing": false
    }
   },
   "outputs": [],
   "source": [
    "%matplotlib inline\n",
    "import talos"
   ]
  },
  {
   "cell_type": "markdown",
   "source": [
    "## Overview\n",
    "\n",
    "The aim of the 2nd tutorial is the following:\n",
    "\n",
    "* Introduction of Talos\n",
    "* Use Talos for machine-assisted hyperparameter optimization of the Boston house price problem (1st Jupyter notebook)\n",
    "* Give general guidelines for hyperparamter optimization"
   ],
   "metadata": {
    "collapsed": false,
    "pycharm": {
     "name": "#%% md\n"
    }
   }
  },
  {
   "cell_type": "markdown",
   "metadata": {},
   "source": [
    "## 1. Introduction of Talos <a name=\"one\"></a> "
   ]
  },
  {
   "cell_type": "markdown",
   "metadata": {
    "pycharm": {
     "is_executing": false,
     "name": "#%% md\n"
    }
   },
   "source": [
    "### Start (iteration 0) with the original Keras code \n",
    "\n",
    "We first start with the code that we have already used in the first notebook"
   ]
  },
  {
   "cell_type": "code",
   "execution_count": 10,
   "outputs": [],
   "source": [
    "from keras.datasets import boston_housing\n",
    "\n",
    "# load the data\n",
    "(train_data, train_targets), (test_data, test_targets) =  boston_housing.load_data()\n",
    "\n",
    "# data normalization\n",
    "mean = train_data.mean(axis=0)\n",
    "train_data -= mean\n",
    "std = train_data.std(axis=0)\n",
    "train_data /= std\n",
    "\n",
    "test_data -= mean\n",
    "test_data /= std"
   ],
   "metadata": {
    "collapsed": false,
    "pycharm": {
     "name": "#%%\n",
     "is_executing": false
    }
   }
  },
  {
   "cell_type": "markdown",
   "source": [
    "### Model preparation\n",
    "\n",
    "Talos works with any Keras model, without changing the structure of the model in any way.  \n",
    "The only difference in the Keras model is that a parameter is not set explicitly as before, e.g.\n",
    "\n",
    "<pre><code> model.add(layers.Dense(32, activation='relu'))    </code></pre>\n",
    "\n",
    "but instead taken from a dictionary, e.g.\n",
    "\n",
    "<pre><code>\n",
    "params = {'number_of_neurons' : [4, 6, 7, 8], 'activation' : ['relu'] }\n",
    "\n",
    "model.add(layers.Dense(params['number_of_neurons'], activation=params['activation']))    \n",
    "</code></pre>\n",
    "\n",
    "Afterwards, this dictionary and the model will be passed to Talos. In the dictionary we have \n",
    "three different ways to input values:\n",
    "\n",
    "- as stepped ranges (min, max, steps)\n",
    "- as multiple values [in a list]\n",
    "- as a single value [in a list]\n",
    "\n",
    "For values we don't want to use, it's ok to set it as None.\n",
    "\n",
    "NOTE: at this point you have to import from Keras the optimizer, activations, and losses you want to scan for."
   ],
   "metadata": {
    "collapsed": false,
    "pycharm": {
     "name": "#%% md\n"
    }
   }
  },
  {
   "cell_type": "markdown",
   "source": [
    "## Tasks ## \n",
    "__Excercise 1:__\n",
    " - Create a Python dictionary that contains at least the following entries:\n",
    "    * 'number_of_layers' : 1, 2\n",
    "    * 'number_of_neurons' : 8, 16, 32, 64\n",
    "    * 'dropout_value' : None, 0.1, 0.2\n",
    "    * 'optimizer' : 'Adam', 'rmsprop'\n",
    "    * 'batch_size': 1, 2, 4, 8 \n",
    "    * 'epoch_number' : 10, 20, 40, 80\n",
    "    * anything that you want to modify further (e.g. learning_rate, activation_function, loss_function, ...)\n",
    " - What is the number of different hyperparameter configurations that is considered?"
   ],
   "metadata": {
    "collapsed": false,
    "pycharm": {
     "name": "#%% md\n"
    }
   }
  },
  {
   "cell_type": "code",
   "execution_count": 11,
   "outputs": [],
   "source": [
    "# missing import statements\n",
    "from keras.optimizers import Adam, rmsprop\n",
    "from keras.activations import softmax\n",
    "from keras.losses import categorical_crossentropy, logcosh\n",
    "\n",
    "# parameter dictionary\n",
    "param = {'number_of_layers' : [1, 2],\n",
    "         'number_of_neurons' : [8, 16, 32, 64],\n",
    "         'epoch_number' : [10, 20, 40, 80],\n",
    "         'dropout_value' : [None, 0.1, 0.2],\n",
    "         'optimizer' : ['Adam', 'rmsprop'],\n",
    "         'batch_size' : [1, 2, 4, 8]}\n"
   ],
   "metadata": {
    "collapsed": false,
    "pycharm": {
     "name": "#%%\n",
     "is_executing": false
    }
   }
  },
  {
   "cell_type": "markdown",
   "source": [
    "## Tasks ## \n",
    "__Excercise 2:__\n",
    " - Modify your original Keras model (Jupyter notebook 1) such that it uses uses the values from a \n",
    " dictionary 'p'."
   ],
   "metadata": {
    "collapsed": false,
    "pycharm": {
     "name": "#%% md\n"
    }
   }
  },
  {
   "cell_type": "code",
   "execution_count": 12,
   "outputs": [],
   "source": [
    "from keras import models\n",
    "from keras import layers\n",
    "\n",
    "def build_better_model(train_data, train_targets, val_data, val_targets, p):\n",
    "    model = models.Sequential()\n",
    "    \n",
    "    # replace the hyperparameter inputs with references to dictionary p \n",
    "    model.add(layers.Dense(p['number_of_neurons'], activation='relu',\n",
    "                           input_shape=(train_data.shape[1],)))\n",
    "    \n",
    "    if p['number_of_layers'] >= 2:\n",
    "        model.add(layers.Dense(p['number_of_neurons'], activation='relu'))\n",
    "    \n",
    "    if p['dropout_value'] is not None:\n",
    "        model.add(layers.Dropout(p['dropout_value']))\n",
    "        \n",
    "    model.add(layers.Dense(1))\n",
    "    model.compile(optimizer='Adam', loss='mse', metrics=['mae'])\n",
    "    \n",
    "    # make sure history object is returned by model.fit()\n",
    "    history = model.fit(train_data, train_targets, epochs=p['epoch_number'], batch_size=p['batch_size'], verbose=0)\n",
    "    \n",
    "    return history, model"
   ],
   "metadata": {
    "collapsed": false,
    "pycharm": {
     "name": "#%%\n",
     "is_executing": false
    }
   }
  },
  {
   "cell_type": "markdown",
   "source": [
    "## 2. Use Talos for hyperparameter optimization <a name=\"two\"></a> \n",
    "\n",
    "This part is quite simple. The Talos experiment just uses the <code> Scan()<\\code> command. In the following,\n",
    "we will investigate different arguments for this routine. However, it there are only four necessary arguments\n",
    "that are required:\n",
    "* train_data (often known as 'x')\n",
    "* train_targets (often known as 'y')\n",
    "* params (the dictionary 'param' that we have created before)\n",
    "* model (the 'build_model' that we also have created before)"
   ],
   "metadata": {
    "collapsed": false
   }
  },
  {
   "cell_type": "code",
   "execution_count": 13,
   "metadata": {
    "pycharm": {
     "is_executing": false
    }
   },
   "outputs": [
    {
     "name": "stderr",
     "text": [
      "\n\n",
      "\r  0%|          | 0/10 [00:00<?, ?it/s]",
      "\u001b[A\u001b[A",
      "\n\n",
      "\r 10%|█         | 1/10 [00:08<01:12,  8.03s/it]",
      "\u001b[A\u001b[A",
      "\n\n",
      "\r 20%|██        | 2/10 [00:14<01:00,  7.51s/it]",
      "\u001b[A\u001b[A",
      "\n\n",
      "\r 30%|███       | 3/10 [00:19<00:47,  6.73s/it]",
      "\u001b[A\u001b[A",
      "\n\n",
      "\r 40%|████      | 4/10 [00:31<00:51,  8.50s/it]",
      "\u001b[A\u001b[A",
      "\n\n",
      "\r 50%|█████     | 5/10 [00:48<00:55, 11.09s/it]",
      "\u001b[A\u001b[A",
      "\n\n",
      "\r 60%|██████    | 6/10 [00:50<00:32,  8.17s/it]",
      "\u001b[A\u001b[A",
      "\n\n",
      "\r 70%|███████   | 7/10 [00:53<00:20,  6.70s/it]",
      "\u001b[A\u001b[A",
      "\n\n",
      "\r 80%|████████  | 8/10 [01:01<00:14,  7.12s/it]",
      "\u001b[A\u001b[A",
      "\n\n",
      "\r 90%|█████████ | 9/10 [01:06<00:06,  6.32s/it]",
      "\u001b[A\u001b[A",
      "\n\n",
      "\r100%|██████████| 10/10 [01:08<00:00,  4.99s/it]",
      "\u001b[A\u001b[A",
      "\r100%|██████████| 10/10 [01:08<00:00,  6.81s/it]",
      "\n"
     ],
     "output_type": "stream"
    }
   ],
   "source": [
    "scan_object = talos.Scan(x=train_data,\n",
    "                         y=train_targets,\n",
    "                         model=build_better_model,\n",
    "                         experiment_name='find_optimal_params',\n",
    "                         params=param,\n",
    "                         round_limit=10)"
   ]
  },
  {
   "cell_type": "markdown",
   "metadata": {},
   "source": [
    "### 5. Access the results through the <code>Scan</code> object <a name=\"five\"></a> "
   ]
  },
  {
   "cell_type": "code",
   "execution_count": 7,
   "metadata": {
    "pycharm": {
     "is_executing": false
    }
   },
   "outputs": [
    {
     "data": {
      "text/plain": "experiment_name                    iris\nrandom_method          uniform_mersenne\nreduction_method                   None\nreduction_interval                   50\nreduction_window                     20\nreduction_threshold                 0.2\nreduction_metric                val_acc\ncomplete_time            11/12/19/16:50\nx_shape                        (150, 4)\ny_shape                        (150, 3)\ndtype: object"
     },
     "metadata": {},
     "output_type": "execute_result",
     "execution_count": 7
    }
   ],
   "source": [
    "# accessing the results data frame\n",
    "scan_object.data.head()\n",
    "\n",
    "# accessing epoch entropy values for each round\n",
    "scan_object.learning_entropy\n",
    "\n",
    "# access the summary details\n",
    "scan_object.details"
   ]
  },
  {
   "cell_type": "markdown",
   "metadata": {},
   "source": [
    "In addition to statistics and meta-data related with the Scan, the used data (x and y) together with the saved model and model weights for each hyperparameter permutation is stored in the Scan object. "
   ]
  },
  {
   "cell_type": "code",
   "execution_count": 8,
   "metadata": {
    "pycharm": {
     "is_executing": false
    }
   },
   "outputs": [
    {
     "data": {
      "text/plain": "[[array([[-0.00723678,  0.37863952,  0.1209296 ,  0.08094662],\n         [-0.36644322,  0.22617362, -0.64746004, -0.8585334 ],\n         [-0.04812884, -0.32430816, -0.56863886, -0.19977432],\n         [ 0.5128588 , -0.48369992, -0.6818095 , -0.62469643]],\n        dtype=float32),\n  array([ 0.        , -0.12437053,  0.        ,  0.        ], dtype=float32),\n  array([[-0.4129702 ,  0.2798705 , -0.7581575 ],\n         [-0.6470166 , -0.6433501 , -0.9038856 ],\n         [-0.1842491 ,  0.16785908, -0.62306666],\n         [ 0.15558195, -0.1780613 , -0.10743612]], dtype=float32),\n  array([ 0.00209298, -0.08639025,  0.10433408], dtype=float32)],\n [array([[-0.7909057 , -0.15463507, -0.6294545 , -0.40553808],\n         [ 0.3059022 ,  0.26878148, -0.05365068, -1.0242589 ],\n         [ 0.8258557 , -0.02296412, -0.38919878,  1.1587079 ],\n         [-0.53994244, -0.77470785, -0.6885388 ,  2.4323356 ]],\n        dtype=float32),\n  array([-0.02792484, -0.20996667,  0.        , -0.99939865], dtype=float32),\n  array([[  0.4647572 ,   0.77090484,   0.6437758 ],\n         [ -0.6170844 ,   0.26377302,  -0.5533549 ],\n         [ -0.2714681 ,  -0.29252142,   0.58771765],\n         [-10.900974  ,  -0.494683  ,   1.3712877 ]], dtype=float32),\n  array([ 3.8224897,  1.6230309, -4.246    ], dtype=float32)],\n [array([[ 4.43564206e-01,  5.78400493e-02, -3.92598748e-01,\n          -4.00008500e-01,  2.34976158e-01,  8.50767046e-02,\n          -1.19102597e-02, -9.68666673e-02, -5.99721558e-02,\n          -1.74568146e-02, -1.99443072e-01, -1.74257413e-01,\n          -2.99076945e-01, -1.82789221e-01,  4.81240988e-01,\n          -1.81104794e-01,  1.08701244e-01, -9.80613520e-04,\n           1.19695783e-01,  5.55916429e-01, -9.11863074e-02,\n          -3.14094573e-02, -2.55098253e-01, -1.40796965e-02,\n          -1.10120997e-01, -3.66600752e-02,  4.78521228e-01,\n          -1.49864435e-01,  8.11759289e-03, -1.04410350e-01,\n          -1.07223224e-02, -3.76835406e-01],\n         [ 5.67704201e-01, -1.34216547e-01, -7.75259256e-01,\n          -1.29390061e-01, -4.03929681e-01, -2.42108405e-01,\n          -6.94312453e-02, -7.91115165e-02, -7.08102167e-01,\n          -6.04384005e-01, -6.93088531e-01,  8.95290971e-01,\n          -3.88841957e-01,  2.16148496e-01,  1.07922542e+00,\n           5.96597008e-02,  7.29234219e-01,  1.56114073e-02,\n          -3.97581488e-01,  8.15381944e-01, -2.90735543e-01,\n           2.59008497e-01, -3.78309637e-01, -6.54482186e-01,\n           1.22005530e-01, -4.30879891e-02,  8.01752746e-01,\n          -1.71887234e-01,  4.75050956e-02, -3.60741436e-01,\n          -1.12192035e+00,  9.39192176e-02],\n         [-1.02232504e+00, -2.02081203e-01,  7.13863552e-01,\n           3.34241867e-01, -1.51494026e-01, -1.53566077e-01,\n          -1.16868824e-01,  1.68300271e-02,  7.34930277e-01,\n           6.85278296e-01,  6.39784217e-01, -8.22622955e-01,\n          -2.63784438e-01, -1.15786493e-02, -1.02538061e+00,\n           2.37450123e-01, -1.02111602e+00, -7.53230527e-02,\n          -4.05190647e-01, -1.09760797e+00,  7.74320066e-02,\n          -8.67816806e-01,  2.09417582e-01,  4.08135831e-01,\n          -9.24944878e-03, -3.22654665e-01, -9.15019989e-01,\n           2.10137367e-02, -3.22166711e-01, -1.90141737e-01,\n           7.11594403e-01,  1.49104953e-01],\n         [-1.25935650e+00, -8.19111168e-02,  1.72352719e+00,\n           5.66026270e-02, -7.15060234e-02,  2.42018521e-01,\n           1.90630078e-01,  1.26536012e-01,  1.25461078e+00,\n           1.50617707e+00,  1.71250606e+00, -1.49027419e+00,\n          -8.33533108e-02,  1.22646391e-01, -1.81244779e+00,\n          -3.09836298e-01, -1.51211929e+00,  7.32193738e-02,\n          -3.59780848e-01, -1.54593694e+00,  5.05221248e-01,\n          -1.40851557e+00, -3.34851474e-01,  1.02513158e+00,\n           2.23463982e-01, -3.05602610e-01, -1.42696917e+00,\n           1.53919578e-01,  1.99972108e-01, -3.19434166e-01,\n           1.58037853e+00, -2.05914617e-01]], dtype=float32),\n  array([ 1.854432  ,  0.        , -1.9611722 ,  0.        ,  0.06747318,\n          0.01217731,  0.        ,  0.        , -1.0410863 , -1.1414037 ,\n         -2.5516982 ,  0.3647075 ,  0.        ,  0.        ,  2.2314255 ,\n         -0.08580822,  0.5583111 , -0.12432104,  0.        ,  1.9493023 ,\n         -0.5836725 ,  0.02126554,  0.        , -1.03841   , -0.3097298 ,\n          0.        ,  1.9617212 ,  0.        , -0.03232809,  0.        ,\n         -1.6220015 ,  0.        ], dtype=float32),\n  array([[ 1.0152440e+00,  4.3257129e-01, -2.0982957e+00],\n         [ 3.6626399e-02, -3.8820446e-02,  6.2112153e-02],\n         [-2.4750626e+00, -2.2945611e-01,  6.7429179e-01],\n         [-2.9464069e-01,  2.7828631e-01,  3.9351115e-01],\n         [-3.2867387e-02,  2.4984761e-01,  1.5659241e-01],\n         [-2.1407433e-01,  1.6967203e-01, -2.0404311e-01],\n         [ 2.4738786e-01,  2.8320804e-01,  4.0165094e-01],\n         [-3.9040855e-01, -2.3490480e-01, -3.9363265e-01],\n         [-4.0308056e+00,  1.0835287e-01,  1.5518546e-01],\n         [-4.7854972e+00,  2.8381240e-01,  5.8744895e-01],\n         [-9.7737193e-01, -4.9731907e-01,  5.2729869e-01],\n         [ 1.6180433e+00, -3.1207430e-01, -6.6507179e-01],\n         [-1.4126888e-01,  2.4331024e-01, -3.5508239e-01],\n         [ 4.0043983e-01,  9.6851736e-02, -1.7911196e-02],\n         [ 9.4339627e-01,  6.8003219e-01, -1.7164290e+00],\n         [ 2.5464648e-01,  2.2369184e-02,  2.9817349e-01],\n         [ 2.0292528e+00, -5.2119148e-01, -8.4764045e-01],\n         [ 9.5334582e-02, -2.5588736e-01, -2.4051268e-02],\n         [-9.0951145e-02, -9.8039061e-02,  1.8885073e-01],\n         [ 1.0315359e+00,  5.4380673e-01, -2.3139060e+00],\n         [-4.2482364e-01, -2.6686341e-01, -1.6930853e-01],\n         [ 8.9515150e-01, -8.7415211e-02, -1.5439480e-03],\n         [ 2.7562013e-01,  1.7105505e-01,  1.4261523e-01],\n         [-4.4586930e+00,  2.8679577e-01,  4.2068753e-01],\n         [-2.8765303e-01, -1.7977980e-01,  1.2783831e-01],\n         [ 2.2458109e-01, -9.6409380e-02, -3.2721674e-01],\n         [ 1.2017113e+00,  8.7956071e-01, -1.3662817e+00],\n         [-2.0229796e-01, -1.3128161e-02,  3.5006562e-01],\n         [ 6.5126896e-02, -7.4978024e-03,  3.3004656e-01],\n         [-2.7367628e-01,  3.9460686e-01,  3.1459805e-01],\n         [-3.7254429e+00, -3.8815878e-02,  4.8028839e-01],\n         [ 2.9472262e-02,  4.1975260e-02,  3.0242762e-01]], dtype=float32),\n  array([-2.1904266 ,  0.51246005, -0.10627618], dtype=float32)]]"
     },
     "metadata": {},
     "output_type": "execute_result",
     "execution_count": 8
    }
   ],
   "source": [
    "# accessing the saved models\n",
    "scan_object.saved_models\n",
    "\n",
    "# accessing the saved weights for models\n",
    "scan_object.saved_weights"
   ]
  },
  {
   "cell_type": "markdown",
   "metadata": {},
   "source": [
    "The Scan object can be further used, and is required, as input for Predict(), Evaluate(), and Deploy(). More about this in the corresponding sections below."
   ]
  },
  {
   "cell_type": "markdown",
   "metadata": {},
   "source": [
    "### 6. Analysing the Scan results with <code>Reporting()</code> <a name=\"six\"></a> "
   ]
  },
  {
   "cell_type": "markdown",
   "metadata": {},
   "source": [
    "In the Scan process, the results are stored round-by-round in the corresponding experiment log which is a .csv file stored in the present working directory. The Reporting() accepts as its source either a file name, or the Scan object. "
   ]
  },
  {
   "cell_type": "code",
   "execution_count": 10,
   "metadata": {
    "pycharm": {
     "is_executing": false
    }
   },
   "outputs": [],
   "source": [
    "# use Scan object as input\n",
    "analyze_object = talos.Analyze(scan_object)"
   ]
  },
  {
   "cell_type": "code",
   "execution_count": 11,
   "metadata": {
    "pycharm": {
     "is_executing": false
    }
   },
   "outputs": [
    {
     "data": {
      "text/plain": "   round_epochs  val_loss   val_acc      loss       acc  batch_size  dropout  \\\n0           200  1.032670  0.622222  1.050516  0.523810           4     0.16   \n1           200  0.139562  0.955556  0.227370  0.961905           2     0.04   \n2           200  0.067544  0.955556  0.197836  0.923810           3     0.24   \n\n   epochs  first_neuron last_activation                      loss    lr  \\\n0     200             4         softmax  categorical_crossentropy  0.10   \n1     200             4         softmax  categorical_crossentropy  5.05   \n2     200            32         softmax  categorical_crossentropy  6.04   \n\n                          optimizer weight_regulizer  \n0   <class 'keras.optimizers.Adam'>             None  \n1   <class 'keras.optimizers.Adam'>             None  \n2  <class 'keras.optimizers.Nadam'>             None  ",
      "text/html": "<div>\n<style scoped>\n    .dataframe tbody tr th:only-of-type {\n        vertical-align: middle;\n    }\n\n    .dataframe tbody tr th {\n        vertical-align: top;\n    }\n\n    .dataframe thead th {\n        text-align: right;\n    }\n</style>\n<table border=\"1\" class=\"dataframe\">\n  <thead>\n    <tr style=\"text-align: right;\">\n      <th></th>\n      <th>round_epochs</th>\n      <th>val_loss</th>\n      <th>val_acc</th>\n      <th>loss</th>\n      <th>acc</th>\n      <th>batch_size</th>\n      <th>dropout</th>\n      <th>epochs</th>\n      <th>first_neuron</th>\n      <th>last_activation</th>\n      <th>loss</th>\n      <th>lr</th>\n      <th>optimizer</th>\n      <th>weight_regulizer</th>\n    </tr>\n  </thead>\n  <tbody>\n    <tr>\n      <th>0</th>\n      <td>200</td>\n      <td>1.032670</td>\n      <td>0.622222</td>\n      <td>1.050516</td>\n      <td>0.523810</td>\n      <td>4</td>\n      <td>0.16</td>\n      <td>200</td>\n      <td>4</td>\n      <td>softmax</td>\n      <td>categorical_crossentropy</td>\n      <td>0.10</td>\n      <td>&lt;class 'keras.optimizers.Adam'&gt;</td>\n      <td>None</td>\n    </tr>\n    <tr>\n      <th>1</th>\n      <td>200</td>\n      <td>0.139562</td>\n      <td>0.955556</td>\n      <td>0.227370</td>\n      <td>0.961905</td>\n      <td>2</td>\n      <td>0.04</td>\n      <td>200</td>\n      <td>4</td>\n      <td>softmax</td>\n      <td>categorical_crossentropy</td>\n      <td>5.05</td>\n      <td>&lt;class 'keras.optimizers.Adam'&gt;</td>\n      <td>None</td>\n    </tr>\n    <tr>\n      <th>2</th>\n      <td>200</td>\n      <td>0.067544</td>\n      <td>0.955556</td>\n      <td>0.197836</td>\n      <td>0.923810</td>\n      <td>3</td>\n      <td>0.24</td>\n      <td>200</td>\n      <td>32</td>\n      <td>softmax</td>\n      <td>categorical_crossentropy</td>\n      <td>6.04</td>\n      <td>&lt;class 'keras.optimizers.Nadam'&gt;</td>\n      <td>None</td>\n    </tr>\n  </tbody>\n</table>\n</div>"
     },
     "metadata": {},
     "output_type": "execute_result",
     "execution_count": 11
    }
   ],
   "source": [
    "# access the dataframe with the results\n",
    "analyze_object.data"
   ]
  },
  {
   "cell_type": "code",
   "execution_count": 12,
   "metadata": {
    "pycharm": {
     "is_executing": false
    }
   },
   "outputs": [
    {
     "data": {
      "text/plain": "round_epochs         NaN\nval_acc        -0.997755\nbatch_size      0.830592\ndropout         0.047916\nepochs               NaN\nfirst_neuron   -0.556881\nlr             -0.996029\nName: val_loss, dtype: float64"
     },
     "metadata": {},
     "output_type": "execute_result",
     "execution_count": 12
    }
   ],
   "source": [
    "# get the number of rounds in the Scan\n",
    "analyze_object.rounds()\n",
    "\n",
    "# get the highest result for any metric\n",
    "analyze_object.high('val_acc')\n",
    "\n",
    "# get the round with the best result\n",
    "analyze_object.rounds2high('val_acc')\n",
    "\n",
    "# get the best paramaters\n",
    "analyze_object.best_params('val_acc', ['acc', 'loss', 'val_loss'])\n",
    "\n",
    "# get correlation for hyperparameters against a metric\n",
    "analyze_object.correlate('val_loss', ['acc', 'loss', 'val_loss'])"
   ]
  },
  {
   "cell_type": "markdown",
   "metadata": {},
   "source": [
    "In addition to the key obsevations, several useful plots are available for analysis of the results."
   ]
  },
  {
   "cell_type": "code",
   "execution_count": 13,
   "metadata": {
    "pycharm": {
     "is_executing": false
    }
   },
   "outputs": [
    {
     "name": "stderr",
     "text": [
      "findfont: Font family ['Verdana'] not found. Falling back to DejaVu Sans.\n"
     ],
     "output_type": "stream"
    },
    {
     "data": {
      "text/plain": "<Figure size 720x475.2 with 1 Axes>",
      "image/png": "[encoded data removed]"
     },
     "metadata": {},
     "output_type": "display_data"
    },
    {
     "data": {
      "text/plain": "<Figure size 864x475.2 with 1 Axes>",
      "image/png": "[encoded data removed]"
     },
     "metadata": {},
     "output_type": "display_data"
    },
    {
     "data": {
      "text/plain": "<Figure size 720x475.2 with 1 Axes>",
      "image/png": "[encoded data removed]"
     },
     "metadata": {},
     "output_type": "display_data"
    },
    {
     "data": {
      "text/plain": "<Figure size 720x475.2 with 1 Axes>",
      "image/png": "[encoded data removed]"
     },
     "metadata": {},
     "output_type": "display_data"
    },
    {
     "data": {
      "text/plain": "<Figure size 684x684 with 2 Axes>",
      "image/png": "[encoded data removed]"
     },
     "metadata": {},
     "output_type": "display_data"
    },
    {
     "data": {
      "text/plain": "<Figure size 1236.25x288 with 3 Axes>",
      "image/png": "[encoded data removed]"
     },
     "metadata": {},
     "output_type": "display_data"
    }
   ],
   "source": [
    "# a regression plot for two dimensions \n",
    "analyze_object.plot_regs('val_acc', 'val_loss')\n",
    "\n",
    "# line plot\n",
    "analyze_object.plot_line('val_acc')\n",
    "\n",
    "# up to two dimensional kernel density estimator\n",
    "analyze_object.plot_kde('val_acc')\n",
    "\n",
    "# a simple histogram\n",
    "analyze_object.plot_hist('val_acc', bins=50)\n",
    "\n",
    "# heatmap correlation\n",
    "analyze_object.plot_corr('val_loss', ['acc', 'loss', 'val_loss'])\n",
    "\n",
    "# a four dimensional bar grid\n",
    "analyze_object.plot_bars('batch_size', 'val_acc', 'first_neuron', 'lr')"
   ]
  },
  {
   "cell_type": "markdown",
   "metadata": {},
   "source": [
    "### 7. Evaluating Models with <code>Evaluate()</code> <a name=\"seven\"></a> "
   ]
  },
  {
   "cell_type": "markdown",
   "metadata": {},
   "source": [
    "Models can be evaluated with <code>Evaluate()</code> against a k-fold cross-validation. Ideally at least 50% of the data, or more if possible, is kept completely out of the <code>Scan</code> process and only exposed into Evaluate once one or more candidate models have been identified."
   ]
  },
  {
   "cell_type": "code",
   "execution_count": 14,
   "metadata": {
    "pycharm": {
     "is_executing": false
    }
   },
   "outputs": [
    {
     "data": {
      "text/plain": "[1.0,\n 0.9440559440559441,\n 0.8777777777777778,\n 1.0,\n 1.0,\n 1.0,\n 1.0,\n 0.9433551198257081,\n 1.0,\n 1.0]"
     },
     "metadata": {},
     "output_type": "execute_result",
     "execution_count": 14
    }
   ],
   "source": [
    "evaluate_object = talos.Evaluate(scan_object)\n",
    "evaluate_object.evaluate(x, y, folds=10, metric='val_acc', task='multi_label')"
   ]
  },
  {
   "cell_type": "markdown",
   "metadata": {},
   "source": [
    "Once a sufficiently performing model have been found, a deployment package can be easily created."
   ]
  },
  {
   "cell_type": "markdown",
   "metadata": {},
   "source": [
    "### 8. Deploying Models with <code>Deploy()</code> <a name=\"eight\"></a> "
   ]
  },
  {
   "cell_type": "markdown",
   "metadata": {},
   "source": [
    "Once the right model or models have been found, you can create a deployment package with <code>Deploy()</code> which is then easy to transfer to a production or other environment, send via email, or upload to shared remote location. Best model is automatically chosen based on a given metric ('val_acc' by default).\n",
    "\n",
    "The Deploy package is a zip file that consist of: \n",
    "\n",
    "- details of the scan\n",
    "- model weights\n",
    "- model json\n",
    "- results of the experiment\n",
    "- sample of x data\n",
    "- sample of y data\n",
    "\n",
    "The <code>Deploy</code> package can be easily restored with <code>Restore()</code> which is covered in the next section."
   ]
  },
  {
   "cell_type": "code",
   "execution_count": 15,
   "metadata": {
    "pycharm": {
     "is_executing": false
    }
   },
   "outputs": [
    {
     "name": "stdout",
     "text": [
      "Deploy package iris_deploy have been saved.\n"
     ],
     "output_type": "stream"
    }
   ],
   "source": [
    "talos.Deploy(scan_object=scan_object, model_name='iris_deploy', metric='val_acc');"
   ]
  },
  {
   "cell_type": "markdown",
   "metadata": {},
   "source": [
    "### 9. Restoring Models with <code>Restore()</code> <a name=\"nine\"></a> "
   ]
  },
  {
   "cell_type": "markdown",
   "metadata": {},
   "source": [
    "Models can be evaluated with <code>Evaluate()</code> against a k-fold cross-validation. Ideally at least 50% of the data, or more if possible, is kept completely out of the <code>Scan</code> process and only exposed into Evaluate once one or more candidate models have been identified."
   ]
  },
  {
   "cell_type": "code",
   "execution_count": 16,
   "metadata": {
    "pycharm": {
     "is_executing": false
    }
   },
   "outputs": [],
   "source": [
    "iris = talos.Restore('iris_deploy.zip')"
   ]
  },
  {
   "cell_type": "markdown",
   "metadata": {},
   "source": [
    "The <code>Restore</code> object now consists of the assets from the Scan object originally associated with the experiment, together with the model that had been picked as 'best'. The model can be immediately used for making prediction, or use in any other other way Keras model objects can be used."
   ]
  },
  {
   "cell_type": "code",
   "execution_count": 17,
   "metadata": {
    "pycharm": {
     "is_executing": false
    }
   },
   "outputs": [
    {
     "data": {
      "text/plain": "array([[8.99947166e-01, 9.97709632e-02, 2.81914050e-04],\n       [9.04120057e-10, 8.54317784e-01, 1.45682216e-01],\n       [8.99947166e-01, 9.97709632e-02, 2.81914050e-04],\n       [6.67008254e-18, 2.08236560e-01, 7.91763484e-01],\n       [6.90926584e-07, 9.49802279e-01, 5.01970612e-02],\n       [8.99947166e-01, 9.97709632e-02, 2.81914050e-04],\n       [6.61923638e-15, 4.41949427e-01, 5.58050573e-01],\n       [8.99947166e-01, 9.97709632e-02, 2.81914050e-04],\n       [6.89416483e-26, 1.52990678e-02, 9.84700918e-01],\n       [5.46807072e-26, 1.47760203e-02, 9.85224009e-01],\n       [8.99947166e-01, 9.97709632e-02, 2.81914050e-04],\n       [8.99947166e-01, 9.97709632e-02, 2.81914050e-04],\n       [1.20792322e-07, 9.32818770e-01, 6.71810433e-02],\n       [5.39756156e-11, 7.82327592e-01, 2.17672408e-01],\n       [5.99508758e-06, 9.65265155e-01, 3.47287878e-02],\n       [4.82715742e-14, 5.23173571e-01, 4.76826400e-01],\n       [4.56301594e-11, 7.77353287e-01, 2.22646758e-01],\n       [8.99947166e-01, 9.97709632e-02, 2.81914050e-04],\n       [8.99947166e-01, 9.97709632e-02, 2.81914050e-04],\n       [3.06611798e-14, 5.04476607e-01, 4.95523334e-01],\n       [8.99947166e-01, 9.97709632e-02, 2.81914050e-04],\n       [6.13269745e-23, 4.19726968e-02, 9.58027303e-01],\n       [8.99947166e-01, 9.97709632e-02, 2.81914050e-04],\n       [8.99947166e-01, 9.97709632e-02, 2.81914050e-04],\n       [1.09224525e-26, 1.15980171e-02, 9.88401949e-01],\n       [1.22787029e-07, 9.33000445e-01, 6.69994131e-02],\n       [6.15579971e-23, 4.19958457e-02, 9.58004117e-01],\n       [1.05093222e-17, 2.20262915e-01, 7.79737055e-01],\n       [1.34435773e-04, 9.79632735e-01, 2.02328451e-02],\n       [1.13412884e-20, 8.89498889e-02, 9.11050141e-01],\n       [4.33021841e-09, 8.85275781e-01, 1.14724129e-01],\n       [8.71890371e-21, 8.57204869e-02, 9.14279521e-01],\n       [8.99947166e-01, 9.97709632e-02, 2.81914050e-04],\n       [8.99947166e-01, 9.97709632e-02, 2.81914050e-04],\n       [2.36476114e-16, 3.16320777e-01, 6.83679283e-01],\n       [6.89734092e-09, 8.93330157e-01, 1.06669851e-01],\n       [4.06979494e-23, 3.95213105e-02, 9.60478723e-01],\n       [1.01824771e-04, 9.78656828e-01, 2.12413669e-02],\n       [1.16920649e-11, 7.34265387e-01, 2.65734673e-01],\n       [8.99947166e-01, 9.97709632e-02, 2.81914050e-04],\n       [1.00527389e-03, 9.84801710e-01, 1.41930366e-02],\n       [2.27968053e-06, 9.59009767e-01, 4.09879871e-02],\n       [9.97758331e-16, 3.68227452e-01, 6.31772578e-01],\n       [8.99947166e-01, 9.97709632e-02, 2.81914050e-04],\n       [8.99947166e-01, 9.97709632e-02, 2.81914050e-04],\n       [8.99947166e-01, 9.97709632e-02, 2.81914050e-04],\n       [2.94589724e-14, 5.02830148e-01, 4.97169852e-01],\n       [9.84091528e-08, 9.30507720e-01, 6.94921389e-02],\n       [4.15999903e-16, 3.36179227e-01, 6.63820744e-01],\n       [1.91507582e-03, 9.85431433e-01, 1.26535641e-02],\n       [1.29957394e-14, 4.69278395e-01, 5.30721605e-01],\n       [8.14955315e-26, 1.56879444e-02, 9.84312117e-01],\n       [9.69253899e-10, 8.55824411e-01, 1.44175515e-01],\n       [2.82468805e-11, 7.62732208e-01, 2.37267807e-01],\n       [8.99947166e-01, 9.97709632e-02, 2.81914050e-04],\n       [1.43720253e-19, 1.26303375e-01, 8.73696685e-01],\n       [2.65985705e-07, 9.41076159e-01, 5.89235686e-02],\n       [8.99947166e-01, 9.97709632e-02, 2.81914050e-04],\n       [4.43623017e-27, 1.01259230e-02, 9.89874125e-01],\n       [2.56704569e-19, 1.36572793e-01, 8.63427222e-01],\n       [2.07140582e-20, 9.67712104e-02, 9.03228760e-01],\n       [2.93141593e-17, 2.49291584e-01, 7.50708401e-01],\n       [8.99947166e-01, 9.97709632e-02, 2.81914050e-04],\n       [4.51335609e-06, 9.63530481e-01, 3.64650451e-02],\n       [9.51738343e-07, 9.52447712e-01, 4.75513861e-02],\n       [8.99947166e-01, 9.97709632e-02, 2.81914050e-04],\n       [9.92182031e-11, 7.99713492e-01, 2.00286523e-01],\n       [1.69904216e-10, 8.14229846e-01, 1.85770124e-01],\n       [8.99947166e-01, 9.97709632e-02, 2.81914050e-04],\n       [8.99947166e-01, 9.97709632e-02, 2.81914050e-04],\n       [5.74323078e-09, 8.90221715e-01, 1.09778263e-01],\n       [8.71890371e-21, 8.57204869e-02, 9.14279521e-01],\n       [4.98079316e-06, 9.64141905e-01, 3.58531550e-02],\n       [7.58693602e-24, 3.08476705e-02, 9.69152272e-01],\n       [2.10623549e-21, 7.00694323e-02, 9.29930568e-01],\n       [1.50533581e-22, 4.78621088e-02, 9.52137887e-01],\n       [8.99947166e-01, 9.97709632e-02, 2.81914050e-04],\n       [4.09193411e-02, 9.52063978e-01, 7.01667555e-03],\n       [2.27499103e-26, 1.29518174e-02, 9.87048209e-01],\n       [1.91793428e-10, 8.17390621e-01, 1.82609320e-01],\n       [9.82072606e-21, 8.71683359e-02, 9.12831664e-01],\n       [9.39204983e-23, 4.46757339e-02, 9.55324292e-01],\n       [3.40833856e-26, 1.37632759e-02, 9.86236691e-01],\n       [8.99947166e-01, 9.97709632e-02, 2.81914050e-04],\n       [3.59840078e-06, 9.62086678e-01, 3.79097834e-02],\n       [2.04040411e-24, 2.53846925e-02, 9.74615335e-01],\n       [2.82130094e-27, 9.45792347e-03, 9.90542114e-01],\n       [8.99947166e-01, 9.97709632e-02, 2.81914050e-04],\n       [3.71584706e-02, 9.55670595e-01, 7.17093749e-03],\n       [1.06574255e-07, 9.31415141e-01, 6.85847774e-02],\n       [9.84342607e-10, 8.56157303e-01, 1.43842712e-01],\n       [1.35226310e-24, 2.38768533e-02, 9.76123154e-01],\n       [1.59629087e-18, 1.73718870e-01, 8.26281071e-01],\n       [8.99947166e-01, 9.97709632e-02, 2.81914050e-04],\n       [1.53066468e-24, 2.43216064e-02, 9.75678444e-01],\n       [8.99947166e-01, 9.97709632e-02, 2.81914050e-04],\n       [9.11334411e-27, 1.12860631e-02, 9.88713920e-01],\n       [1.75646470e-10, 8.15100789e-01, 1.84899196e-01],\n       [8.99947166e-01, 9.97709632e-02, 2.81914050e-04],\n       [9.46788550e-11, 7.98412144e-01, 2.01587930e-01],\n       [8.99947166e-01, 9.97709632e-02, 2.81914050e-04],\n       [5.50780033e-23, 4.13164049e-02, 9.58683610e-01],\n       [3.45308809e-20, 1.03890970e-01, 8.96108985e-01],\n       [8.99947166e-01, 9.97709632e-02, 2.81914050e-04],\n       [1.14650250e-16, 2.91906297e-01, 7.08093703e-01],\n       [1.72988136e-33, 1.08220591e-03, 9.98917818e-01],\n       [8.53517423e-10, 8.53060782e-01, 1.46939218e-01],\n       [8.99947166e-01, 9.97709632e-02, 2.81914050e-04],\n       [2.26863514e-17, 2.41792575e-01, 7.58207381e-01],\n       [8.99947166e-01, 9.97709632e-02, 2.81914050e-04],\n       [8.99947166e-01, 9.97709632e-02, 2.81914050e-04],\n       [8.99947166e-01, 9.97709632e-02, 2.81914050e-04],\n       [1.34467498e-17, 2.26998091e-01, 7.73001969e-01],\n       [7.61472073e-19, 1.57765627e-01, 8.42234373e-01],\n       [1.97216110e-09, 8.70497108e-01, 1.29502952e-01],\n       [9.94065656e-30, 4.02560830e-03, 9.95974362e-01],\n       [8.99947166e-01, 9.97709632e-02, 2.81914050e-04],\n       [2.01298974e-25, 1.79648548e-02, 9.82035160e-01],\n       [8.99947166e-01, 9.97709632e-02, 2.81914050e-04],\n       [1.40213864e-16, 2.98573464e-01, 7.01426506e-01],\n       [8.99947166e-01, 9.97709632e-02, 2.81914050e-04],\n       [8.18503665e-09, 8.96166980e-01, 1.03833035e-01],\n       [8.99947166e-01, 9.97709632e-02, 2.81914050e-04],\n       [7.49711493e-22, 6.04119338e-02, 9.39588010e-01],\n       [8.99947166e-01, 9.97709632e-02, 2.81914050e-04],\n       [3.69707836e-23, 3.89673933e-02, 9.61032629e-01],\n       [8.99947166e-01, 9.97709632e-02, 2.81914050e-04],\n       [1.38139912e-19, 1.25627577e-01, 8.74372363e-01],\n       [8.99947166e-01, 9.97709632e-02, 2.81914050e-04],\n       [8.99947166e-01, 9.97709632e-02, 2.81914050e-04],\n       [3.77161165e-08, 9.18701887e-01, 8.12981799e-02],\n       [4.31604708e-09, 8.85217309e-01, 1.14782631e-01],\n       [8.99947166e-01, 9.97709632e-02, 2.81914050e-04],\n       [6.23770632e-07, 9.48928833e-01, 5.10704666e-02],\n       [8.99947166e-01, 9.97709632e-02, 2.81914050e-04],\n       [1.00316684e-20, 8.74293149e-02, 9.12570715e-01],\n       [9.37663572e-06, 9.67837632e-01, 3.21529843e-02],\n       [8.99947166e-01, 9.97709632e-02, 2.81914050e-04],\n       [4.01989291e-06, 9.62799251e-01, 3.71967256e-02],\n       [8.99947166e-01, 9.97709632e-02, 2.81914050e-04],\n       [1.92821579e-04, 9.80814457e-01, 1.89927146e-02],\n       [4.42937534e-07, 9.45900083e-01, 5.40994816e-02],\n       [5.15128020e-27, 1.03565864e-02, 9.89643335e-01],\n       [7.97265720e-09, 8.95735502e-01, 1.04264453e-01],\n       [4.89901050e-22, 5.68113476e-02, 9.43188667e-01],\n       [8.99947166e-01, 9.97709632e-02, 2.81914050e-04],\n       [8.99947166e-01, 9.97709632e-02, 2.81914050e-04],\n       [8.99947166e-01, 9.97709632e-02, 2.81914050e-04],\n       [7.79513620e-10, 8.51063848e-01, 1.48936152e-01],\n       [2.31560246e-17, 2.42386192e-01, 7.57613838e-01]], dtype=float32)"
     },
     "metadata": {},
     "output_type": "execute_result",
     "execution_count": 17
    }
   ],
   "source": [
    "# make predictions with the model\n",
    "iris.model.predict(x)"
   ]
  },
  {
   "cell_type": "markdown",
   "metadata": {},
   "source": [
    "In addition, for book keeping purpose, and for simplicity of sharing models with team members and other stakeholders, various attributes are included in the <code>Restore</code> object:"
   ]
  },
  {
   "cell_type": "code",
   "execution_count": 18,
   "metadata": {
    "pycharm": {
     "is_executing": false
    }
   },
   "outputs": [
    {
     "data": {
      "text/plain": "                     0                 1\n0      experiment_name              iris\n1        random_method  uniform_mersenne\n2     reduction_method               NaN\n3   reduction_interval                50\n4     reduction_window                20\n5  reduction_threshold               0.2\n6     reduction_metric           val_acc\n7        complete_time    11/12/19/16:50\n8              x_shape          (150, 4)\n9              y_shape          (150, 3)",
      "text/html": "<div>\n<style scoped>\n    .dataframe tbody tr th:only-of-type {\n        vertical-align: middle;\n    }\n\n    .dataframe tbody tr th {\n        vertical-align: top;\n    }\n\n    .dataframe thead th {\n        text-align: right;\n    }\n</style>\n<table border=\"1\" class=\"dataframe\">\n  <thead>\n    <tr style=\"text-align: right;\">\n      <th></th>\n      <th>0</th>\n      <th>1</th>\n    </tr>\n  </thead>\n  <tbody>\n    <tr>\n      <th>0</th>\n      <td>experiment_name</td>\n      <td>iris</td>\n    </tr>\n    <tr>\n      <th>1</th>\n      <td>random_method</td>\n      <td>uniform_mersenne</td>\n    </tr>\n    <tr>\n      <th>2</th>\n      <td>reduction_method</td>\n      <td>NaN</td>\n    </tr>\n    <tr>\n      <th>3</th>\n      <td>reduction_interval</td>\n      <td>50</td>\n    </tr>\n    <tr>\n      <th>4</th>\n      <td>reduction_window</td>\n      <td>20</td>\n    </tr>\n    <tr>\n      <th>5</th>\n      <td>reduction_threshold</td>\n      <td>0.2</td>\n    </tr>\n    <tr>\n      <th>6</th>\n      <td>reduction_metric</td>\n      <td>val_acc</td>\n    </tr>\n    <tr>\n      <th>7</th>\n      <td>complete_time</td>\n      <td>11/12/19/16:50</td>\n    </tr>\n    <tr>\n      <th>8</th>\n      <td>x_shape</td>\n      <td>(150, 4)</td>\n    </tr>\n    <tr>\n      <th>9</th>\n      <td>y_shape</td>\n      <td>(150, 3)</td>\n    </tr>\n  </tbody>\n</table>\n</div>"
     },
     "metadata": {},
     "output_type": "execute_result",
     "execution_count": 18
    }
   ],
   "source": [
    "# get the meta-data for the experiment\n",
    "iris.details"
   ]
  },
  {
   "cell_type": "code",
   "execution_count": 19,
   "metadata": {
    "pycharm": {
     "is_executing": false
    }
   },
   "outputs": [
    {
     "data": {
      "text/plain": "{'lr': (0.1, 10, 10),\n 'first_neuron': [4, 8, 16, 32, 64, 128],\n 'batch_size': [2, 3, 4],\n 'epochs': [200],\n 'dropout': (0, 0.4, 10),\n 'optimizer': [keras.optimizers.Adam, keras.optimizers.Nadam],\n 'loss': ['categorical_crossentropy'],\n 'last_activation': ['softmax'],\n 'weight_regulizer': [None]}"
     },
     "metadata": {},
     "output_type": "execute_result",
     "execution_count": 19
    }
   ],
   "source": [
    "# get the hyperparameter space boundary\n",
    "iris.params"
   ]
  },
  {
   "cell_type": "code",
   "execution_count": null,
   "metadata": {},
   "outputs": [],
   "source": [
    "# sample of x and y data\n",
    "iris.x\n",
    "iris.y"
   ]
  },
  {
   "cell_type": "code",
   "execution_count": 20,
   "metadata": {
    "pycharm": {
     "is_executing": false
    }
   },
   "outputs": [
    {
     "data": {
      "text/plain": "   round_epochs  val_loss   val_acc      loss       acc  batch_size  dropout  \\\n0           200  1.032670  0.622222  1.050516  0.523810           4     0.16   \n1           200  0.139562  0.955556  0.227370  0.961905           2     0.04   \n2           200  0.067544  0.955556  0.197836  0.923810           3     0.24   \n\n   epochs  first_neuron last_activation                    loss.1    lr  \\\n0     200             4         softmax  categorical_crossentropy  0.10   \n1     200             4         softmax  categorical_crossentropy  5.05   \n2     200            32         softmax  categorical_crossentropy  6.04   \n\n                          optimizer  weight_regulizer  Unnamed: 15  \n0   <class 'keras.optimizers.Adam'>               NaN            0  \n1   <class 'keras.optimizers.Adam'>               NaN            1  \n2  <class 'keras.optimizers.Nadam'>               NaN            2  ",
      "text/html": "<div>\n<style scoped>\n    .dataframe tbody tr th:only-of-type {\n        vertical-align: middle;\n    }\n\n    .dataframe tbody tr th {\n        vertical-align: top;\n    }\n\n    .dataframe thead th {\n        text-align: right;\n    }\n</style>\n<table border=\"1\" class=\"dataframe\">\n  <thead>\n    <tr style=\"text-align: right;\">\n      <th></th>\n      <th>round_epochs</th>\n      <th>val_loss</th>\n      <th>val_acc</th>\n      <th>loss</th>\n      <th>acc</th>\n      <th>batch_size</th>\n      <th>dropout</th>\n      <th>epochs</th>\n      <th>first_neuron</th>\n      <th>last_activation</th>\n      <th>loss.1</th>\n      <th>lr</th>\n      <th>optimizer</th>\n      <th>weight_regulizer</th>\n      <th>Unnamed: 15</th>\n    </tr>\n  </thead>\n  <tbody>\n    <tr>\n      <th>0</th>\n      <td>200</td>\n      <td>1.032670</td>\n      <td>0.622222</td>\n      <td>1.050516</td>\n      <td>0.523810</td>\n      <td>4</td>\n      <td>0.16</td>\n      <td>200</td>\n      <td>4</td>\n      <td>softmax</td>\n      <td>categorical_crossentropy</td>\n      <td>0.10</td>\n      <td>&lt;class 'keras.optimizers.Adam'&gt;</td>\n      <td>NaN</td>\n      <td>0</td>\n    </tr>\n    <tr>\n      <th>1</th>\n      <td>200</td>\n      <td>0.139562</td>\n      <td>0.955556</td>\n      <td>0.227370</td>\n      <td>0.961905</td>\n      <td>2</td>\n      <td>0.04</td>\n      <td>200</td>\n      <td>4</td>\n      <td>softmax</td>\n      <td>categorical_crossentropy</td>\n      <td>5.05</td>\n      <td>&lt;class 'keras.optimizers.Adam'&gt;</td>\n      <td>NaN</td>\n      <td>1</td>\n    </tr>\n    <tr>\n      <th>2</th>\n      <td>200</td>\n      <td>0.067544</td>\n      <td>0.955556</td>\n      <td>0.197836</td>\n      <td>0.923810</td>\n      <td>3</td>\n      <td>0.24</td>\n      <td>200</td>\n      <td>32</td>\n      <td>softmax</td>\n      <td>categorical_crossentropy</td>\n      <td>6.04</td>\n      <td>&lt;class 'keras.optimizers.Nadam'&gt;</td>\n      <td>NaN</td>\n      <td>2</td>\n    </tr>\n  </tbody>\n</table>\n</div>"
     },
     "metadata": {},
     "output_type": "execute_result",
     "execution_count": 20
    }
   ],
   "source": [
    "# the results dataframe\n",
    "iris.results"
   ]
  },
  {
   "cell_type": "markdown",
   "metadata": {},
   "source": [
    "\n",
    "<img align=left src='https://img00.deviantart.net/920c/i/2014/137/a/2/pinkie_pie_thats_all_folks_by_dan232323-d7ipnd4.jpg' width=400>"
   ]
  },
  {
   "cell_type": "markdown",
   "metadata": {},
   "source": [
    "Back to the repository page >> http://github.com/autonomio/talos"
   ]
  }
 ],
 "metadata": {
  "kernelspec": {
   "display_name": "Python 3",
   "language": "python",
   "name": "python3"
  },
  "language_info": {
   "codemirror_mode": {
    "name": "ipython",
    "version": 3
   },
   "file_extension": ".py",
   "mimetype": "text/x-python",
   "name": "python",
   "nbconvert_exporter": "python",
   "pygments_lexer": "ipython3",
   "version": "3.6.8"
  },
  "pycharm": {
   "stem_cell": {
    "cell_type": "raw",
    "source": [],
    "metadata": {
     "collapsed": false
    }
   }
  }
 },
 "nbformat": 4,
 "nbformat_minor": 2
}