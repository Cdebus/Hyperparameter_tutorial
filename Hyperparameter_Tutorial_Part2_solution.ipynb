{
 "cells": [
  {
   "cell_type": "markdown",
   "metadata": {},
   "source": [
    "# HDS-LEE Course on Hyperparameter Optimization - Part 2\n",
    "\n",
    "<img src='https://raw.githubusercontent.com/DLR-SC/Hyperparameter_tutorial/master/img/hds_lee_title.png' width=500px>\n",
    "\n",
    "This notebook summarizes several examples from the Talos GitHub repository. The original examples can be found\n",
    "on https://github.com/autonomio/talos/tree/master/examples\n",
    "\n",
    "Note: The output of this notebook is not reproducible. This means that **the final\n",
    "output changes with every usage of the code**. There are two main reasons for this\n",
    "stochastic behavior:\n",
    "* the traing set is quite small (400 samples) to reduce computing time (this is a tutorial so that\n",
    "there is a limited amount of time)\n",
    "* we use a 'random hyperparameter search strategy' and only cover a small percentage \n",
    "of parameter configurations (about 1%) to reduce computing time so that the output, of course, is\n",
    "not deterministic.\n",
    "\n",
    "In practice, this stochastic behavior should be strongly reduced since the number\n",
    "of training samples is usually much larger and the 'random hyperparameter search strategy'\n",
    "usually covers a larger percentage of hyperparameter configurations. "
   ]
  },
  {
   "cell_type": "code",
   "execution_count": 1,
   "metadata": {},
   "outputs": [],
   "source": [
    "%matplotlib inline\n",
    "# required Talos __version__ = \"0.6.6\"\n",
    "import talos\n",
    "import numpy as np"
   ]
  },
  {
   "cell_type": "markdown",
   "source": [
    "## Overview\n",
    "\n",
    "The aim of the 2nd tutorial is the following:\n",
    "\n",
    "* Introduction of Talos\n",
    "* Use Talos for machine-assisted hyperparameter optimization of the Boston house pricing problem (1st Jupyter notebook).\n",
    "Also note that there is a large variety of hyperparameter tuning libraries and Talos is only\n",
    "one viable option (another recommend alternative is Keras Tuner)\n",
    "* Give general guidelines on hyperparameter optimization\n",
    "\n",
    "### Table of Contents\n",
    "\n",
    "##### 1. <a href=#one>Introduction of Talos</a>\n",
    "##### 2. <a href=#two>Use Talos for hyperparameter optimization </a>\n",
    "##### 3. <a href=#three>Guidelines on hyperparameter optimization</a>"
   ],
   "metadata": {
    "collapsed": false,
    "pycharm": {
     "name": "#%% md\n"
    }
   }
  },
  {
   "cell_type": "markdown",
   "metadata": {},
   "source": [
    "## 1. Introduction of Talos <a name=\"one\"></a>"
   ]
  },
  {
   "cell_type": "markdown",
   "metadata": {
    "pycharm": {
     "is_executing": false,
     "name": "#%% md\n"
    }
   },
   "source": [
    "### Restore the original Keras code \n",
    "\n",
    "We start with the code that we have already used in the first notebook"
   ]
  },
  {
   "cell_type": "code",
   "execution_count": 2,
   "outputs": [],
   "source": [
    "from keras.datasets import boston_housing\n",
    "\n",
    "# load the data\n",
    "(train_data, train_targets), (test_data, test_targets) =  boston_housing.load_data()\n",
    "\n",
    "# data normalization\n",
    "mean = train_data.mean(axis=0)\n",
    "train_data -= mean\n",
    "std = train_data.std(axis=0)\n",
    "train_data /= std\n",
    "\n",
    "test_data -= mean\n",
    "test_data /= std"
   ],
   "metadata": {
    "collapsed": false,
    "pycharm": {
     "name": "#%%\n"
    }
   }
  },
  {
   "cell_type": "markdown",
   "source": [
    "### Model preparation\n",
    "\n",
    "Talos works with any Keras model, without changing the structure of the model in any way.  \n",
    "The only difference in the Keras model is that a parameter is not set explicitly as before, e.g.\n",
    "\n",
    "<pre><code> model.add(layers.Dense(32, activation='relu'))    </code></pre>\n",
    "\n",
    "but instead taken from a dictionary, e.g.\n",
    "\n",
    "<pre><code>\n",
    "params = {'number_of_neurons' : [4, 6, 7, 8], 'activation' : ['relu'] }\n",
    "\n",
    "model.add(layers.Dense(params['number_of_neurons'], activation=params['activation']))    \n",
    "</code></pre>\n",
    "\n",
    "Afterwards, this dictionary and the model will be passed to Talos. In the dictionary we have \n",
    "three different ways to input values:\n",
    "\n",
    "- as stepped ranges (min, max, steps) if the parameter is a floating point number\n",
    "- as multiple values [in a list]\n",
    "- as a single value [in a list]\n",
    "\n",
    "For values we don't want to use, it's ok to set it as None."
   ],
   "metadata": {
    "collapsed": false,
    "pycharm": {
     "name": "#%% md\n"
    }
   }
  },
  {
   "cell_type": "markdown",
   "source": [
    "## Tasks ## \n",
    "__Excercise 1:__\n",
    " - Create a Python dictionary that contains at least the following entries:\n",
    "    * 'number_of_layers' : 1, 2\n",
    "    * 'number_of_neurons' : 8, 16, 32, 64\n",
    "    * 'dropout_value' : None, 0.1, 0.2\n",
    "    * 'optimizer' : 'Adam', 'rmsprop'\n",
    "    * 'batch_size': 1, 2, 4, 8 \n",
    "    * 'epoch_number' : 10, 20, 40, 80\n",
    "    * anything that you want to modify further (e.g. learning_rate, activation_function, loss_function, ...)\n",
    " - What is the number of different hyperparameter configurations that is considered in the first six bullet points? \n",
    " Answer: 768 different configurations."
   ],
   "metadata": {
    "collapsed": false,
    "pycharm": {
     "name": "#%% md\n"
    }
   }
  },
  {
   "cell_type": "code",
   "execution_count": 26,
   "outputs": [],
   "source": [
    "# parameter dictionary\n",
    "param = {'number_of_layers' : [1, 2],\n",
    "         'number_of_neurons' : (23, 25, 4),\n",
    "         'epoch_number' : [10, 20, 40, 80],\n",
    "         'dropout_value' : [None, 0.1, 0.2],\n",
    "         'optimizer' : ['Adam', 'rmsprop'],\n",
    "         'batch_size' : [1, 2, 4, 8]}\n"
   ],
   "metadata": {
    "collapsed": false,
    "pycharm": {
     "name": "#%%\n"
    }
   }
  },
  {
   "cell_type": "markdown",
   "source": [
    "## Tasks ## \n",
    "__Excercise 2:__\n",
    " - Modify your original Keras model (Jupyter notebook 1) such that it uses uses the values from a \n",
    " dictionary 'p'."
   ],
   "metadata": {
    "collapsed": false,
    "pycharm": {
     "name": "#%% md\n"
    }
   }
  },
  {
   "cell_type": "code",
   "execution_count": 23,
   "outputs": [],
   "source": [
    "from keras import models\n",
    "from keras import layers\n",
    "\n",
    "# note: this build model works for a limited number of hidden layers, there are other options in Talos\n",
    "# if you are interested in a large number of layers (see: Outlook at the end of this tutorial)\n",
    "def build_better_model(x, y, val_data, val_targets, p):\n",
    "    model = models.Sequential()\n",
    "    \n",
    "    # replace the hyperparameter inputs with references to dictionary p \n",
    "    model.add(layers.Dense(p['number_of_neurons'], activation='relu',\n",
    "                           input_shape=(x.shape[1],)))\n",
    "    \n",
    "    if p['number_of_layers'] >= 2:\n",
    "        model.add(layers.Dense(p['number_of_neurons'], activation='relu'))\n",
    "    \n",
    "    if p['dropout_value'] is not None:\n",
    "        model.add(layers.Dropout(p['dropout_value']))\n",
    "        \n",
    "    model.add(layers.Dense(1))\n",
    "    model.compile(optimizer=p['optimizer'], loss='mse', metrics=['mae'])\n",
    "    \n",
    "    # make sure history object is returned by model.fit()\n",
    "    history = model.fit(x, y, epochs=p['epoch_number'], batch_size=p['batch_size'], verbose=0)\n",
    "    \n",
    "    return history, model"
   ],
   "metadata": {
    "collapsed": false,
    "pycharm": {
     "name": "#%%\n"
    }
   }
  },
  {
   "cell_type": "markdown",
   "source": [
    "## 2. Use Talos for hyperparameter optimization <a name=\"two\"></a> \n",
    "\n",
    "This part is quite simple. The Talos experiment just uses the <code> Scan()</code> command. In the following,\n",
    "we will investigate different arguments for this routine. However, there are only five necessary arguments\n",
    "that are required:\n",
    "* train_data (often known as 'x')\n",
    "* train_targets (often known as 'y')\n",
    "* params (the dictionary 'param' that we have created before)\n",
    "* model (the 'build_model' that we also have created before)\n",
    "* experiment_name (name of a folder in which the output, a csv-file, is stored)"
   ],
   "metadata": {
    "collapsed": false
   }
  },
  {
   "cell_type": "code",
   "execution_count": 27,
   "metadata": {},
   "outputs": [
    {
     "name": "stderr",
     "output_type": "stream",
     "text": [
      "100%|██████████| 10/10 [00:43<00:00,  4.34s/it]\n"
     ]
    }
   ],
   "source": [
    "scan_object = talos.Scan(x=train_data,\n",
    "                         y=train_targets,\n",
    "                         model=build_better_model,\n",
    "                         experiment_name='find_optimal_params',\n",
    "                         params=param,\n",
    "                         round_limit=10)"
   ]
  },
  {
   "cell_type": "markdown",
   "source": [
    "If all different parameter configurations from the dictionary are used, the routine <code> Scan()</code> has to\n",
    "evaluate 768 different models. Depending on the neural network architecture and the number of training samples,\n",
    "this can be very time-consuming.\n",
    "\n",
    "As a solution, Talos offers several routines to limit the number of model configurations that is evaluated. Two useful\n",
    "commands of <code> Scan()</code> for this purpose are:\n",
    "\n",
    "* <code> round_limit=10</code> which limits the number of model evaluations to the specified integer value (e.g. \n",
    "10 model evaluations in this example).\n",
    "* <code> fraction_limit = 0.1</code> specifies the fraction of `params` that will be tested  (e.g. 10% of the \n",
    "configurations in this example).   "
   ],
   "metadata": {
    "collapsed": false,
    "pycharm": {
     "name": "#%% md\n"
    }
   }
  },
  {
   "cell_type": "markdown",
   "metadata": {},
   "source": [
    "### Access the results through the <code>Scan</code> object "
   ]
  },
  {
   "cell_type": "markdown",
   "source": [
    "Using <code> round_limit=10</code> we have investigated only ten parameter configurations (about 1% of \n",
    "all possible configurations) since the time\n",
    "for this tutorial is limited. But what are ten configurations that have been used and what is their\n",
    "performance?\n",
    "\n",
    "For this purpose, the results of the scan object can be directly accessed:"
   ],
   "metadata": {
    "collapsed": false,
    "pycharm": {
     "name": "#%% md\n"
    }
   }
  },
  {
   "cell_type": "code",
   "execution_count": 28,
   "outputs": [
    {
     "data": {
      "text/plain": "   round_epochs       loss       mae  batch_size  dropout_value  epoch_number  \\\n0            40   9.569419  2.165284           4            NaN            40   \n1            20  66.009811  6.094244           8            0.2            20   \n2            40  17.255424  2.837720           4            NaN            40   \n3            40  26.520630  3.672590           4            0.1            40   \n4            80  13.284269  2.493291           1            0.1            80   \n5            20  62.965939  6.020347           8            0.1            20   \n6            10  42.026630  4.755778           8            0.1            10   \n7            80  17.721411  3.056381           2            0.2            80   \n8            80  13.134992  2.622435           8            0.1            80   \n9            20  10.877137  2.115434           1            NaN            20   \n\n   number_of_layers  number_of_neurons optimizer  \n0                 2                 24      Adam  \n1                 1                 23   rmsprop  \n2                 1                 24   rmsprop  \n3                 1                 23      Adam  \n4                 2                 23   rmsprop  \n5                 1                 23      Adam  \n6                 2                 24      Adam  \n7                 1                 23      Adam  \n8                 2                 24      Adam  \n9                 2                 23   rmsprop  ",
      "text/html": "<div>\n<style scoped>\n    .dataframe tbody tr th:only-of-type {\n        vertical-align: middle;\n    }\n\n    .dataframe tbody tr th {\n        vertical-align: top;\n    }\n\n    .dataframe thead th {\n        text-align: right;\n    }\n</style>\n<table border=\"1\" class=\"dataframe\">\n  <thead>\n    <tr style=\"text-align: right;\">\n      <th></th>\n      <th>round_epochs</th>\n      <th>loss</th>\n      <th>mae</th>\n      <th>batch_size</th>\n      <th>dropout_value</th>\n      <th>epoch_number</th>\n      <th>number_of_layers</th>\n      <th>number_of_neurons</th>\n      <th>optimizer</th>\n    </tr>\n  </thead>\n  <tbody>\n    <tr>\n      <th>0</th>\n      <td>40</td>\n      <td>9.569419</td>\n      <td>2.165284</td>\n      <td>4</td>\n      <td>NaN</td>\n      <td>40</td>\n      <td>2</td>\n      <td>24</td>\n      <td>Adam</td>\n    </tr>\n    <tr>\n      <th>1</th>\n      <td>20</td>\n      <td>66.009811</td>\n      <td>6.094244</td>\n      <td>8</td>\n      <td>0.2</td>\n      <td>20</td>\n      <td>1</td>\n      <td>23</td>\n      <td>rmsprop</td>\n    </tr>\n    <tr>\n      <th>2</th>\n      <td>40</td>\n      <td>17.255424</td>\n      <td>2.837720</td>\n      <td>4</td>\n      <td>NaN</td>\n      <td>40</td>\n      <td>1</td>\n      <td>24</td>\n      <td>rmsprop</td>\n    </tr>\n    <tr>\n      <th>3</th>\n      <td>40</td>\n      <td>26.520630</td>\n      <td>3.672590</td>\n      <td>4</td>\n      <td>0.1</td>\n      <td>40</td>\n      <td>1</td>\n      <td>23</td>\n      <td>Adam</td>\n    </tr>\n    <tr>\n      <th>4</th>\n      <td>80</td>\n      <td>13.284269</td>\n      <td>2.493291</td>\n      <td>1</td>\n      <td>0.1</td>\n      <td>80</td>\n      <td>2</td>\n      <td>23</td>\n      <td>rmsprop</td>\n    </tr>\n    <tr>\n      <th>5</th>\n      <td>20</td>\n      <td>62.965939</td>\n      <td>6.020347</td>\n      <td>8</td>\n      <td>0.1</td>\n      <td>20</td>\n      <td>1</td>\n      <td>23</td>\n      <td>Adam</td>\n    </tr>\n    <tr>\n      <th>6</th>\n      <td>10</td>\n      <td>42.026630</td>\n      <td>4.755778</td>\n      <td>8</td>\n      <td>0.1</td>\n      <td>10</td>\n      <td>2</td>\n      <td>24</td>\n      <td>Adam</td>\n    </tr>\n    <tr>\n      <th>7</th>\n      <td>80</td>\n      <td>17.721411</td>\n      <td>3.056381</td>\n      <td>2</td>\n      <td>0.2</td>\n      <td>80</td>\n      <td>1</td>\n      <td>23</td>\n      <td>Adam</td>\n    </tr>\n    <tr>\n      <th>8</th>\n      <td>80</td>\n      <td>13.134992</td>\n      <td>2.622435</td>\n      <td>8</td>\n      <td>0.1</td>\n      <td>80</td>\n      <td>2</td>\n      <td>24</td>\n      <td>Adam</td>\n    </tr>\n    <tr>\n      <th>9</th>\n      <td>20</td>\n      <td>10.877137</td>\n      <td>2.115434</td>\n      <td>1</td>\n      <td>NaN</td>\n      <td>20</td>\n      <td>2</td>\n      <td>23</td>\n      <td>rmsprop</td>\n    </tr>\n  </tbody>\n</table>\n</div>"
     },
     "execution_count": 28,
     "metadata": {},
     "output_type": "execute_result"
    }
   ],
   "source": [
    "# accessing the results data frame\n",
    "scan_object.data\n"
   ],
   "metadata": {
    "collapsed": false,
    "pycharm": {
     "name": "#%%\n"
    }
   }
  },
  {
   "cell_type": "markdown",
   "source": [
    "The output on my local computer is (the results should differ on your machine since you \n",
    "consider ten other random parameter configurations)\n",
    "\n",
    "<img src='https://raw.githubusercontent.com/DLR-SC/Hyperparameter_tutorial/master/img/talos_scan_output.png' \n",
    "width=1000px>\n",
    "\n",
    "There are several hyperparameter configurations with a mean average error (mae) in the range 2-3 \n",
    "(i.e. the average house pricing error is 2000-3000 dollar).\n",
    "Since the number of training samples is only 400, the results of the mean average error \n",
    "have a high variance and should not be overestimated. Nevertheless, we already obtain a certain \n",
    "understanding of a sensible size of some of the hyperparameters (e.g. 10 epochs is certainly not\n",
    " enough since 'mae' becomes large then).\n",
    " "
   ],
   "metadata": {
    "collapsed": false,
    "pycharm": {
     "name": "#%% md\n"
    }
   }
  },
  {
   "cell_type": "markdown",
   "source": [
    "You already noticed that your results differ from mine. This is due to the usage of a 'random search'\n",
    "strategy in Talos. More information on the search strategy are given \n",
    "in the summary details using <code>scan_object.details</code>.  "
   ],
   "metadata": {
    "collapsed": false,
    "pycharm": {
     "name": "#%% md\n"
    }
   }
  },
  {
   "cell_type": "code",
   "execution_count": 7,
   "outputs": [
    {
     "data": {
      "text/plain": "experiment_name        find_optimal_params\nrandom_method             uniform_mersenne\nreduction_method                      None\nreduction_interval                      50\nreduction_window                        20\nreduction_threshold                    0.2\nreduction_metric                   val_acc\ncomplete_time               11/11/20/08:39\nx_shape                          (404, 13)\ny_shape                             (404,)\ndtype: object"
     },
     "execution_count": 7,
     "metadata": {},
     "output_type": "execute_result"
    }
   ],
   "source": [
    "# access the summary details\n",
    "scan_object.details\n"
   ],
   "metadata": {
    "collapsed": false,
    "pycharm": {
     "name": "#%%\n"
    }
   }
  },
  {
   "cell_type": "markdown",
   "source": [
    "From the 768 possible hyperparameter configurations Talos considers a random subset\n",
    "of ten configurations (due to <code>round_limit=10</code>). This random subset \n",
    "is chosen with a 'Mersenne Twister' pseudorandom number generator. Other possible\n",
    "random choices in Talos are, for instance, 'Halton' or 'Sobol' quasi Monte Carlo sequences.\n",
    "\n",
    "Note: If there is no parameter such as  <code> round_limit=10</code> or\n",
    "<code> fraction_limit = 0.1</code> the default optimization strategy \n",
    "is called 'grid search'. This means that all hyperparameter permutations in \n",
    "a given dictionary are processed. In most cases, this is not recommended\n",
    "for anything but very small permutation spaces. \n",
    "Therefore, better use a 'random search' routine."
   ],
   "metadata": {
    "collapsed": false,
    "pycharm": {
     "name": "#%% md\n"
    }
   }
  },
  {
   "cell_type": "markdown",
   "metadata": {},
   "source": [
    "In addition to statistics and meta-data related with the Scan, the used data (x and y) \n",
    "together with the saved model and model weights for each hyperparameter permutation is stored in the Scan object. "
   ]
  },
  {
   "cell_type": "code",
   "execution_count": 8,
   "outputs": [],
   "source": [
    "# accessing the saved models which returns a list of models\n",
    "# scan_object.saved_models"
   ],
   "metadata": {
    "collapsed": false,
    "pycharm": {
     "name": "#%%\n"
    }
   }
  },
  {
   "cell_type": "code",
   "execution_count": 9,
   "metadata": {},
   "outputs": [
    {
     "data": {
      "text/plain": "[array([[ 0.4572197 , -0.57729185,  0.03545468, -0.26977214, -0.6903061 ,\n         -0.92146623,  0.28646943, -1.1215086 ,  0.10302588, -1.2664173 ,\n         -0.7747915 , -0.8504416 ,  0.24310534, -1.3153507 ,  0.39551902,\n          0.01803737],\n        [ 0.11464552, -1.0695714 , -0.44850242, -1.3085634 , -0.3025799 ,\n         -0.32590348, -0.05396897,  0.30480993, -0.32448095, -0.16104312,\n          0.39208782, -0.4312495 ,  0.4771898 , -0.8443642 ,  0.36161336,\n          0.5825363 ],\n        [ 0.06359161,  0.29738206,  0.26472747,  0.21494558, -0.30757836,\n         -0.07802995,  0.1726208 , -0.13211992, -0.42327228, -0.32277122,\n         -0.76658964, -0.56832194,  0.6999719 ,  0.57638913, -0.27366447,\n          0.14433612],\n        [ 0.06480318, -0.00157617, -1.425887  ,  0.6234273 ,  0.68571836,\n          0.1147132 ,  0.00646527,  0.12496807,  0.19049963,  0.62468463,\n         -1.0407993 ,  0.38887212,  0.86834556, -0.9810049 ,  0.04331977,\n         -1.381452  ],\n        [ 0.27228057,  0.14493297, -0.65258026,  0.41807467, -0.5266684 ,\n          0.0490059 ,  0.07998827, -0.5084848 ,  0.36943135,  0.1453514 ,\n         -0.6710379 , -0.64219505, -0.58913374,  0.2474253 ,  0.3103178 ,\n         -0.02631821],\n        [ 0.23524554,  0.0493628 , -1.29383   ,  0.5417393 ,  0.2825382 ,\n          0.29730266,  0.35865778,  0.5329639 ,  0.18358865,  0.54326606,\n          0.42623764,  1.1114193 ,  0.09467699,  0.34619927, -0.03255618,\n          0.7006626 ],\n        [-0.08442303,  0.81805474,  0.51405567,  0.7807961 , -0.28111532,\n          0.55853784, -0.16242597, -0.541191  , -0.3536044 , -0.34866247,\n          0.01208156,  0.32227907, -0.20005457, -0.0589469 ,  0.37190455,\n         -0.43286958],\n        [-0.0610729 , -0.82245225,  0.43787283, -1.0188863 ,  0.05143768,\n         -1.031107  ,  0.05040541, -0.26965556,  0.21065679, -0.1930483 ,\n          0.11795001, -0.30235067, -0.03653618, -0.26769304, -0.14934492,\n         -0.43468583],\n        [-0.0714732 ,  0.5245305 ,  0.53560674,  0.3764767 , -0.08091404,\n          0.40941045,  0.30916578, -0.63495725,  0.1451604 , -0.958767  ,\n         -0.6127366 , -0.26139882,  0.52407455, -0.417575  ,  0.04489881,\n          0.4403275 ],\n        [ 0.0576715 ,  0.11698548, -0.03638764,  0.44660226,  0.363391  ,\n          0.35513437, -0.01935532, -1.1210446 ,  0.22664905, -0.6705791 ,\n         -0.6464151 ,  0.03252903,  0.4597445 , -0.20600924,  0.02580317,\n          0.11963087],\n        [ 0.15797222, -0.2433567 ,  0.2131129 ,  0.16023196,  0.3377507 ,\n          0.16823633, -0.03055984, -0.82850975, -0.08897049, -0.32000425,\n         -0.16309175, -0.14270364, -0.32205722, -0.47630683, -0.25734714,\n         -0.37494117],\n        [-0.19372866,  0.09349184, -0.31883407, -0.30372545,  1.0640541 ,\n          0.29051885, -0.2305026 ,  0.8190565 , -0.14807749,  0.26930514,\n          0.64059144,  1.1905869 , -0.0589864 ,  0.66301554, -0.36129755,\n          0.10566694],\n        [ 0.17559649, -0.39912793,  0.47416294, -0.318105  , -1.1291302 ,\n         -1.0098722 ,  0.40562752, -0.20677187,  0.2680095 , -0.70449436,\n          0.1810585 , -0.6831157 , -1.0913211 , -0.6732533 , -0.3607035 ,\n         -1.0334222 ]], dtype=float32),\n array([-0.404144  ,  0.9183509 ,  1.1265668 ,  1.076535  ,  1.1312746 ,\n         0.7999746 , -0.35826203,  0.93293023, -0.41189766,  1.2676816 ,\n         0.83265066,  1.23534   ,  0.7995712 ,  1.2661005 , -0.17276101,\n         0.9328387 ], dtype=float32),\n array([[-0.35935444],\n        [ 1.1558169 ],\n        [ 0.8890159 ],\n        [ 0.69465536],\n        [ 0.7498572 ],\n        [ 1.2799342 ],\n        [-0.41492146],\n        [ 0.83860934],\n        [-0.41361296],\n        [ 0.9093492 ],\n        [ 1.0909295 ],\n        [ 0.8322855 ],\n        [ 1.3291941 ],\n        [ 0.97614396],\n        [ 0.1683467 ],\n        [ 1.0410101 ]], dtype=float32),\n array([1.1263349], dtype=float32)]"
     },
     "execution_count": 9,
     "metadata": {},
     "output_type": "execute_result"
    }
   ],
   "source": [
    "# accessing the saved weights for models which returns a list of weights\n",
    "model_weights = scan_object.saved_weights\n",
    "\n",
    "# weights of first model \n",
    "model_weights[0]"
   ]
  },
  {
   "cell_type": "markdown",
   "metadata": {},
   "source": [
    "The Scan object can be further used, and is required, as input for Predict(), Evaluate(), and Deploy(). \n",
    "More about this in the corresponding sections below."
   ]
  },
  {
   "cell_type": "markdown",
   "metadata": {},
   "source": [
    "### Analysing the Scan results with <code>Reporting()</code> "
   ]
  },
  {
   "cell_type": "markdown",
   "metadata": {},
   "source": [
    "In the Scan process, the results are stored round-by-round in the corresponding experiment log which is a .csv file stored in the \n",
    "output directory (which is './find_optimal_params' our case). The Reporting() \n",
    "accepts as its source either a file name, or the Scan object. "
   ]
  },
  {
   "cell_type": "code",
   "execution_count": 10,
   "metadata": {},
   "outputs": [],
   "source": [
    "# use Scan object as input\n",
    "analyze_object = talos.Analyze(scan_object)"
   ]
  },
  {
   "cell_type": "code",
   "execution_count": 11,
   "outputs": [
    {
     "data": {
      "text/plain": "10"
     },
     "execution_count": 11,
     "metadata": {},
     "output_type": "execute_result"
    }
   ],
   "source": [
    "# get the number of rounds in the Scan\n",
    "analyze_object.rounds()"
   ],
   "metadata": {
    "collapsed": false,
    "pycharm": {
     "name": "#%%\n"
    }
   }
  },
  {
   "cell_type": "code",
   "execution_count": 12,
   "outputs": [
    {
     "data": {
      "text/plain": "1.995585560798645"
     },
     "execution_count": 12,
     "metadata": {},
     "output_type": "execute_result"
    }
   ],
   "source": [
    "# get the lowest result for any metric (if lower is better)\n",
    "analyze_object.low('mae')"
   ],
   "metadata": {
    "collapsed": false,
    "pycharm": {
     "name": "#%%\n"
    }
   }
  },
  {
   "cell_type": "markdown",
   "source": [
    "Next, we want to know the parameters of our best n=3 parameter runs. \n",
    "For this purpose we use <code> best_params</code>. It is alluring to consider the best \n",
    "result only (i.e. n=1 in the following cell) but keep in mind that due to the high\n",
    "variance in the result, a sequence of more models should be considered.\n",
    "\n",
    "The signature of <code> best_params()</code> is the following:\n",
    "* The first argument (here 'mae') is the metric that is considered.\n",
    "* The second argument is a list of metrics / loss functions that is not required here\n",
    "* The third argument gives the 'n' best results\n",
    "* Fourth argument: ascending | bool | Set to True when `metric` is to be minimized eg. loss or mae"
   ],
   "metadata": {
    "collapsed": false,
    "pycharm": {
     "name": "#%% md\n"
    }
   }
  },
  {
   "cell_type": "code",
   "execution_count": 13,
   "outputs": [
    {
     "data": {
      "text/plain": "array([[2, 40, 40, nan, 16, 1, 'rmsprop', 0],\n       [2, 20, 20, nan, 32, 4, 'Adam', 1],\n       [1, 80, 80, 0.1, 16, 1, 'Adam', 2]], dtype=object)"
     },
     "execution_count": 13,
     "metadata": {},
     "output_type": "execute_result"
    }
   ],
   "source": [
    "# get the best n=3 paramaters\n",
    "analyze_object.best_params('mae', ['loss'], n=3, ascending=True)"
   ],
   "metadata": {
    "collapsed": false,
    "pycharm": {
     "name": "#%%\n"
    }
   }
  },
  {
   "cell_type": "markdown",
   "source": [
    "It is very important to determine which of your hyperparameters has the largest impact on \n",
    "your performance metric. These are the parameters that should be further investigated. \n",
    "\n",
    "One solution to achieve this is to compute the linear correlation between your performance metric\n",
    "'mae' and your hyperparamters. The correlation coefficient is +1 in the case of a perfect direct\n",
    "(increasing) linear relationship, -1 in the case of a perfect decreasing (inverse) linear \n",
    "relationship and some values in (-1, 1) otherwise (indicating the degree of linear dependance\n",
    "between the variables).\n",
    "\n",
    "We employ <code> correlate()</code> for computing the correlation"
   ],
   "metadata": {
    "collapsed": false,
    "pycharm": {
     "name": "#%% md\n"
    }
   }
  },
  {
   "cell_type": "code",
   "execution_count": 14,
   "outputs": [
    {
     "data": {
      "text/plain": "batch_size           0.479306\ndropout_value        0.600577\nepoch_number        -0.390289\nnumber_of_layers     0.242141\nnumber_of_neurons   -0.629560\nName: mae, dtype: float64"
     },
     "execution_count": 14,
     "metadata": {},
     "output_type": "execute_result"
    }
   ],
   "source": [
    "# get correlation for hyperparameters against a performance metric such as 'mae' (we exclude 'loss' since \n",
    "# this is not a hyperparameter)\n",
    "analyze_object.correlate('mae', ['loss', 'round_epochs'])"
   ],
   "metadata": {
    "collapsed": false,
    "pycharm": {
     "name": "#%%\n"
    }
   }
  },
  {
   "cell_type": "markdown",
   "source": [
    "Since you have only then different hyperparameter runs, the output is almost random. However, in practice \n",
    "with hundreds or thousand of different configurations the result is much less stochastic noise in this output.\n",
    "\n",
    "<img src='https://raw.githubusercontent.com/DLR-SC/Hyperparameter_tutorial/master/img/talos_correlate.png' \n",
    "width=240px>\n",
    "\n",
    "In my special case, 'epoch_number' and 'number_of_neurons' have the strongest inverse effect on 'mae'\n",
    "(i.e. 'more epochs tend to lead to a lower mean average error'). The 'batch_size' seems to be less important. "
   ],
   "metadata": {
    "collapsed": false,
    "pycharm": {
     "name": "#%% md\n"
    }
   }
  },
  {
   "cell_type": "markdown",
   "metadata": {},
   "source": [
    "You can also plot a heatmap of this correlation using <code> plot_corr()</code>:"
   ]
  },
  {
   "cell_type": "code",
   "execution_count": 15,
   "outputs": [
    {
     "name": "stderr",
     "output_type": "stream",
     "text": [
      "findfont: Font family ['Verdana'] not found. Falling back to DejaVu Sans.\n"
     ]
    },
    {
     "data": {
      "text/plain": "<Figure size 576x576 with 2 Axes>",
      "image/png": "[encoded data removed]"
     },
     "metadata": {},
     "output_type": "display_data"
    }
   ],
   "source": [
    "# heatmap correlation\n",
    "analyze_object.plot_corr('mae', ['loss', 'round_epochs'])"
   ],
   "metadata": {
    "collapsed": false,
    "pycharm": {
     "name": "#%%\n"
    }
   }
  },
  {
   "cell_type": "markdown",
   "source": [
    "The correlation between variables in one viable way to find the most important\n",
    "hyperparameters. A different approach is given by <code> plot_bars()</code>.\n",
    "Using this function, the metric 'mae' is plotted for different values of the \n",
    "hyperparameters 'number_of_neurons', 'number_of_layers' and 'epoch_number'. As mentioned\n",
    "before, 'mae' seems to decrease for larger values of these hyperparameters (in the\n",
    "specified region of the dictionary).\n",
    "\n",
    "The bar grid cotanins error bars if there is more than one result for the specified\n",
    "hyperparameter set ('number_of_neurons', 'epoch_number', 'number_of_layers'). "
   ],
   "metadata": {
    "collapsed": false,
    "pycharm": {
     "name": "#%% md\n"
    }
   }
  },
  {
   "cell_type": "code",
   "execution_count": 16,
   "outputs": [
    {
     "data": {
      "text/plain": "<Figure size 1253.38x288 with 2 Axes>",
      "image/png": "[encoded data removed]"
     },
     "metadata": {},
     "output_type": "display_data"
    }
   ],
   "source": [
    "# a four dimensional bar grid\n",
    "analyze_object.plot_bars('number_of_neurons','mae', 'epoch_number', 'number_of_layers')"
   ],
   "metadata": {
    "collapsed": false,
    "pycharm": {
     "name": "#%%\n"
    }
   }
  },
  {
   "cell_type": "markdown",
   "source": [
    "My current output plot is\n",
    "\n",
    "<img src='https://raw.githubusercontent.com/DLR-SC/Hyperparameter_tutorial/master/img/talos_bar.png' \n",
    "width=1300px>"
   ],
   "metadata": {
    "collapsed": false,
    "pycharm": {
     "name": "#%% md\n"
    }
   }
  },
  {
   "cell_type": "markdown",
   "source": [
    "## Tasks ## \n",
    "__Excercise 3:__\n",
    " - Apply the described process to your Talos output. In more detail:\n",
    "    * Find the hyperparameters that have the largest effect on the performance metric.\n",
    "    * Create a 2nd hyperparameter dictionary that further investigates these important hyperparameters\n",
    "    * Use <code> Scan() </code> to investigate the 2nd dictionary in more detail \n",
    "    (use larger values for round_limit than 10).\n",
    "    * Try to find a close-to-optimal model for this specific regression problem. "
   ],
   "metadata": {
    "collapsed": false,
    "pycharm": {
     "name": "#%% md\n"
    }
   }
  },
  {
   "cell_type": "code",
   "execution_count": 17,
   "outputs": [],
   "source": [
    "# your new hyperparameter dictionary\n",
    "param2 = {'number_of_layers' : [1, 2],\n",
    "         'number_of_neurons' : [8, 16, 32, 64],\n",
    "         'epoch_number' : [10, 20, 40, 80],\n",
    "         'dropout_value' : [0.1],\n",
    "         'optimizer' : ['Adam'],\n",
    "         'batch_size' : [2]}"
   ],
   "metadata": {
    "collapsed": false,
    "pycharm": {
     "name": "#%%\n"
    }
   }
  },
  {
   "cell_type": "code",
   "execution_count": 18,
   "outputs": [
    {
     "name": "stderr",
     "output_type": "stream",
     "text": [
      "100%|██████████| 30/30 [01:41<00:00,  3.37s/it]\n"
     ]
    }
   ],
   "source": [
    "scan_object2 = talos.Scan(x=train_data,\n",
    "                         y=train_targets,\n",
    "                         model=build_better_model,\n",
    "                         experiment_name='find_optimal_params',\n",
    "                         params=param2,\n",
    "                         round_limit=30)"
   ],
   "metadata": {
    "collapsed": false,
    "pycharm": {
     "name": "#%%\n"
    }
   }
  },
  {
   "cell_type": "code",
   "execution_count": 19,
   "outputs": [
    {
     "data": {
      "text/plain": "    round_epochs       loss       mae  batch_size  dropout_value  \\\n0             10  60.455418  5.511660           2            0.1   \n1             10  39.852417  4.333776           2            0.1   \n2             80   8.689872  2.235099           2            0.1   \n3             40   9.178603  2.205003           2            0.1   \n4             80   6.750656  1.948705           2            0.1   \n5             20  10.192953  2.329180           2            0.1   \n6             80  15.824778  2.989290           2            0.1   \n7             10  39.831539  4.669168           2            0.1   \n8             10  12.486502  2.603681           2            0.1   \n9             20  23.396688  3.473500           2            0.1   \n10            20  14.939903  2.790249           2            0.1   \n11            40  33.655426  4.256887           2            0.1   \n12            40  35.203926  4.426451           2            0.1   \n13            40   7.185287  2.030233           2            0.1   \n14            10  26.273451  3.782802           2            0.1   \n15            80  12.922192  2.561224           2            0.1   \n16            80   8.046479  2.047663           2            0.1   \n17            40  11.241235  2.449018           2            0.1   \n18            40  14.901681  2.843483           2            0.1   \n19            20  53.077190  5.206198           2            0.1   \n20            10  59.054382  5.263435           2            0.1   \n21            10  16.438261  2.948075           2            0.1   \n22            80  22.148115  3.399200           2            0.1   \n23            20  25.952690  3.834206           2            0.1   \n24            20  14.745751  2.858748           2            0.1   \n25            20  18.811895  3.289020           2            0.1   \n26            40  25.358929  3.576072           2            0.1   \n27            20  29.126558  4.011622           2            0.1   \n28            40  13.910225  2.775342           2            0.1   \n29            10  27.263954  3.752722           2            0.1   \n\n    epoch_number  number_of_layers  number_of_neurons optimizer  \n0             10                 1                  8      Adam  \n1             10                 1                 32      Adam  \n2             80                 2                 32      Adam  \n3             40                 2                 32      Adam  \n4             80                 2                 64      Adam  \n5             20                 2                 64      Adam  \n6             80                 1                 16      Adam  \n7             10                 2                  8      Adam  \n8             10                 2                 64      Adam  \n9             20                 1                 32      Adam  \n10            20                 1                 64      Adam  \n11            40                 2                  8      Adam  \n12            40                 1                  8      Adam  \n13            40                 2                 64      Adam  \n14            10                 2                 16      Adam  \n15            80                 1                 32      Adam  \n16            80                 1                 64      Adam  \n17            40                 1                 64      Adam  \n18            40                 1                 32      Adam  \n19            20                 1                  8      Adam  \n20            10                 1                 16      Adam  \n21            10                 2                 32      Adam  \n22            80                 1                  8      Adam  \n23            20                 2                  8      Adam  \n24            20                 2                 32      Adam  \n25            20                 2                 16      Adam  \n26            40                 1                 16      Adam  \n27            20                 1                 16      Adam  \n28            40                 2                 16      Adam  \n29            10                 1                 64      Adam  ",
      "text/html": "<div>\n<style scoped>\n    .dataframe tbody tr th:only-of-type {\n        vertical-align: middle;\n    }\n\n    .dataframe tbody tr th {\n        vertical-align: top;\n    }\n\n    .dataframe thead th {\n        text-align: right;\n    }\n</style>\n<table border=\"1\" class=\"dataframe\">\n  <thead>\n    <tr style=\"text-align: right;\">\n      <th></th>\n      <th>round_epochs</th>\n      <th>loss</th>\n      <th>mae</th>\n      <th>batch_size</th>\n      <th>dropout_value</th>\n      <th>epoch_number</th>\n      <th>number_of_layers</th>\n      <th>number_of_neurons</th>\n      <th>optimizer</th>\n    </tr>\n  </thead>\n  <tbody>\n    <tr>\n      <th>0</th>\n      <td>10</td>\n      <td>60.455418</td>\n      <td>5.511660</td>\n      <td>2</td>\n      <td>0.1</td>\n      <td>10</td>\n      <td>1</td>\n      <td>8</td>\n      <td>Adam</td>\n    </tr>\n    <tr>\n      <th>1</th>\n      <td>10</td>\n      <td>39.852417</td>\n      <td>4.333776</td>\n      <td>2</td>\n      <td>0.1</td>\n      <td>10</td>\n      <td>1</td>\n      <td>32</td>\n      <td>Adam</td>\n    </tr>\n    <tr>\n      <th>2</th>\n      <td>80</td>\n      <td>8.689872</td>\n      <td>2.235099</td>\n      <td>2</td>\n      <td>0.1</td>\n      <td>80</td>\n      <td>2</td>\n      <td>32</td>\n      <td>Adam</td>\n    </tr>\n    <tr>\n      <th>3</th>\n      <td>40</td>\n      <td>9.178603</td>\n      <td>2.205003</td>\n      <td>2</td>\n      <td>0.1</td>\n      <td>40</td>\n      <td>2</td>\n      <td>32</td>\n      <td>Adam</td>\n    </tr>\n    <tr>\n      <th>4</th>\n      <td>80</td>\n      <td>6.750656</td>\n      <td>1.948705</td>\n      <td>2</td>\n      <td>0.1</td>\n      <td>80</td>\n      <td>2</td>\n      <td>64</td>\n      <td>Adam</td>\n    </tr>\n    <tr>\n      <th>5</th>\n      <td>20</td>\n      <td>10.192953</td>\n      <td>2.329180</td>\n      <td>2</td>\n      <td>0.1</td>\n      <td>20</td>\n      <td>2</td>\n      <td>64</td>\n      <td>Adam</td>\n    </tr>\n    <tr>\n      <th>6</th>\n      <td>80</td>\n      <td>15.824778</td>\n      <td>2.989290</td>\n      <td>2</td>\n      <td>0.1</td>\n      <td>80</td>\n      <td>1</td>\n      <td>16</td>\n      <td>Adam</td>\n    </tr>\n    <tr>\n      <th>7</th>\n      <td>10</td>\n      <td>39.831539</td>\n      <td>4.669168</td>\n      <td>2</td>\n      <td>0.1</td>\n      <td>10</td>\n      <td>2</td>\n      <td>8</td>\n      <td>Adam</td>\n    </tr>\n    <tr>\n      <th>8</th>\n      <td>10</td>\n      <td>12.486502</td>\n      <td>2.603681</td>\n      <td>2</td>\n      <td>0.1</td>\n      <td>10</td>\n      <td>2</td>\n      <td>64</td>\n      <td>Adam</td>\n    </tr>\n    <tr>\n      <th>9</th>\n      <td>20</td>\n      <td>23.396688</td>\n      <td>3.473500</td>\n      <td>2</td>\n      <td>0.1</td>\n      <td>20</td>\n      <td>1</td>\n      <td>32</td>\n      <td>Adam</td>\n    </tr>\n    <tr>\n      <th>10</th>\n      <td>20</td>\n      <td>14.939903</td>\n      <td>2.790249</td>\n      <td>2</td>\n      <td>0.1</td>\n      <td>20</td>\n      <td>1</td>\n      <td>64</td>\n      <td>Adam</td>\n    </tr>\n    <tr>\n      <th>11</th>\n      <td>40</td>\n      <td>33.655426</td>\n      <td>4.256887</td>\n      <td>2</td>\n      <td>0.1</td>\n      <td>40</td>\n      <td>2</td>\n      <td>8</td>\n      <td>Adam</td>\n    </tr>\n    <tr>\n      <th>12</th>\n      <td>40</td>\n      <td>35.203926</td>\n      <td>4.426451</td>\n      <td>2</td>\n      <td>0.1</td>\n      <td>40</td>\n      <td>1</td>\n      <td>8</td>\n      <td>Adam</td>\n    </tr>\n    <tr>\n      <th>13</th>\n      <td>40</td>\n      <td>7.185287</td>\n      <td>2.030233</td>\n      <td>2</td>\n      <td>0.1</td>\n      <td>40</td>\n      <td>2</td>\n      <td>64</td>\n      <td>Adam</td>\n    </tr>\n    <tr>\n      <th>14</th>\n      <td>10</td>\n      <td>26.273451</td>\n      <td>3.782802</td>\n      <td>2</td>\n      <td>0.1</td>\n      <td>10</td>\n      <td>2</td>\n      <td>16</td>\n      <td>Adam</td>\n    </tr>\n    <tr>\n      <th>15</th>\n      <td>80</td>\n      <td>12.922192</td>\n      <td>2.561224</td>\n      <td>2</td>\n      <td>0.1</td>\n      <td>80</td>\n      <td>1</td>\n      <td>32</td>\n      <td>Adam</td>\n    </tr>\n    <tr>\n      <th>16</th>\n      <td>80</td>\n      <td>8.046479</td>\n      <td>2.047663</td>\n      <td>2</td>\n      <td>0.1</td>\n      <td>80</td>\n      <td>1</td>\n      <td>64</td>\n      <td>Adam</td>\n    </tr>\n    <tr>\n      <th>17</th>\n      <td>40</td>\n      <td>11.241235</td>\n      <td>2.449018</td>\n      <td>2</td>\n      <td>0.1</td>\n      <td>40</td>\n      <td>1</td>\n      <td>64</td>\n      <td>Adam</td>\n    </tr>\n    <tr>\n      <th>18</th>\n      <td>40</td>\n      <td>14.901681</td>\n      <td>2.843483</td>\n      <td>2</td>\n      <td>0.1</td>\n      <td>40</td>\n      <td>1</td>\n      <td>32</td>\n      <td>Adam</td>\n    </tr>\n    <tr>\n      <th>19</th>\n      <td>20</td>\n      <td>53.077190</td>\n      <td>5.206198</td>\n      <td>2</td>\n      <td>0.1</td>\n      <td>20</td>\n      <td>1</td>\n      <td>8</td>\n      <td>Adam</td>\n    </tr>\n    <tr>\n      <th>20</th>\n      <td>10</td>\n      <td>59.054382</td>\n      <td>5.263435</td>\n      <td>2</td>\n      <td>0.1</td>\n      <td>10</td>\n      <td>1</td>\n      <td>16</td>\n      <td>Adam</td>\n    </tr>\n    <tr>\n      <th>21</th>\n      <td>10</td>\n      <td>16.438261</td>\n      <td>2.948075</td>\n      <td>2</td>\n      <td>0.1</td>\n      <td>10</td>\n      <td>2</td>\n      <td>32</td>\n      <td>Adam</td>\n    </tr>\n    <tr>\n      <th>22</th>\n      <td>80</td>\n      <td>22.148115</td>\n      <td>3.399200</td>\n      <td>2</td>\n      <td>0.1</td>\n      <td>80</td>\n      <td>1</td>\n      <td>8</td>\n      <td>Adam</td>\n    </tr>\n    <tr>\n      <th>23</th>\n      <td>20</td>\n      <td>25.952690</td>\n      <td>3.834206</td>\n      <td>2</td>\n      <td>0.1</td>\n      <td>20</td>\n      <td>2</td>\n      <td>8</td>\n      <td>Adam</td>\n    </tr>\n    <tr>\n      <th>24</th>\n      <td>20</td>\n      <td>14.745751</td>\n      <td>2.858748</td>\n      <td>2</td>\n      <td>0.1</td>\n      <td>20</td>\n      <td>2</td>\n      <td>32</td>\n      <td>Adam</td>\n    </tr>\n    <tr>\n      <th>25</th>\n      <td>20</td>\n      <td>18.811895</td>\n      <td>3.289020</td>\n      <td>2</td>\n      <td>0.1</td>\n      <td>20</td>\n      <td>2</td>\n      <td>16</td>\n      <td>Adam</td>\n    </tr>\n    <tr>\n      <th>26</th>\n      <td>40</td>\n      <td>25.358929</td>\n      <td>3.576072</td>\n      <td>2</td>\n      <td>0.1</td>\n      <td>40</td>\n      <td>1</td>\n      <td>16</td>\n      <td>Adam</td>\n    </tr>\n    <tr>\n      <th>27</th>\n      <td>20</td>\n      <td>29.126558</td>\n      <td>4.011622</td>\n      <td>2</td>\n      <td>0.1</td>\n      <td>20</td>\n      <td>1</td>\n      <td>16</td>\n      <td>Adam</td>\n    </tr>\n    <tr>\n      <th>28</th>\n      <td>40</td>\n      <td>13.910225</td>\n      <td>2.775342</td>\n      <td>2</td>\n      <td>0.1</td>\n      <td>40</td>\n      <td>2</td>\n      <td>16</td>\n      <td>Adam</td>\n    </tr>\n    <tr>\n      <th>29</th>\n      <td>10</td>\n      <td>27.263954</td>\n      <td>3.752722</td>\n      <td>2</td>\n      <td>0.1</td>\n      <td>10</td>\n      <td>1</td>\n      <td>64</td>\n      <td>Adam</td>\n    </tr>\n  </tbody>\n</table>\n</div>"
     },
     "execution_count": 19,
     "metadata": {},
     "output_type": "execute_result"
    }
   ],
   "source": [
    "# if you want to see the full output of Scan()\n",
    "scan_object2.data"
   ],
   "metadata": {
    "collapsed": false,
    "pycharm": {
     "name": "#%%\n"
    }
   }
  },
  {
   "cell_type": "markdown",
   "source": [
    "Your best results are:"
   ],
   "metadata": {
    "collapsed": false,
    "pycharm": {
     "name": "#%% md\n"
    }
   }
  },
  {
   "cell_type": "code",
   "execution_count": 20,
   "outputs": [
    {
     "data": {
      "text/plain": "array([[2, 80, 80, 0.1, 64, 2, 'Adam', 0],\n       [2, 40, 40, 0.1, 64, 2, 'Adam', 1],\n       [1, 80, 80, 0.1, 64, 2, 'Adam', 2]], dtype=object)"
     },
     "execution_count": 20,
     "metadata": {},
     "output_type": "execute_result"
    }
   ],
   "source": [
    "# use Scan object as input\n",
    "analyze_object2 = talos.Analyze(scan_object2)\n",
    "\n",
    "# get the best n=3 paramaters\n",
    "analyze_object2.best_params('mae', ['loss'], n=3, ascending=True)"
   ],
   "metadata": {
    "collapsed": false,
    "pycharm": {
     "name": "#%%\n"
    }
   }
  },
  {
   "cell_type": "code",
   "execution_count": 21,
   "outputs": [
    {
     "data": {
      "text/plain": "1.9487053155899048"
     },
     "execution_count": 21,
     "metadata": {},
     "output_type": "execute_result"
    }
   ],
   "source": [
    "# lowest mae with the parameters from analyze_object2.best_params('mae', ['loss'], n=1, ascending=True)\n",
    "analyze_object2.low('mae')"
   ],
   "metadata": {
    "collapsed": false,
    "pycharm": {
     "name": "#%%\n"
    }
   }
  },
  {
   "cell_type": "markdown",
   "source": [
    "## Deploy close-to-optimal model"
   ],
   "metadata": {
    "collapsed": false,
    "pycharm": {
     "name": "#%% md\n"
    }
   }
  },
  {
   "cell_type": "markdown",
   "metadata": {},
   "source": [
    "### Evaluating Models with <code>Evaluate()</code> "
   ]
  },
  {
   "cell_type": "markdown",
   "metadata": {},
   "source": [
    "Models can be evaluated with <code>Evaluate()</code> against a k-fold cross-validation \n",
    "(<code>fold=K</code> specifies the number of repetitions in <code>Evaluate()</code>). \n",
    "Ideally at least 50% of the data, or more if possible, is kept completely out of the <code>Scan</code> process and only exposed into Evaluate once one or more candidate models have been identified."
   ]
  },
  {
   "cell_type": "code",
   "execution_count": 22,
   "metadata": {},
   "outputs": [
    {
     "data": {
      "text/plain": "5.044963581085205"
     },
     "execution_count": 22,
     "metadata": {},
     "output_type": "execute_result"
    }
   ],
   "source": [
    "evaluate_object = talos.Evaluate(scan_object2)\n",
    "\n",
    "# returns a list with 'folds=10' outputs\n",
    "all_mae_results =  evaluate_object.evaluate(test_data, test_targets, folds=10, metric='mae', task='continuous')\n",
    "\n",
    "# this is the average 'mae' that gives an aedequate estimation of our model error (on the test data)\n",
    "np.mean(all_mae_results)"
   ]
  },
  {
   "cell_type": "markdown",
   "metadata": {},
   "source": [
    "Once a sufficiently performing model has been found, a deployment package can be easily created."
   ]
  },
  {
   "cell_type": "markdown",
   "metadata": {},
   "source": [
    "### Deploying Models with <code>Deploy()</code> "
   ]
  },
  {
   "cell_type": "markdown",
   "metadata": {},
   "source": [
    "Once the right model or models have been found, you can create a deployment package with <code>Deploy()</code> which is then easy to transfer to a production or other environment, send via email, or upload to shared remote location. Best model is automatically chosen based on a given metric ('val_acc' by default).\n",
    "\n",
    "The Deploy package is a zip file that consist of: \n",
    "\n",
    "- details of the scan\n",
    "- model weights\n",
    "- model json\n",
    "- results of the experiment\n",
    "- sample of x data\n",
    "- sample of y data\n",
    "\n",
    "The <code>Deploy</code> package can be easily restored with <code>Restore()</code> which is covered in the next section."
   ]
  },
  {
   "cell_type": "code",
   "execution_count": 23,
   "metadata": {},
   "outputs": [
    {
     "ename": "FileExistsError",
     "evalue": "[Errno 17] File exists: 'waw_regression_deploy'",
     "output_type": "error",
     "traceback": [
      "\u001B[0;31m---------------------------------------------------------------------------\u001B[0m",
      "\u001B[0;31mFileExistsError\u001B[0m                           Traceback (most recent call last)",
      "\u001B[0;32m<ipython-input-23-7dc207c7fec7>\u001B[0m in \u001B[0;36m<module>\u001B[0;34m\u001B[0m\n\u001B[1;32m      1\u001B[0m \u001B[0;31m# creates a file waw_regression_deploy.zip (\\approx 13 KB) in the local folder\u001B[0m\u001B[0;34m\u001B[0m\u001B[0;34m\u001B[0m\u001B[0;34m\u001B[0m\u001B[0m\n\u001B[1;32m      2\u001B[0m \u001B[0;31m# the parameter 'asc' has to be true if lower means better (e.g. loss, mae) but false otherwise (e.g. accuracy)\u001B[0m\u001B[0;34m\u001B[0m\u001B[0;34m\u001B[0m\u001B[0;34m\u001B[0m\u001B[0m\n\u001B[0;32m----> 3\u001B[0;31m \u001B[0mtalos\u001B[0m\u001B[0;34m.\u001B[0m\u001B[0mDeploy\u001B[0m\u001B[0;34m(\u001B[0m\u001B[0mscan_object\u001B[0m\u001B[0;34m=\u001B[0m\u001B[0mscan_object2\u001B[0m\u001B[0;34m,\u001B[0m \u001B[0mmodel_name\u001B[0m\u001B[0;34m=\u001B[0m\u001B[0;34m'waw_regression_deploy'\u001B[0m\u001B[0;34m,\u001B[0m \u001B[0mmetric\u001B[0m\u001B[0;34m=\u001B[0m\u001B[0;34m'mae'\u001B[0m\u001B[0;34m,\u001B[0m \u001B[0masc\u001B[0m\u001B[0;34m=\u001B[0m\u001B[0;32mTrue\u001B[0m\u001B[0;34m)\u001B[0m\u001B[0;34m;\u001B[0m\u001B[0;34m\u001B[0m\u001B[0;34m\u001B[0m\u001B[0m\n\u001B[0m\u001B[1;32m      4\u001B[0m \u001B[0;34m\u001B[0m\u001B[0m\n",
      "\u001B[0;32m~/anaconda3/envs/Hyperparameter_tutorial/lib/python3.7/site-packages/talos/commands/deploy.py\u001B[0m in \u001B[0;36m__init__\u001B[0;34m(self, scan_object, model_name, metric, asc)\u001B[0m\n\u001B[1;32m     28\u001B[0m \u001B[0;34m\u001B[0m\u001B[0m\n\u001B[1;32m     29\u001B[0m         \u001B[0mself\u001B[0m\u001B[0;34m.\u001B[0m\u001B[0mscan_object\u001B[0m \u001B[0;34m=\u001B[0m \u001B[0mscan_object\u001B[0m\u001B[0;34m\u001B[0m\u001B[0;34m\u001B[0m\u001B[0m\n\u001B[0;32m---> 30\u001B[0;31m         \u001B[0mos\u001B[0m\u001B[0;34m.\u001B[0m\u001B[0mmkdir\u001B[0m\u001B[0;34m(\u001B[0m\u001B[0mmodel_name\u001B[0m\u001B[0;34m)\u001B[0m\u001B[0;34m\u001B[0m\u001B[0;34m\u001B[0m\u001B[0m\n\u001B[0m\u001B[1;32m     31\u001B[0m         \u001B[0mself\u001B[0m\u001B[0;34m.\u001B[0m\u001B[0mpath\u001B[0m \u001B[0;34m=\u001B[0m \u001B[0mmodel_name\u001B[0m \u001B[0;34m+\u001B[0m \u001B[0;34m'/'\u001B[0m \u001B[0;34m+\u001B[0m \u001B[0mmodel_name\u001B[0m\u001B[0;34m\u001B[0m\u001B[0;34m\u001B[0m\u001B[0m\n\u001B[1;32m     32\u001B[0m         \u001B[0mself\u001B[0m\u001B[0;34m.\u001B[0m\u001B[0mmodel_name\u001B[0m \u001B[0;34m=\u001B[0m \u001B[0mmodel_name\u001B[0m\u001B[0;34m\u001B[0m\u001B[0;34m\u001B[0m\u001B[0m\n",
      "\u001B[0;31mFileExistsError\u001B[0m: [Errno 17] File exists: 'waw_regression_deploy'"
     ]
    }
   ],
   "source": [
    "# creates a file waw_regression_deploy.zip (\\approx 13 KB) in the local folder \n",
    "# the parameter 'asc' has to be true if lower means better (e.g. loss, mae) but false otherwise (e.g. accuracy)\n",
    "talos.Deploy(scan_object=scan_object2, model_name='waw_regression_deploy', metric='mae', asc=True);"
   ]
  },
  {
   "cell_type": "markdown",
   "metadata": {},
   "source": [
    "### Restoring Models with <code>Restore()</code>  "
   ]
  },
  {
   "cell_type": "code",
   "execution_count": null,
   "metadata": {},
   "outputs": [],
   "source": [
    "waw_regression = talos.Restore('waw_regression_deploy.zip')"
   ]
  },
  {
   "cell_type": "markdown",
   "metadata": {},
   "source": [
    "The <code>Restore</code> object now consists of the assets from the Scan object originally associated with the experiment, together with the model that had been picked as 'best'. The model can be immediately used for making prediction, or use in any other other way Keras model objects can be used."
   ]
  },
  {
   "cell_type": "code",
   "execution_count": null,
   "outputs": [],
   "source": [
    "# What is the 'best' model that we use for predictions?\n",
    "# this should be the same model as found with (better check this) \n",
    "# 'analyze_object2.best_params('mae', ['loss'], n=1, ascending=True)' from the previous cell \n",
    "waw_regression.model.get_config()"
   ],
   "metadata": {
    "collapsed": false,
    "pycharm": {
     "name": "#%%\n"
    }
   }
  },
  {
   "cell_type": "code",
   "execution_count": null,
   "metadata": {},
   "outputs": [],
   "source": [
    "# make predictions with the model\n",
    "# if you are interested, compare the output with the ground truth 'test_targets'\n",
    "waw_regression.model.predict(test_data)"
   ]
  },
  {
   "cell_type": "markdown",
   "metadata": {},
   "source": [
    "In addition, for book keeping purpose, and for simplicity of sharing models with team members and other stakeholders, various attributes are included in the <code>Restore</code> object:"
   ]
  },
  {
   "cell_type": "code",
   "execution_count": null,
   "metadata": {},
   "outputs": [],
   "source": [
    "# get the meta-data for the experiment\n",
    "waw_regression.details"
   ]
  },
  {
   "cell_type": "code",
   "execution_count": null,
   "metadata": {},
   "outputs": [],
   "source": [
    "# get the hyperparameter space boundary, these are the hyperparameter values that you have considered before\n",
    "waw_regression.params"
   ]
  },
  {
   "cell_type": "code",
   "execution_count": null,
   "metadata": {},
   "outputs": [],
   "source": [
    "# these are the results from the different runs of Scan()\n",
    "waw_regression.results"
   ]
  },
  {
   "cell_type": "markdown",
   "source": [
    "That's almost all on Talos for today. Of course, there are several other routines that are provided by Talos. You find\n",
    "the most recent version (0.6.4 in November 2019) on GitHub (https://github.com/autonomio/talos).  "
   ],
   "metadata": {
    "collapsed": false,
    "pycharm": {
     "name": "#%% md\n"
    }
   }
  },
  {
   "cell_type": "markdown",
   "source": [
    "### Outlook: a large numbers of hidden layers in Talos\n",
    "\n",
    "You probably have noticed that our model architecture in 'def build_better_model()'\n",
    "can only be used for a relatively low number of hidden layers (since you have to add each layer manually).\n",
    "For a larger number of hidden layers, Talos provides a 'hidden_layers' model \n",
    "(https://github.com/autonomio/talos/blob/master/docs/Hidden_Layers.md). When 'hidden_layers' are used,\n",
    "several parameters must be included in your parameter dictionary. These parameters are \n",
    "'dropout', 'shapes', 'hidden_layers', 'first_neuron' and 'activation'. \n",
    "\n",
    "An application for our problem might look like this:"
   ],
   "metadata": {
    "collapsed": false,
    "pycharm": {
     "name": "#%% md\n"
    }
   }
  },
  {
   "cell_type": "code",
   "execution_count": null,
   "outputs": [],
   "source": [
    "param = {'hidden_layers' : [1, 2],          # <--- required\n",
    "         'first_neuron' : [8, 16, 32, 64],  # <--- required\n",
    "         'dropout' : [0, 0.1, 0.2],         # <--- required\n",
    "         'shapes': ['brick'],               # <--- required\n",
    "         'activation': ['relu'],            # <--- required\n",
    "         'epoch_number' : [10, 20, 40, 80],\n",
    "         'optimizer' : ['Adam', 'rmsprop'],\n",
    "         'batch_size' : [1, 2, 4, 8]}"
   ],
   "metadata": {
    "collapsed": false,
    "pycharm": {
     "name": "#%%\n"
    }
   }
  },
  {
   "cell_type": "code",
   "execution_count": null,
   "outputs": [],
   "source": [
    "from keras import models\n",
    "from keras import layers\n",
    "from talos.utils import hidden_layers\n",
    "\n",
    "def build_even_better_model(train_data, train_targets, val_data, val_targets, p):\n",
    "    model = models.Sequential()\n",
    "    \n",
    "    hidden_layers(model, p, 1) # <--- the required arguments are used here\n",
    "        \n",
    "    model.add(layers.Dense(1))\n",
    "    model.compile(optimizer='Adam', loss='mse', metrics=['mae'])\n",
    "    \n",
    "    # make sure history object is returned by model.fit()\n",
    "    history = model.fit(train_data, train_targets, epochs=p['epoch_number'], batch_size=p['batch_size'], verbose=0)\n",
    "    \n",
    "    return history, model\n"
   ],
   "metadata": {
    "collapsed": false,
    "pycharm": {
     "name": "#%%\n"
    }
   }
  },
  {
   "cell_type": "markdown",
   "source": [
    "## Bonus ## \n",
    "__Excercise 4:__\n",
    " - Use the feature 'hidden_layers' from Talos for a new hyperparameter search.\n",
    "\n"
   ],
   "metadata": {
    "collapsed": false,
    "pycharm": {
     "name": "#%% md\n"
    }
   }
  },
  {
   "cell_type": "markdown",
   "metadata": {},
   "source": [
    "### 3. Guidelines on hyperparameter optimization <a name=\"three\"></a> \n",
    "\n",
    "* Hyperparameter optimization (at least as described in this tutorial with Talos) is an iterative process. You define the\n",
    "hyperparamter boundaries and start a search with <code>Scan()</code>. Using the results, you define new\n",
    "hyperparameter boundaries and a second search, ..., ..., final search.\n",
    "* In most situations, it is not necessary to perform a full grid search on all possible hyperparameter\n",
    "configurations (maybe in the order of thousands). Usually, it is sufficient to perform the scan on \n",
    "a random subset (10-30%).\n",
    "* It is important to determine those hyperparameter that have the largest influence on your performance\n",
    "metric. For this purpose, Talos provides routine such as <code>correlate()</code> to assist you to find these hyperparameters.\n",
    "* All different hyperparameter combinations are evaluated on a validation set. As usual, only your final (after several iterations)\n",
    "model is evaluated with a test set that is independent of the validation set.\n",
    "* Even though Talos can be used analyze thousands of hyperparameter configurations, it is important to\n",
    "first get some kind of intuition/understanding which model architecture might be adequate (e.g. do you require \n",
    "fully connected neural networks?, convolutional neural networks?, what might be the rough number\n",
    "of hidden layers?). Otherwise, since the hyperparameter space grows exponentially you will not be able \n",
    "to evaluate a relevant subset of your high-dimensional hypercube within a reasonable amount of time\n",
    "(cf. Curse of Dimensionality).\n"
   ]
  },
  {
   "cell_type": "markdown",
   "metadata": {},
   "source": [
    "Thank you for your participiation! <br>\n",
    "We hope that you have enjoyed this tutorial."
   ]
  }
 ],
 "metadata": {
  "kernelspec": {
   "display_name": "Python 3",
   "language": "python",
   "name": "python3"
  },
  "language_info": {
   "codemirror_mode": {
    "name": "ipython",
    "version": 3
   },
   "file_extension": ".py",
   "mimetype": "text/x-python",
   "name": "python",
   "nbconvert_exporter": "python",
   "pygments_lexer": "ipython3",
   "version": "3.6.8"
  }
 },
 "nbformat": 4,
 "nbformat_minor": 2
}