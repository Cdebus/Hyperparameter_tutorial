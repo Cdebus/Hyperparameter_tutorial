{
 "cells": [
  {
   "cell_type": "markdown",
   "metadata": {},
   "source": [
    "# HDS-LEE Course on Hyperparameter Optimization - Part 2\n",
    "\n",
    "<img src='https://raw.githubusercontent.com/DLR-SC/Hyperparameter_tutorial/master/img/hds_lee_title.png' width=500px>\n",
    "\n",
    "This notebook summarizes several examples from the Talos GitHub repository. The original examples can be found\n",
    "on https://github.com/autonomio/talos/tree/master/examples\n",
    "\n",
    "Note: The output of this notebook is not reproducible. This means that **the final\n",
    "output changes with every usage of the code**. There are two main reasons for this\n",
    "stochastic behavior:\n",
    "* the traing set is quite small (400 samples) to reduce computing time\n",
    "* we use a 'random hyperparameter search strategy' and only cover a small percentage \n",
    "of parameter configurations (about 1%) to reduce computing time so that the output, of course, is\n",
    "not deterministic.\n",
    "\n",
    "In practice, this stochastic behavior is strongly reduced since the number \n",
    "of training samples is usually much larger and the 'random hyperparameter search strategy'\n",
    "usually covers a larger percentage of hyperparameter configurations. "
   ]
  },
  {
   "cell_type": "code",
   "execution_count": 1,
   "metadata": {
    "pycharm": {
     "is_executing": false
    }
   },
   "outputs": [
    {
     "name": "stderr",
     "text": [
      "Using TensorFlow backend.\n"
     ],
     "output_type": "stream"
    }
   ],
   "source": [
    "%matplotlib inline\n",
    "# required Talos __version__ = \"0.6.3\"\n",
    "import talos\n",
    "import numpy as np"
   ]
  },
  {
   "cell_type": "markdown",
   "source": [
    "## Overview\n",
    "\n",
    "The aim of the 2nd tutorial is the following:\n",
    "\n",
    "* Introduction of Talos\n",
    "* Use Talos for machine-assisted hyperparameter optimization of the Boston house pricing problem (1st Jupyter notebook)\n",
    "* Give general guidelines on hyperparameter optimization\n",
    "\n",
    "### Table of Contents\n",
    "\n",
    "##### 1. <a href=#one>Introduction of Talos</a>\n",
    "##### 2. <a href=#two>Use Talos for hyperparameter optimization </a>\n",
    "##### 3. <a href=#three>Guidelines on hyperparameter optimization</a>"
   ],
   "metadata": {
    "collapsed": false,
    "pycharm": {
     "name": "#%% md\n"
    }
   }
  },
  {
   "cell_type": "markdown",
   "metadata": {},
   "source": [
    "## 1. Introduction of Talos <a name=\"one\"></a> "
   ]
  },
  {
   "cell_type": "markdown",
   "metadata": {
    "pycharm": {
     "is_executing": false,
     "name": "#%% md\n"
    }
   },
   "source": [
    "### Restore the original Keras code \n",
    "\n",
    "We start with the code that we have already used in the first notebook"
   ]
  },
  {
   "cell_type": "code",
   "execution_count": 2,
   "outputs": [],
   "source": [
    "from keras.datasets import boston_housing\n",
    "\n",
    "# load the data\n",
    "(train_data, train_targets), (test_data, test_targets) =  boston_housing.load_data()\n",
    "\n",
    "# data normalization\n",
    "mean = train_data.mean(axis=0)\n",
    "train_data -= mean\n",
    "std = train_data.std(axis=0)\n",
    "train_data /= std\n",
    "\n",
    "test_data -= mean\n",
    "test_data /= std"
   ],
   "metadata": {
    "collapsed": false,
    "pycharm": {
     "name": "#%%\n",
     "is_executing": false
    }
   }
  },
  {
   "cell_type": "markdown",
   "source": [
    "### Model preparation\n",
    "\n",
    "Talos works with any Keras model, without changing the structure of the model in any way.  \n",
    "The only difference in the Keras model is that a parameter is not set explicitly as before, e.g.\n",
    "\n",
    "<pre><code> model.add(layers.Dense(32, activation='relu'))    </code></pre>\n",
    "\n",
    "but instead taken from a dictionary, e.g.\n",
    "\n",
    "<pre><code>\n",
    "params = {'number_of_neurons' : [4, 6, 7, 8], 'activation' : ['relu'] }\n",
    "\n",
    "model.add(layers.Dense(params['number_of_neurons'], activation=params['activation']))    \n",
    "</code></pre>\n",
    "\n",
    "Afterwards, this dictionary and the model will be passed to Talos. In the dictionary we have \n",
    "three different ways to input values:\n",
    "\n",
    "- as stepped ranges (min, max, steps)\n",
    "- as multiple values [in a list]\n",
    "- as a single value [in a list]\n",
    "\n",
    "For values we don't want to use, it's ok to set it as None."
   ],
   "metadata": {
    "collapsed": false,
    "pycharm": {
     "name": "#%% md\n"
    }
   }
  },
  {
   "cell_type": "markdown",
   "source": [
    "## Tasks ## \n",
    "__Excercise 1:__\n",
    " - Create a Python dictionary that contains at least the following entries:\n",
    "    * 'number_of_layers' : 1, 2\n",
    "    * 'number_of_neurons' : 8, 16, 32, 64\n",
    "    * 'dropout_value' : None, 0.1, 0.2\n",
    "    * 'optimizer' : 'Adam', 'rmsprop'\n",
    "    * 'batch_size': 1, 2, 4, 8 \n",
    "    * 'epoch_number' : 10, 20, 40, 80\n",
    "    * anything that you want to modify further (e.g. learning_rate, activation_function, loss_function, ...)\n",
    " - What is the number of different hyperparameter configurations that is considered in the first six bullet points?"
   ],
   "metadata": {
    "collapsed": false,
    "pycharm": {
     "name": "#%% md\n"
    }
   }
  },
  {
   "cell_type": "code",
   "execution_count": 3,
   "outputs": [],
   "source": [
    "# parameter dictionary\n",
    "param = {'number_of_layers' : [1, 2],\n",
    "         'number_of_neurons' : [8, 16, 32, 64],\n",
    "         'epoch_number' : [10, 20, 40, 80],\n",
    "         'dropout_value' : [None, 0.1, 0.2],\n",
    "         'optimizer' : ['Adam', 'rmsprop'],\n",
    "         'batch_size' : [1, 2, 4, 8]}\n"
   ],
   "metadata": {
    "collapsed": false,
    "pycharm": {
     "name": "#%%\n",
     "is_executing": false
    }
   }
  },
  {
   "cell_type": "markdown",
   "source": [
    "## Tasks ## \n",
    "__Excercise 2:__\n",
    " - Modify your original Keras model (Jupyter notebook 1) such that it uses uses the values from a \n",
    " dictionary 'p'."
   ],
   "metadata": {
    "collapsed": false,
    "pycharm": {
     "name": "#%% md\n"
    }
   }
  },
  {
   "cell_type": "code",
   "execution_count": 4,
   "outputs": [],
   "source": [
    "from keras import models\n",
    "from keras import layers\n",
    "\n",
    "# note: this build model works for a limited number of hidden layers, there are other options in Talos\n",
    "# if you are interested in a large number of layers (see: Outlook at the end of this tutorial)\n",
    "def build_better_model(x, y, val_data, val_targets, p):\n",
    "    model = models.Sequential()\n",
    "    \n",
    "    # replace the hyperparameter inputs with references to dictionary p \n",
    "    model.add(layers.Dense(p['number_of_neurons'], activation='relu',\n",
    "                           input_shape=(x.shape[1],)))\n",
    "    \n",
    "    if p['number_of_layers'] >= 2:\n",
    "        model.add(layers.Dense(p['number_of_neurons'], activation='relu'))\n",
    "    \n",
    "    if p['dropout_value'] is not None:\n",
    "        model.add(layers.Dropout(p['dropout_value']))\n",
    "        \n",
    "    model.add(layers.Dense(1))\n",
    "    model.compile(optimizer=p['optimizer'], loss='mse', metrics=['mae'])\n",
    "    \n",
    "    # make sure history object is returned by model.fit()\n",
    "    history = model.fit(x, y, epochs=p['epoch_number'], batch_size=p['batch_size'], verbose=0)\n",
    "    \n",
    "    return history, model"
   ],
   "metadata": {
    "collapsed": false,
    "pycharm": {
     "name": "#%%\n",
     "is_executing": false
    }
   }
  },
  {
   "cell_type": "markdown",
   "source": [
    "## 2. Use Talos for hyperparameter optimization <a name=\"two\"></a> \n",
    "\n",
    "This part is quite simple. The Talos experiment just uses the <code> Scan()</code> command. In the following,\n",
    "we will investigate different arguments for this routine. However, there are only five necessary arguments\n",
    "that are required:\n",
    "* train_data (often known as 'x')\n",
    "* train_targets (often known as 'y')\n",
    "* params (the dictionary 'param' that we have created before)\n",
    "* model (the 'build_model' that we also have created before)\n",
    "* experiment_name (name of a folder in which the output, a csv-file, is stored)"
   ],
   "metadata": {
    "collapsed": false
   }
  },
  {
   "cell_type": "code",
   "execution_count": 5,
   "metadata": {
    "pycharm": {
     "is_executing": false
    }
   },
   "outputs": [
    {
     "name": "stderr",
     "text": [
      "\r  0%|          | 0/10 [00:00<?, ?it/s]",
      "\r 10%|█         | 1/10 [00:02<00:26,  2.98s/it]",
      "\r 20%|██        | 2/10 [00:06<00:24,  3.11s/it]",
      "\r 30%|███       | 3/10 [00:10<00:24,  3.46s/it]",
      "\r 40%|████      | 4/10 [00:13<00:19,  3.17s/it]",
      "\r 50%|█████     | 5/10 [00:15<00:14,  2.80s/it]",
      "\r 60%|██████    | 6/10 [00:21<00:14,  3.74s/it]",
      "\r 70%|███████   | 7/10 [00:23<00:10,  3.38s/it]",
      "\r 80%|████████  | 8/10 [00:44<00:17,  8.76s/it]",
      "\r 90%|█████████ | 9/10 [00:52<00:08,  8.29s/it]",
      "\r100%|██████████| 10/10 [00:55<00:00,  6.87s/it]",
      "\r100%|██████████| 10/10 [00:55<00:00,  5.56s/it]",
      "\n"
     ],
     "output_type": "stream"
    }
   ],
   "source": [
    "scan_object = talos.Scan(x=train_data,\n",
    "                         y=train_targets,\n",
    "                         model=build_better_model,\n",
    "                         experiment_name='find_optimal_params',\n",
    "                         params=param,\n",
    "                         round_limit=10)"
   ]
  },
  {
   "cell_type": "markdown",
   "source": [
    "If all different parameter configurations from the dictionary are used, the routine <code> Scan()</code> has to\n",
    "evaluate 768 different models. Depending on the neural network architecture and the number of training samples,\n",
    "this can be very time-consuming.\n",
    "\n",
    "As a solution, Talos offers several routines to limit the number of model configurations that is evaluated. Two useful\n",
    "commands of <code> Scan()</code> for this purpose are:\n",
    "\n",
    "* <code> round_limit=10</code> which limits the number of model evaluations to the specified integer value (e.g. \n",
    "10 model evaluations in this example).\n",
    "* <code> fraction_limit = 0.1</code> specifies the fraction of `params` that will be tested  (e.g. 10% of the \n",
    "configurations in this example).   "
   ],
   "metadata": {
    "collapsed": false,
    "pycharm": {
     "name": "#%% md\n"
    }
   }
  },
  {
   "cell_type": "markdown",
   "metadata": {},
   "source": [
    "### Access the results through the <code>Scan</code> object "
   ]
  },
  {
   "cell_type": "markdown",
   "source": [
    "Using <code> round_limit=10</code> we have investigated only ten parameter configurations (about 1% of \n",
    "all possible configurations) since the time\n",
    "for this tutorial is limited. But what are ten configurations that have been used and what is their\n",
    "performance?\n",
    "\n",
    "For this purpose, the results of the scan object can be directly accessed:"
   ],
   "metadata": {
    "collapsed": false,
    "pycharm": {
     "name": "#%% md\n"
    }
   }
  },
  {
   "cell_type": "code",
   "execution_count": 6,
   "outputs": [
    {
     "data": {
      "text/plain": "   round_epochs       loss       mae  batch_size  dropout_value  epoch_number  \\\n0            20  37.704890  4.482927           8            0.1            20   \n1            20  43.506418  4.881679           4            0.2            20   \n2            40   5.351569  1.719190           4            NaN            40   \n3            10  91.832655  6.885204           2            0.1            10   \n4            10  25.652057  3.899452           4            0.2            10   \n5            20  29.181809  3.623049           1            NaN            20   \n6            20  26.703653  3.908782           4            0.1            20   \n7            40   8.277896  2.190882           1            0.1            40   \n8            20  34.947427  4.486650           1            0.1            20   \n9            40  22.591999  3.607100           4            NaN            40   \n\n   number_of_layers  number_of_neurons optimizer  \n0                 1                 32   rmsprop  \n1                 2                 16      Adam  \n2                 2                 64      Adam  \n3                 1                 16      Adam  \n4                 2                 32      Adam  \n5                 1                  8   rmsprop  \n6                 2                 16   rmsprop  \n7                 2                 32      Adam  \n8                 1                  8   rmsprop  \n9                 1                  8   rmsprop  ",
      "text/html": "<div>\n<style scoped>\n    .dataframe tbody tr th:only-of-type {\n        vertical-align: middle;\n    }\n\n    .dataframe tbody tr th {\n        vertical-align: top;\n    }\n\n    .dataframe thead th {\n        text-align: right;\n    }\n</style>\n<table border=\"1\" class=\"dataframe\">\n  <thead>\n    <tr style=\"text-align: right;\">\n      <th></th>\n      <th>round_epochs</th>\n      <th>loss</th>\n      <th>mae</th>\n      <th>batch_size</th>\n      <th>dropout_value</th>\n      <th>epoch_number</th>\n      <th>number_of_layers</th>\n      <th>number_of_neurons</th>\n      <th>optimizer</th>\n    </tr>\n  </thead>\n  <tbody>\n    <tr>\n      <th>0</th>\n      <td>20</td>\n      <td>37.704890</td>\n      <td>4.482927</td>\n      <td>8</td>\n      <td>0.1</td>\n      <td>20</td>\n      <td>1</td>\n      <td>32</td>\n      <td>rmsprop</td>\n    </tr>\n    <tr>\n      <th>1</th>\n      <td>20</td>\n      <td>43.506418</td>\n      <td>4.881679</td>\n      <td>4</td>\n      <td>0.2</td>\n      <td>20</td>\n      <td>2</td>\n      <td>16</td>\n      <td>Adam</td>\n    </tr>\n    <tr>\n      <th>2</th>\n      <td>40</td>\n      <td>5.351569</td>\n      <td>1.719190</td>\n      <td>4</td>\n      <td>NaN</td>\n      <td>40</td>\n      <td>2</td>\n      <td>64</td>\n      <td>Adam</td>\n    </tr>\n    <tr>\n      <th>3</th>\n      <td>10</td>\n      <td>91.832655</td>\n      <td>6.885204</td>\n      <td>2</td>\n      <td>0.1</td>\n      <td>10</td>\n      <td>1</td>\n      <td>16</td>\n      <td>Adam</td>\n    </tr>\n    <tr>\n      <th>4</th>\n      <td>10</td>\n      <td>25.652057</td>\n      <td>3.899452</td>\n      <td>4</td>\n      <td>0.2</td>\n      <td>10</td>\n      <td>2</td>\n      <td>32</td>\n      <td>Adam</td>\n    </tr>\n    <tr>\n      <th>5</th>\n      <td>20</td>\n      <td>29.181809</td>\n      <td>3.623049</td>\n      <td>1</td>\n      <td>NaN</td>\n      <td>20</td>\n      <td>1</td>\n      <td>8</td>\n      <td>rmsprop</td>\n    </tr>\n    <tr>\n      <th>6</th>\n      <td>20</td>\n      <td>26.703653</td>\n      <td>3.908782</td>\n      <td>4</td>\n      <td>0.1</td>\n      <td>20</td>\n      <td>2</td>\n      <td>16</td>\n      <td>rmsprop</td>\n    </tr>\n    <tr>\n      <th>7</th>\n      <td>40</td>\n      <td>8.277896</td>\n      <td>2.190882</td>\n      <td>1</td>\n      <td>0.1</td>\n      <td>40</td>\n      <td>2</td>\n      <td>32</td>\n      <td>Adam</td>\n    </tr>\n    <tr>\n      <th>8</th>\n      <td>20</td>\n      <td>34.947427</td>\n      <td>4.486650</td>\n      <td>1</td>\n      <td>0.1</td>\n      <td>20</td>\n      <td>1</td>\n      <td>8</td>\n      <td>rmsprop</td>\n    </tr>\n    <tr>\n      <th>9</th>\n      <td>40</td>\n      <td>22.591999</td>\n      <td>3.607100</td>\n      <td>4</td>\n      <td>NaN</td>\n      <td>40</td>\n      <td>1</td>\n      <td>8</td>\n      <td>rmsprop</td>\n    </tr>\n  </tbody>\n</table>\n</div>"
     },
     "metadata": {},
     "output_type": "execute_result",
     "execution_count": 6
    }
   ],
   "source": [
    "# accessing the results data frame\n",
    "scan_object.data\n"
   ],
   "metadata": {
    "collapsed": false,
    "pycharm": {
     "name": "#%%\n",
     "is_executing": false
    }
   }
  },
  {
   "cell_type": "markdown",
   "source": [
    "The output on my local computer is (the results should differ on your machine since you \n",
    "consider ten other random parameter configurations which we will explain later on)\n",
    "\n",
    "<img src='https://raw.githubusercontent.com/DLR-SC/Hyperparameter_tutorial/master/img/talos_scan_output.png' \n",
    "width=1000px>\n",
    "\n",
    "There are several hyperparameter configurations with a mean average error (mae) in the range 2-3 \n",
    "(i.e. the average house pricing error is 2000-3000 dollar).\n",
    "Since the number of training samples is only 400, the results of the mean average error \n",
    "have a high variance and should not be overestimated. Nevertheless, we already obtain a certain \n",
    "understanding of a sensible size of some of the hyperparameters (e.g. 10 epochs is certainly not\n",
    " enough since 'mae' becomes large then).\n",
    " "
   ],
   "metadata": {
    "collapsed": false,
    "pycharm": {
     "name": "#%% md\n"
    }
   }
  },
  {
   "cell_type": "markdown",
   "source": [
    "You already noticed that your results differ from mine. This is due to the usage of a 'random search'\n",
    "strategy in Talos. More information on the search strategy are given \n",
    "in the summary details using <code>scan_object.details</code>.  "
   ],
   "metadata": {
    "collapsed": false,
    "pycharm": {
     "name": "#%% md\n"
    }
   }
  },
  {
   "cell_type": "code",
   "execution_count": 7,
   "outputs": [
    {
     "data": {
      "text/plain": "experiment_name        find_optimal_params\nrandom_method             uniform_mersenne\nreduction_method                      None\nreduction_interval                      50\nreduction_window                        20\nreduction_threshold                    0.2\nreduction_metric                   val_acc\ncomplete_time               11/19/19/17:05\nx_shape                          (404, 13)\ny_shape                             (404,)\ndtype: object"
     },
     "metadata": {},
     "output_type": "execute_result",
     "execution_count": 7
    }
   ],
   "source": [
    "# access the summary details\n",
    "scan_object.details\n"
   ],
   "metadata": {
    "collapsed": false,
    "pycharm": {
     "name": "#%%\n",
     "is_executing": false
    }
   }
  },
  {
   "cell_type": "markdown",
   "source": [
    "From the 768 possible hyperparameter configurations Talos considers a random subset\n",
    "of ten configurations (due to <code>round_limit=10</code>). This random subset \n",
    "is chosen with a 'Mersenne Twister' pseudorandom number generator. Other possible\n",
    "random choices in Talos are e.g. 'Halton' or 'Sobol' quasi Monte Carlo sequences. \n",
    "\n",
    "Note: If there is no parameter such as  <code> round_limit=10</code> or\n",
    "<code> fraction_limit = 0.1</code> the default optimization strategy \n",
    "is called 'grid search'. This means that all hyperparameter permutations in \n",
    "a given dictionary are processed. In most cases, this is not recommended\n",
    "for anything but very small permutation spaces. \n",
    "Therefore, better use a 'random search' routine."
   ],
   "metadata": {
    "collapsed": false,
    "pycharm": {
     "name": "#%% md\n"
    }
   }
  },
  {
   "cell_type": "markdown",
   "metadata": {},
   "source": [
    "In addition to statistics and meta-data related with the Scan, the used data (x and y) \n",
    "together with the saved model and model weights for each hyperparameter permutation is stored in the Scan object. "
   ]
  },
  {
   "cell_type": "code",
   "execution_count": 8,
   "outputs": [
    {
     "data": {
      "text/plain": "['{\"class_name\": \"Sequential\", \"config\": {\"name\": \"sequential_1\", \"layers\": [{\"class_name\": \"Dense\", \"config\": {\"name\": \"dense_1\", \"trainable\": true, \"batch_input_shape\": [null, 13], \"dtype\": \"float32\", \"units\": 32, \"activation\": \"relu\", \"use_bias\": true, \"kernel_initializer\": {\"class_name\": \"VarianceScaling\", \"config\": {\"scale\": 1.0, \"mode\": \"fan_avg\", \"distribution\": \"uniform\", \"seed\": null}}, \"bias_initializer\": {\"class_name\": \"Zeros\", \"config\": {}}, \"kernel_regularizer\": null, \"bias_regularizer\": null, \"activity_regularizer\": null, \"kernel_constraint\": null, \"bias_constraint\": null}}, {\"class_name\": \"Dropout\", \"config\": {\"name\": \"dropout_1\", \"trainable\": true, \"dtype\": \"float32\", \"rate\": 0.1, \"noise_shape\": null, \"seed\": null}}, {\"class_name\": \"Dense\", \"config\": {\"name\": \"dense_2\", \"trainable\": true, \"dtype\": \"float32\", \"units\": 1, \"activation\": \"linear\", \"use_bias\": true, \"kernel_initializer\": {\"class_name\": \"VarianceScaling\", \"config\": {\"scale\": 1.0, \"mode\": \"fan_avg\", \"distribution\": \"uniform\", \"seed\": null}}, \"bias_initializer\": {\"class_name\": \"Zeros\", \"config\": {}}, \"kernel_regularizer\": null, \"bias_regularizer\": null, \"activity_regularizer\": null, \"kernel_constraint\": null, \"bias_constraint\": null}}]}, \"keras_version\": \"2.3.1\", \"backend\": \"tensorflow\"}',\n '{\"class_name\": \"Sequential\", \"config\": {\"name\": \"sequential_1\", \"layers\": [{\"class_name\": \"Dense\", \"config\": {\"name\": \"dense_1\", \"trainable\": true, \"batch_input_shape\": [null, 13], \"dtype\": \"float32\", \"units\": 16, \"activation\": \"relu\", \"use_bias\": true, \"kernel_initializer\": {\"class_name\": \"VarianceScaling\", \"config\": {\"scale\": 1.0, \"mode\": \"fan_avg\", \"distribution\": \"uniform\", \"seed\": null}}, \"bias_initializer\": {\"class_name\": \"Zeros\", \"config\": {}}, \"kernel_regularizer\": null, \"bias_regularizer\": null, \"activity_regularizer\": null, \"kernel_constraint\": null, \"bias_constraint\": null}}, {\"class_name\": \"Dense\", \"config\": {\"name\": \"dense_2\", \"trainable\": true, \"dtype\": \"float32\", \"units\": 16, \"activation\": \"relu\", \"use_bias\": true, \"kernel_initializer\": {\"class_name\": \"VarianceScaling\", \"config\": {\"scale\": 1.0, \"mode\": \"fan_avg\", \"distribution\": \"uniform\", \"seed\": null}}, \"bias_initializer\": {\"class_name\": \"Zeros\", \"config\": {}}, \"kernel_regularizer\": null, \"bias_regularizer\": null, \"activity_regularizer\": null, \"kernel_constraint\": null, \"bias_constraint\": null}}, {\"class_name\": \"Dropout\", \"config\": {\"name\": \"dropout_1\", \"trainable\": true, \"dtype\": \"float32\", \"rate\": 0.2, \"noise_shape\": null, \"seed\": null}}, {\"class_name\": \"Dense\", \"config\": {\"name\": \"dense_3\", \"trainable\": true, \"dtype\": \"float32\", \"units\": 1, \"activation\": \"linear\", \"use_bias\": true, \"kernel_initializer\": {\"class_name\": \"VarianceScaling\", \"config\": {\"scale\": 1.0, \"mode\": \"fan_avg\", \"distribution\": \"uniform\", \"seed\": null}}, \"bias_initializer\": {\"class_name\": \"Zeros\", \"config\": {}}, \"kernel_regularizer\": null, \"bias_regularizer\": null, \"activity_regularizer\": null, \"kernel_constraint\": null, \"bias_constraint\": null}}]}, \"keras_version\": \"2.3.1\", \"backend\": \"tensorflow\"}',\n '{\"class_name\": \"Sequential\", \"config\": {\"name\": \"sequential_1\", \"layers\": [{\"class_name\": \"Dense\", \"config\": {\"name\": \"dense_1\", \"trainable\": true, \"batch_input_shape\": [null, 13], \"dtype\": \"float32\", \"units\": 64, \"activation\": \"relu\", \"use_bias\": true, \"kernel_initializer\": {\"class_name\": \"VarianceScaling\", \"config\": {\"scale\": 1.0, \"mode\": \"fan_avg\", \"distribution\": \"uniform\", \"seed\": null}}, \"bias_initializer\": {\"class_name\": \"Zeros\", \"config\": {}}, \"kernel_regularizer\": null, \"bias_regularizer\": null, \"activity_regularizer\": null, \"kernel_constraint\": null, \"bias_constraint\": null}}, {\"class_name\": \"Dense\", \"config\": {\"name\": \"dense_2\", \"trainable\": true, \"dtype\": \"float32\", \"units\": 64, \"activation\": \"relu\", \"use_bias\": true, \"kernel_initializer\": {\"class_name\": \"VarianceScaling\", \"config\": {\"scale\": 1.0, \"mode\": \"fan_avg\", \"distribution\": \"uniform\", \"seed\": null}}, \"bias_initializer\": {\"class_name\": \"Zeros\", \"config\": {}}, \"kernel_regularizer\": null, \"bias_regularizer\": null, \"activity_regularizer\": null, \"kernel_constraint\": null, \"bias_constraint\": null}}, {\"class_name\": \"Dense\", \"config\": {\"name\": \"dense_3\", \"trainable\": true, \"dtype\": \"float32\", \"units\": 1, \"activation\": \"linear\", \"use_bias\": true, \"kernel_initializer\": {\"class_name\": \"VarianceScaling\", \"config\": {\"scale\": 1.0, \"mode\": \"fan_avg\", \"distribution\": \"uniform\", \"seed\": null}}, \"bias_initializer\": {\"class_name\": \"Zeros\", \"config\": {}}, \"kernel_regularizer\": null, \"bias_regularizer\": null, \"activity_regularizer\": null, \"kernel_constraint\": null, \"bias_constraint\": null}}]}, \"keras_version\": \"2.3.1\", \"backend\": \"tensorflow\"}',\n '{\"class_name\": \"Sequential\", \"config\": {\"name\": \"sequential_1\", \"layers\": [{\"class_name\": \"Dense\", \"config\": {\"name\": \"dense_1\", \"trainable\": true, \"batch_input_shape\": [null, 13], \"dtype\": \"float32\", \"units\": 16, \"activation\": \"relu\", \"use_bias\": true, \"kernel_initializer\": {\"class_name\": \"VarianceScaling\", \"config\": {\"scale\": 1.0, \"mode\": \"fan_avg\", \"distribution\": \"uniform\", \"seed\": null}}, \"bias_initializer\": {\"class_name\": \"Zeros\", \"config\": {}}, \"kernel_regularizer\": null, \"bias_regularizer\": null, \"activity_regularizer\": null, \"kernel_constraint\": null, \"bias_constraint\": null}}, {\"class_name\": \"Dropout\", \"config\": {\"name\": \"dropout_1\", \"trainable\": true, \"dtype\": \"float32\", \"rate\": 0.1, \"noise_shape\": null, \"seed\": null}}, {\"class_name\": \"Dense\", \"config\": {\"name\": \"dense_2\", \"trainable\": true, \"dtype\": \"float32\", \"units\": 1, \"activation\": \"linear\", \"use_bias\": true, \"kernel_initializer\": {\"class_name\": \"VarianceScaling\", \"config\": {\"scale\": 1.0, \"mode\": \"fan_avg\", \"distribution\": \"uniform\", \"seed\": null}}, \"bias_initializer\": {\"class_name\": \"Zeros\", \"config\": {}}, \"kernel_regularizer\": null, \"bias_regularizer\": null, \"activity_regularizer\": null, \"kernel_constraint\": null, \"bias_constraint\": null}}]}, \"keras_version\": \"2.3.1\", \"backend\": \"tensorflow\"}',\n '{\"class_name\": \"Sequential\", \"config\": {\"name\": \"sequential_1\", \"layers\": [{\"class_name\": \"Dense\", \"config\": {\"name\": \"dense_1\", \"trainable\": true, \"batch_input_shape\": [null, 13], \"dtype\": \"float32\", \"units\": 32, \"activation\": \"relu\", \"use_bias\": true, \"kernel_initializer\": {\"class_name\": \"VarianceScaling\", \"config\": {\"scale\": 1.0, \"mode\": \"fan_avg\", \"distribution\": \"uniform\", \"seed\": null}}, \"bias_initializer\": {\"class_name\": \"Zeros\", \"config\": {}}, \"kernel_regularizer\": null, \"bias_regularizer\": null, \"activity_regularizer\": null, \"kernel_constraint\": null, \"bias_constraint\": null}}, {\"class_name\": \"Dense\", \"config\": {\"name\": \"dense_2\", \"trainable\": true, \"dtype\": \"float32\", \"units\": 32, \"activation\": \"relu\", \"use_bias\": true, \"kernel_initializer\": {\"class_name\": \"VarianceScaling\", \"config\": {\"scale\": 1.0, \"mode\": \"fan_avg\", \"distribution\": \"uniform\", \"seed\": null}}, \"bias_initializer\": {\"class_name\": \"Zeros\", \"config\": {}}, \"kernel_regularizer\": null, \"bias_regularizer\": null, \"activity_regularizer\": null, \"kernel_constraint\": null, \"bias_constraint\": null}}, {\"class_name\": \"Dropout\", \"config\": {\"name\": \"dropout_1\", \"trainable\": true, \"dtype\": \"float32\", \"rate\": 0.2, \"noise_shape\": null, \"seed\": null}}, {\"class_name\": \"Dense\", \"config\": {\"name\": \"dense_3\", \"trainable\": true, \"dtype\": \"float32\", \"units\": 1, \"activation\": \"linear\", \"use_bias\": true, \"kernel_initializer\": {\"class_name\": \"VarianceScaling\", \"config\": {\"scale\": 1.0, \"mode\": \"fan_avg\", \"distribution\": \"uniform\", \"seed\": null}}, \"bias_initializer\": {\"class_name\": \"Zeros\", \"config\": {}}, \"kernel_regularizer\": null, \"bias_regularizer\": null, \"activity_regularizer\": null, \"kernel_constraint\": null, \"bias_constraint\": null}}]}, \"keras_version\": \"2.3.1\", \"backend\": \"tensorflow\"}',\n '{\"class_name\": \"Sequential\", \"config\": {\"name\": \"sequential_1\", \"layers\": [{\"class_name\": \"Dense\", \"config\": {\"name\": \"dense_1\", \"trainable\": true, \"batch_input_shape\": [null, 13], \"dtype\": \"float32\", \"units\": 8, \"activation\": \"relu\", \"use_bias\": true, \"kernel_initializer\": {\"class_name\": \"VarianceScaling\", \"config\": {\"scale\": 1.0, \"mode\": \"fan_avg\", \"distribution\": \"uniform\", \"seed\": null}}, \"bias_initializer\": {\"class_name\": \"Zeros\", \"config\": {}}, \"kernel_regularizer\": null, \"bias_regularizer\": null, \"activity_regularizer\": null, \"kernel_constraint\": null, \"bias_constraint\": null}}, {\"class_name\": \"Dense\", \"config\": {\"name\": \"dense_2\", \"trainable\": true, \"dtype\": \"float32\", \"units\": 1, \"activation\": \"linear\", \"use_bias\": true, \"kernel_initializer\": {\"class_name\": \"VarianceScaling\", \"config\": {\"scale\": 1.0, \"mode\": \"fan_avg\", \"distribution\": \"uniform\", \"seed\": null}}, \"bias_initializer\": {\"class_name\": \"Zeros\", \"config\": {}}, \"kernel_regularizer\": null, \"bias_regularizer\": null, \"activity_regularizer\": null, \"kernel_constraint\": null, \"bias_constraint\": null}}]}, \"keras_version\": \"2.3.1\", \"backend\": \"tensorflow\"}',\n '{\"class_name\": \"Sequential\", \"config\": {\"name\": \"sequential_1\", \"layers\": [{\"class_name\": \"Dense\", \"config\": {\"name\": \"dense_1\", \"trainable\": true, \"batch_input_shape\": [null, 13], \"dtype\": \"float32\", \"units\": 16, \"activation\": \"relu\", \"use_bias\": true, \"kernel_initializer\": {\"class_name\": \"VarianceScaling\", \"config\": {\"scale\": 1.0, \"mode\": \"fan_avg\", \"distribution\": \"uniform\", \"seed\": null}}, \"bias_initializer\": {\"class_name\": \"Zeros\", \"config\": {}}, \"kernel_regularizer\": null, \"bias_regularizer\": null, \"activity_regularizer\": null, \"kernel_constraint\": null, \"bias_constraint\": null}}, {\"class_name\": \"Dense\", \"config\": {\"name\": \"dense_2\", \"trainable\": true, \"dtype\": \"float32\", \"units\": 16, \"activation\": \"relu\", \"use_bias\": true, \"kernel_initializer\": {\"class_name\": \"VarianceScaling\", \"config\": {\"scale\": 1.0, \"mode\": \"fan_avg\", \"distribution\": \"uniform\", \"seed\": null}}, \"bias_initializer\": {\"class_name\": \"Zeros\", \"config\": {}}, \"kernel_regularizer\": null, \"bias_regularizer\": null, \"activity_regularizer\": null, \"kernel_constraint\": null, \"bias_constraint\": null}}, {\"class_name\": \"Dropout\", \"config\": {\"name\": \"dropout_1\", \"trainable\": true, \"dtype\": \"float32\", \"rate\": 0.1, \"noise_shape\": null, \"seed\": null}}, {\"class_name\": \"Dense\", \"config\": {\"name\": \"dense_3\", \"trainable\": true, \"dtype\": \"float32\", \"units\": 1, \"activation\": \"linear\", \"use_bias\": true, \"kernel_initializer\": {\"class_name\": \"VarianceScaling\", \"config\": {\"scale\": 1.0, \"mode\": \"fan_avg\", \"distribution\": \"uniform\", \"seed\": null}}, \"bias_initializer\": {\"class_name\": \"Zeros\", \"config\": {}}, \"kernel_regularizer\": null, \"bias_regularizer\": null, \"activity_regularizer\": null, \"kernel_constraint\": null, \"bias_constraint\": null}}]}, \"keras_version\": \"2.3.1\", \"backend\": \"tensorflow\"}',\n '{\"class_name\": \"Sequential\", \"config\": {\"name\": \"sequential_1\", \"layers\": [{\"class_name\": \"Dense\", \"config\": {\"name\": \"dense_1\", \"trainable\": true, \"batch_input_shape\": [null, 13], \"dtype\": \"float32\", \"units\": 32, \"activation\": \"relu\", \"use_bias\": true, \"kernel_initializer\": {\"class_name\": \"VarianceScaling\", \"config\": {\"scale\": 1.0, \"mode\": \"fan_avg\", \"distribution\": \"uniform\", \"seed\": null}}, \"bias_initializer\": {\"class_name\": \"Zeros\", \"config\": {}}, \"kernel_regularizer\": null, \"bias_regularizer\": null, \"activity_regularizer\": null, \"kernel_constraint\": null, \"bias_constraint\": null}}, {\"class_name\": \"Dense\", \"config\": {\"name\": \"dense_2\", \"trainable\": true, \"dtype\": \"float32\", \"units\": 32, \"activation\": \"relu\", \"use_bias\": true, \"kernel_initializer\": {\"class_name\": \"VarianceScaling\", \"config\": {\"scale\": 1.0, \"mode\": \"fan_avg\", \"distribution\": \"uniform\", \"seed\": null}}, \"bias_initializer\": {\"class_name\": \"Zeros\", \"config\": {}}, \"kernel_regularizer\": null, \"bias_regularizer\": null, \"activity_regularizer\": null, \"kernel_constraint\": null, \"bias_constraint\": null}}, {\"class_name\": \"Dropout\", \"config\": {\"name\": \"dropout_1\", \"trainable\": true, \"dtype\": \"float32\", \"rate\": 0.1, \"noise_shape\": null, \"seed\": null}}, {\"class_name\": \"Dense\", \"config\": {\"name\": \"dense_3\", \"trainable\": true, \"dtype\": \"float32\", \"units\": 1, \"activation\": \"linear\", \"use_bias\": true, \"kernel_initializer\": {\"class_name\": \"VarianceScaling\", \"config\": {\"scale\": 1.0, \"mode\": \"fan_avg\", \"distribution\": \"uniform\", \"seed\": null}}, \"bias_initializer\": {\"class_name\": \"Zeros\", \"config\": {}}, \"kernel_regularizer\": null, \"bias_regularizer\": null, \"activity_regularizer\": null, \"kernel_constraint\": null, \"bias_constraint\": null}}]}, \"keras_version\": \"2.3.1\", \"backend\": \"tensorflow\"}',\n '{\"class_name\": \"Sequential\", \"config\": {\"name\": \"sequential_1\", \"layers\": [{\"class_name\": \"Dense\", \"config\": {\"name\": \"dense_1\", \"trainable\": true, \"batch_input_shape\": [null, 13], \"dtype\": \"float32\", \"units\": 8, \"activation\": \"relu\", \"use_bias\": true, \"kernel_initializer\": {\"class_name\": \"VarianceScaling\", \"config\": {\"scale\": 1.0, \"mode\": \"fan_avg\", \"distribution\": \"uniform\", \"seed\": null}}, \"bias_initializer\": {\"class_name\": \"Zeros\", \"config\": {}}, \"kernel_regularizer\": null, \"bias_regularizer\": null, \"activity_regularizer\": null, \"kernel_constraint\": null, \"bias_constraint\": null}}, {\"class_name\": \"Dropout\", \"config\": {\"name\": \"dropout_1\", \"trainable\": true, \"dtype\": \"float32\", \"rate\": 0.1, \"noise_shape\": null, \"seed\": null}}, {\"class_name\": \"Dense\", \"config\": {\"name\": \"dense_2\", \"trainable\": true, \"dtype\": \"float32\", \"units\": 1, \"activation\": \"linear\", \"use_bias\": true, \"kernel_initializer\": {\"class_name\": \"VarianceScaling\", \"config\": {\"scale\": 1.0, \"mode\": \"fan_avg\", \"distribution\": \"uniform\", \"seed\": null}}, \"bias_initializer\": {\"class_name\": \"Zeros\", \"config\": {}}, \"kernel_regularizer\": null, \"bias_regularizer\": null, \"activity_regularizer\": null, \"kernel_constraint\": null, \"bias_constraint\": null}}]}, \"keras_version\": \"2.3.1\", \"backend\": \"tensorflow\"}',\n '{\"class_name\": \"Sequential\", \"config\": {\"name\": \"sequential_1\", \"layers\": [{\"class_name\": \"Dense\", \"config\": {\"name\": \"dense_1\", \"trainable\": true, \"batch_input_shape\": [null, 13], \"dtype\": \"float32\", \"units\": 8, \"activation\": \"relu\", \"use_bias\": true, \"kernel_initializer\": {\"class_name\": \"VarianceScaling\", \"config\": {\"scale\": 1.0, \"mode\": \"fan_avg\", \"distribution\": \"uniform\", \"seed\": null}}, \"bias_initializer\": {\"class_name\": \"Zeros\", \"config\": {}}, \"kernel_regularizer\": null, \"bias_regularizer\": null, \"activity_regularizer\": null, \"kernel_constraint\": null, \"bias_constraint\": null}}, {\"class_name\": \"Dense\", \"config\": {\"name\": \"dense_2\", \"trainable\": true, \"dtype\": \"float32\", \"units\": 1, \"activation\": \"linear\", \"use_bias\": true, \"kernel_initializer\": {\"class_name\": \"VarianceScaling\", \"config\": {\"scale\": 1.0, \"mode\": \"fan_avg\", \"distribution\": \"uniform\", \"seed\": null}}, \"bias_initializer\": {\"class_name\": \"Zeros\", \"config\": {}}, \"kernel_regularizer\": null, \"bias_regularizer\": null, \"activity_regularizer\": null, \"kernel_constraint\": null, \"bias_constraint\": null}}]}, \"keras_version\": \"2.3.1\", \"backend\": \"tensorflow\"}']"
     },
     "metadata": {},
     "output_type": "execute_result",
     "execution_count": 8
    }
   ],
   "source": [
    "# accessing the saved models which returns a list of models\n",
    "# scan_object.saved_models"
   ],
   "metadata": {
    "collapsed": false,
    "pycharm": {
     "name": "#%%\n",
     "is_executing": false
    }
   }
  },
  {
   "cell_type": "code",
   "execution_count": 9,
   "metadata": {
    "pycharm": {
     "is_executing": false
    }
   },
   "outputs": [
    {
     "data": {
      "text/plain": "[array([[-5.32345474e-01, -6.13546908e-01, -5.21092236e-01,\n         -1.35704681e-01, -6.90501407e-02, -1.93393841e-01,\n         -3.42138231e-01, -8.12956572e-01,  1.73973907e-02,\n         -2.07943559e-01, -1.94409072e-01, -2.89659113e-01,\n         -4.17488515e-01, -2.40049154e-01,  1.21620044e-01,\n          1.97647721e-01, -8.00309300e-01, -3.16637665e-01,\n         -4.44613755e-01, -8.11539114e-01, -6.15705028e-02,\n         -2.13762894e-01, -8.08236659e-01, -5.52149653e-01,\n          2.18339749e-02, -2.81834751e-01,  7.26083219e-02,\n         -6.36425674e-01, -2.05465019e-01, -1.77331418e-02,\n         -3.31262678e-01, -6.37404740e-01],\n        [-6.93917632e-01, -9.74001288e-02,  1.69603042e-02,\n          1.09779485e-01, -1.01933241e-01,  2.89042979e-01,\n         -6.28682256e-01, -5.13319671e-01,  3.85717116e-02,\n          1.84596926e-01, -7.50628412e-01,  2.44876921e-01,\n         -8.07150900e-01, -1.45662203e-01, -8.91692042e-01,\n          2.36761600e-01,  1.59859315e-01,  1.98100284e-01,\n         -7.01936126e-01, -4.79444444e-01,  2.45281577e-01,\n         -1.86610520e-02, -2.82019883e-01,  2.78912336e-01,\n          1.67825297e-01, -8.62657845e-01, -1.03355935e-02,\n         -5.74932992e-01,  3.47303338e-02,  3.27948093e-01,\n          2.42239609e-01, -5.18432319e-01],\n        [ 6.36622190e-01, -8.91151279e-03, -5.52773237e-01,\n         -5.79289615e-01, -1.18342869e-01, -5.54143071e-01,\n         -4.06096838e-02,  5.40321805e-02, -2.49843821e-01,\n         -1.92143276e-01,  8.41726780e-01,  9.60751623e-02,\n         -3.18797916e-01,  1.65653229e-01,  2.01794207e-01,\n          5.00900149e-01, -3.67016867e-02,  1.03746228e-01,\n          2.74212748e-01, -2.21205667e-01, -1.37668669e-01,\n         -6.26118839e-01, -3.00660610e-01, -3.45112473e-01,\n          1.96907893e-01,  4.77982491e-01,  3.08994859e-01,\n         -2.02824831e-01, -1.24649525e-01,  5.89313135e-02,\n          8.82824138e-03,  1.51635975e-01],\n        [ 2.51644522e-01, -1.29709288e-01, -4.99286562e-01,\n          2.42334679e-01, -9.03589278e-02, -5.76041818e-01,\n         -9.37153280e-01,  7.31583163e-02, -1.25783071e-01,\n          3.72556657e-01, -4.01904508e-02, -2.76494950e-01,\n         -1.00995384e-01, -2.33912781e-01,  4.48138952e-01,\n          7.63551071e-02,  2.94771254e-01, -9.66629982e-02,\n          3.08069736e-02,  9.46869180e-02,  2.12307423e-01,\n          2.37081543e-01,  1.70179412e-01, -2.06940427e-01,\n         -1.05070569e-01, -5.61566278e-02, -3.85959037e-02,\n          9.21645090e-02,  6.24980927e-02,  5.31482041e-01,\n         -4.87465382e-01,  3.66476893e-01],\n        [ 4.71590459e-01,  4.16605473e-02,  1.52640447e-01,\n         -1.19401388e-01, -2.36059532e-01, -1.19004399e-01,\n          4.44736987e-01,  6.54976249e-01, -5.67292969e-04,\n         -8.50457624e-02,  3.01561683e-01, -4.87237275e-01,\n         -4.53570098e-01,  4.24569212e-02,  5.93420982e-01,\n          9.38917510e-03, -2.58258343e-01,  3.40388924e-01,\n          2.00167954e-01, -5.77786148e-01,  2.77878135e-01,\n         -3.75526547e-01, -4.03931171e-01, -3.79435182e-01,\n         -1.39534250e-01,  4.14688528e-01,  1.12765580e-02,\n         -9.41995680e-02, -4.60231394e-01, -3.21713895e-01,\n         -6.95970178e-01, -4.95855689e-01],\n        [-3.70673448e-01,  6.42960191e-01,  5.26301384e-01,\n          4.95957136e-01,  6.61402121e-02,  7.57444739e-01,\n         -7.85841644e-01,  5.71331084e-01,  1.65180638e-01,\n          4.03442711e-01,  1.09765753e-01,  6.47804737e-01,\n          4.34690326e-01, -1.24808393e-01, -4.85729575e-01,\n          3.11033636e-01,  1.43083438e-01, -1.75409585e-01,\n          1.16308808e-01, -8.79645124e-02,  7.01000631e-01,\n          5.95324337e-01,  3.12240243e-01,  7.12294102e-01,\n          6.51880577e-02,  3.01748604e-01, -2.32423261e-01,\n          5.04340157e-02,  4.34865415e-01,  3.93737286e-01,\n          2.08324969e-01,  2.77142972e-01],\n        [ 7.47903287e-01,  4.71491106e-02,  3.46872330e-01,\n         -5.39744556e-01,  1.37461096e-01, -6.11055374e-01,\n         -1.72905862e-01,  9.13689315e-01,  9.54148024e-02,\n         -5.71919000e-03,  6.13596320e-01, -1.26196757e-01,\n          4.39866520e-02,  1.76985607e-01,  1.03098184e-01,\n         -7.15608746e-02,  3.60280633e-01,  1.38497084e-01,\n          7.42819726e-01,  2.40225464e-01,  2.22241208e-01,\n         -5.60581625e-01, -2.01105922e-01,  2.75208596e-02,\n          5.71346208e-02,  7.85614192e-01, -1.02403492e-01,\n          1.98078051e-01, -9.83029306e-02, -1.22629710e-01,\n         -2.25678369e-01, -4.31800634e-02],\n        [-7.08014190e-01,  2.72204041e-01,  1.10564597e-01,\n          4.43534166e-01,  3.45853925e-01,  4.27930355e-01,\n          5.68317398e-02, -6.34041309e-01, -2.15176448e-01,\n          3.70669097e-01, -8.29251051e-01,  3.50373596e-01,\n         -2.95014948e-01,  2.21859738e-01, -1.42572314e-01,\n         -5.54393351e-01,  2.23072022e-01,  1.94764063e-01,\n         -7.24221170e-01, -1.66635856e-01, -3.51979695e-02,\n          2.02460904e-02, -1.05614945e-01,  2.49618575e-01,\n          3.19385797e-01, -9.13342595e-01,  8.63141939e-02,\n         -3.28923285e-01,  3.63437802e-01, -1.26933068e-01,\n          4.76061821e-01, -1.14123680e-01],\n        [ 3.58721852e-01, -4.60282862e-01, -4.39465851e-01,\n         -5.27446151e-01,  2.07252637e-01, -4.90632027e-01,\n          1.32084161e-01, -1.15088880e-01, -1.55312568e-01,\n         -3.75817716e-01,  4.81288493e-01, -8.01648915e-01,\n         -4.93576586e-01,  6.26748949e-02,  2.14978576e-01,\n         -1.78775638e-01, -3.82522047e-01,  3.23431380e-02,\n          4.90872592e-01, -8.85372996e-01,  4.44210708e-01,\n         -5.61579108e-01, -2.28100374e-01, -3.54138702e-01,\n         -2.18737602e-01,  3.14966857e-01, -7.76819661e-02,\n         -2.07070604e-01, -6.60951972e-01,  5.81741743e-02,\n         -8.44801664e-02, -5.33024788e-01],\n        [ 5.56796134e-01, -5.01903892e-01, -3.37366879e-01,\n         -2.36225665e-01,  6.09380715e-02, -8.83590937e-01,\n          4.41739142e-01,  2.66047686e-01,  2.70000041e-01,\n         -1.59091443e-01,  6.88378572e-01, -1.25989988e-01,\n         -7.79609561e-01,  2.44186595e-01,  4.40747440e-01,\n          2.98205584e-01, -4.01355147e-01, -3.16087544e-01,\n          4.44155246e-01, -4.42640036e-01, -2.37722024e-01,\n         -7.32851863e-01, -6.25765443e-01, -6.04821980e-01,\n          2.45423257e-01,  2.46428445e-01, -9.51864645e-02,\n         -1.18987456e-01, -1.05873562e-01, -4.58944708e-01,\n         -3.10272008e-01, -4.59086150e-01],\n        [-2.45066211e-02, -3.50224495e-01, -7.15831995e-01,\n         -6.45508528e-01, -2.23840639e-01, -3.58395815e-01,\n          8.84116828e-01,  3.49825829e-01, -1.24979898e-01,\n         -6.50812149e-01,  2.51727194e-01,  2.16779083e-01,\n         -2.84625739e-01, -1.91934228e-01,  6.61350489e-01,\n         -1.72342345e-01, -1.32472545e-01,  1.87024802e-01,\n         -1.70952618e-01, -3.87038410e-01, -7.62587041e-02,\n         -4.63057846e-01, -4.88721848e-01, -2.64653802e-01,\n          1.49774075e-01,  1.47840218e-03,  1.53657153e-01,\n         -3.40106010e-01, -3.90703380e-01, -4.43295300e-01,\n          3.98701251e-01, -4.17446256e-01],\n        [ 1.92503035e-01,  5.79411745e-01,  2.35948995e-01,\n          2.29921155e-02, -2.60390878e-01,  6.52110517e-01,\n         -2.26765007e-01,  8.65134478e-01,  2.03630747e-03,\n          2.78443813e-01,  2.20685706e-01, -3.66225019e-02,\n          2.74190187e-01,  2.07832679e-01, -2.28635237e-01,\n         -1.49818152e-01,  7.67750442e-01, -8.04398432e-02,\n         -1.77130118e-01,  3.42173308e-01,  1.71837419e-01,\n          1.49237856e-01,  4.43390131e-01,  3.03545862e-01,\n          1.50090411e-01,  2.95021296e-01,  8.05964917e-02,\n          3.31695139e-01,  4.02201623e-01,  3.19435805e-01,\n         -7.84317553e-02,  2.26098061e-01],\n        [-2.75426824e-02, -4.39675033e-01, -2.59673625e-01,\n          1.66689772e-02,  1.95682973e-01, -7.20226467e-01,\n          3.24110419e-01,  3.27441953e-02,  2.75189221e-01,\n         -6.55432463e-01,  4.42565046e-02,  6.64007664e-02,\n         -2.39479896e-02, -8.74534547e-02,  2.42698248e-02,\n         -4.53462675e-02, -6.56035662e-01,  9.45472494e-02,\n         -3.06489766e-01, -5.92218935e-01, -6.89874366e-02,\n         -2.49174282e-01, -5.98174930e-01, -5.85203350e-01,\n         -1.45690814e-01, -3.15069675e-01, -2.37218991e-01,\n         -6.75013483e-01,  5.87198697e-03, -3.57415646e-01,\n         -7.54585564e-02, -7.39120305e-01]], dtype=float32),\n array([ 0.7310198 ,  0.46148536,  0.6373321 ,  0.46961308, -0.17076738,\n         0.56324285,  0.63085335,  0.6894889 , -0.18446979,  0.44523096,\n         0.6410154 ,  0.48089907,  0.62528044, -0.14394994,  0.6077518 ,\n         0.1371918 ,  0.45281157, -0.07400829,  0.61329514,  0.6221561 ,\n         0.45516405,  0.6077177 ,  0.5082026 ,  0.51177317, -0.19669364,\n         0.6303654 , -0.15030019,  0.521388  ,  0.4793596 ,  0.4742086 ,\n         0.5133348 ,  0.6065003 ], dtype=float32),\n array([[ 0.57785714],\n        [ 0.7206267 ],\n        [ 0.4436535 ],\n        [ 0.5190963 ],\n        [-0.1778354 ],\n        [ 0.37531582],\n        [ 0.46026438],\n        [ 0.6523038 ],\n        [-0.01810179],\n        [ 0.5976171 ],\n        [ 0.59340364],\n        [ 0.73931104],\n        [ 0.70184726],\n        [ 0.05368416],\n        [ 0.48248062],\n        [ 0.20023437],\n        [ 0.76434594],\n        [ 0.10650492],\n        [ 0.71782243],\n        [ 0.6057845 ],\n        [ 0.65705705],\n        [ 0.4308462 ],\n        [ 0.5883263 ],\n        [ 0.49355912],\n        [-0.15405126],\n        [ 0.62603486],\n        [ 0.03921599],\n        [ 0.91176265],\n        [ 0.800713  ],\n        [ 0.5684822 ],\n        [ 0.4798603 ],\n        [ 0.5046766 ]], dtype=float32),\n array([0.3933785], dtype=float32)]"
     },
     "metadata": {},
     "output_type": "execute_result",
     "execution_count": 9
    }
   ],
   "source": [
    "# accessing the saved weights for models which returns a list of weights\n",
    "model_weights = scan_object.saved_weights\n",
    "\n",
    "# weights of first model \n",
    "model_weights[0]"
   ]
  },
  {
   "cell_type": "markdown",
   "metadata": {},
   "source": [
    "The Scan object can be further used, and is required, as input for Predict(), Evaluate(), and Deploy(). \n",
    "More about this in the corresponding sections below."
   ]
  },
  {
   "cell_type": "markdown",
   "metadata": {},
   "source": [
    "### Analysing the Scan results with <code>Reporting()</code> "
   ]
  },
  {
   "cell_type": "markdown",
   "metadata": {},
   "source": [
    "In the Scan process, the results are stored round-by-round in the corresponding experiment log which is a .csv file stored in the \n",
    "output directory (which is './find_optimal_params' our case). The Reporting() \n",
    "accepts as its source either a file name, or the Scan object. "
   ]
  },
  {
   "cell_type": "code",
   "execution_count": 10,
   "metadata": {
    "pycharm": {
     "is_executing": false
    }
   },
   "outputs": [],
   "source": [
    "# use Scan object as input\n",
    "analyze_object = talos.Analyze(scan_object)"
   ]
  },
  {
   "cell_type": "code",
   "execution_count": 11,
   "outputs": [
    {
     "data": {
      "text/plain": "10"
     },
     "metadata": {},
     "output_type": "execute_result",
     "execution_count": 11
    }
   ],
   "source": [
    "# get the number of rounds in the Scan\n",
    "analyze_object.rounds()"
   ],
   "metadata": {
    "collapsed": false,
    "pycharm": {
     "name": "#%%\n",
     "is_executing": false
    }
   }
  },
  {
   "cell_type": "code",
   "execution_count": 12,
   "outputs": [
    {
     "data": {
      "text/plain": "1.7191896438598633"
     },
     "metadata": {},
     "output_type": "execute_result",
     "execution_count": 12
    }
   ],
   "source": [
    "# get the lowest result for any metric (if lower is better)\n",
    "analyze_object.low('mae')"
   ],
   "metadata": {
    "collapsed": false,
    "pycharm": {
     "name": "#%%\n",
     "is_executing": false
    }
   }
  },
  {
   "cell_type": "markdown",
   "source": [
    "Next, we want to know the parameters of our best n=3 parameter runs. \n",
    "For this purpose we use <code> best_params</code>. It is alluring to consider the best \n",
    "result only (i.e. n=1 in the following cell) but keep in mind that due to the high\n",
    "variance in the result, a sequence of more models should be considered.\n",
    "\n",
    "The signature of <code> best_params()</code> is the following:\n",
    "* The first argument (here 'mae') is the metric that is considered.\n",
    "* The second argument is a list of metrics / loss functions that is not required here\n",
    "* The third argument gives the 'n' best results\n",
    "* Fourth argument: ascending | bool | Set to True when `metric` is to be minimized eg. loss or mae"
   ],
   "metadata": {
    "collapsed": false,
    "pycharm": {
     "name": "#%% md\n"
    }
   }
  },
  {
   "cell_type": "code",
   "execution_count": 13,
   "outputs": [
    {
     "data": {
      "text/plain": "array([[40, 40, 2, nan, 4, 64, 'Adam', 0],\n       [40, 40, 2, 0.1, 1, 32, 'Adam', 1],\n       [40, 40, 1, nan, 4, 8, 'rmsprop', 2]], dtype=object)"
     },
     "metadata": {},
     "output_type": "execute_result",
     "execution_count": 13
    }
   ],
   "source": [
    "# get the best n=3 paramaters\n",
    "analyze_object.best_params('mae', ['loss'], n=3, ascending=True)"
   ],
   "metadata": {
    "collapsed": false,
    "pycharm": {
     "name": "#%%\n",
     "is_executing": false
    }
   }
  },
  {
   "cell_type": "markdown",
   "source": [
    "It is very important to determine which of your hyperparameters has the largest impact on \n",
    "your performance metric. These are the parameters that should be further investigated. \n",
    "\n",
    "One solution to achieve this is to compute the linear correlation between your performance metric\n",
    "'mae' and your hyperparamters. The correlation coefficient is +1 in the case of a perfect direct\n",
    "(increasing) linear relationship, -1 in the case of a perfect decreasing (inverse) linear \n",
    "relationship and some values in (-1, 1) otherwise (indicating the degree of linear dependance\n",
    "between the variables).\n",
    "\n",
    "We employ <code> correlate()</code> for computing the correlation"
   ],
   "metadata": {
    "collapsed": false,
    "pycharm": {
     "name": "#%% md\n"
    }
   }
  },
  {
   "cell_type": "code",
   "execution_count": 14,
   "outputs": [
    {
     "data": {
      "text/plain": "batch_size           0.037380\ndropout_value       -0.000113\nepoch_number        -0.770577\nnumber_of_layers    -0.478704\nnumber_of_neurons   -0.569219\nName: mae, dtype: float64"
     },
     "metadata": {},
     "output_type": "execute_result",
     "execution_count": 14
    }
   ],
   "source": [
    "# get correlation for hyperparameters against a performance metric such as 'mae' (we exclude 'loss' since \n",
    "# this is not a hyperparameter)\n",
    "analyze_object.correlate('mae', ['loss', 'round_epochs'])"
   ],
   "metadata": {
    "collapsed": false,
    "pycharm": {
     "name": "#%%\n",
     "is_executing": false
    }
   }
  },
  {
   "cell_type": "markdown",
   "source": [
    "Since you have only then different hyperparameter runs, the output is almost random. However, in practice \n",
    "with hundreds or thousand of different configurations the result is much less stochastic noise in this output.\n",
    "\n",
    "<img src='https://raw.githubusercontent.com/DLR-SC/Hyperparameter_tutorial/master/img/talos_correlate.png' \n",
    "width=240px>\n",
    "\n",
    "In my special case, 'epoch_number' and 'number_of_neurons' have the strongest inverse effect on 'mae'\n",
    "(i.e. 'more epochs tend to lead to a lower mean average error'). The 'batch_size' seems to be less important. "
   ],
   "metadata": {
    "collapsed": false,
    "pycharm": {
     "name": "#%% md\n"
    }
   }
  },
  {
   "cell_type": "markdown",
   "metadata": {},
   "source": [
    "You can also plot a heatmap of this correlation using <code> plot_corr()</code>:"
   ]
  },
  {
   "cell_type": "code",
   "execution_count": 15,
   "outputs": [
    {
     "name": "stderr",
     "text": [
      "findfont: Font family ['Verdana'] not found. Falling back to DejaVu Sans.\n"
     ],
     "output_type": "stream"
    },
    {
     "data": {
      "text/plain": "<Figure size 576x576 with 2 Axes>",
      "image/png": "[encoded data removed]"
     },
     "metadata": {},
     "output_type": "display_data"
    }
   ],
   "source": [
    "# heatmap correlation\n",
    "analyze_object.plot_corr('mae', ['loss', 'round_epochs'])"
   ],
   "metadata": {
    "collapsed": false,
    "pycharm": {
     "name": "#%%\n",
     "is_executing": false
    }
   }
  },
  {
   "cell_type": "markdown",
   "source": [
    "The correlation between variables in one viable way to find the most important\n",
    "hyperparameters. A different approach is given by <code> plot_bars()</code>.\n",
    "Using this function, the metric 'mae' is plotted for different values of the \n",
    "hyperparameters 'number_of_neurons', 'number_of_layers' and 'epoch_number'. As mentioned\n",
    "before, 'mae' seems to decrease for larger values of these hyperparameters (in the\n",
    "specified region of the dictionary).\n",
    "\n",
    "The bar grid cotanins error bars if there is more than one result for the specified\n",
    "hyperparameter set ('number_of_neurons', 'epoch_number', 'number_of_layers'). "
   ],
   "metadata": {
    "collapsed": false,
    "pycharm": {
     "name": "#%% md\n"
    }
   }
  },
  {
   "cell_type": "code",
   "execution_count": 16,
   "outputs": [
    {
     "data": {
      "text/plain": "<Figure size 1253.38x288 with 2 Axes>",
      "image/png": "[encoded data removed]"
     },
     "metadata": {},
     "output_type": "display_data"
    }
   ],
   "source": [
    "# a four dimensional bar grid\n",
    "analyze_object.plot_bars('number_of_neurons','mae', 'epoch_number', 'number_of_layers')"
   ],
   "metadata": {
    "collapsed": false,
    "pycharm": {
     "name": "#%%\n",
     "is_executing": false
    }
   }
  },
  {
   "cell_type": "markdown",
   "source": [
    "My current output plot is\n",
    "\n",
    "<img src='https://raw.githubusercontent.com/DLR-SC/Hyperparameter_tutorial/master/img/talos_bar.png' \n",
    "width=1300px>"
   ],
   "metadata": {
    "collapsed": false,
    "pycharm": {
     "name": "#%% md\n"
    }
   }
  },
  {
   "cell_type": "markdown",
   "source": [
    "## Tasks ## \n",
    "__Excercise 3:__\n",
    " - Apply the described process to your Talos output. In more detail:\n",
    "    * Find the hyperparameters that have the largest effect on the performance metric.\n",
    "    * Create a 2nd hyperparameter dictionary that further investigates these important hyperparameters\n",
    "    * Use <code> Scan() </code> to investigate the 2nd dictionary in more detail \n",
    "    (use larger values for round_limit than 10).\n",
    "    * Try to find a close-to-optimal model for this specific regression problem. "
   ],
   "metadata": {
    "collapsed": false,
    "pycharm": {
     "name": "#%% md\n"
    }
   }
  },
  {
   "cell_type": "code",
   "execution_count": 17,
   "outputs": [],
   "source": [
    "# your new hyperparameter dictionary\n",
    "param2 = {'number_of_layers' : [1, 2],\n",
    "         'number_of_neurons' : [8, 16, 32, 64],\n",
    "         'epoch_number' : [10, 20, 40, 80],\n",
    "         'dropout_value' : [0.1],\n",
    "         'optimizer' : ['Adam'],\n",
    "         'batch_size' : [2]}"
   ],
   "metadata": {
    "collapsed": false,
    "pycharm": {
     "name": "#%%\n",
     "is_executing": false
    }
   }
  },
  {
   "cell_type": "code",
   "execution_count": 18,
   "outputs": [
    {
     "name": "stderr",
     "text": [
      "\r  0%|          | 0/30 [00:00<?, ?it/s]",
      "\r  3%|▎         | 1/30 [00:13<06:42, 13.86s/it]",
      "\r  7%|▋         | 2/30 [00:16<04:51, 10.41s/it]",
      "\r 10%|█         | 3/30 [00:20<03:48,  8.45s/it]",
      "\r 13%|█▎        | 4/30 [00:22<02:52,  6.63s/it]",
      "\r 17%|█▋        | 5/30 [00:24<02:14,  5.39s/it]",
      "\r 20%|██        | 6/30 [00:29<02:03,  5.15s/it]",
      "\r 23%|██▎       | 7/30 [00:32<01:41,  4.40s/it]",
      "\r 27%|██▋       | 8/30 [00:46<02:45,  7.51s/it]",
      "\r 30%|███       | 9/30 [01:03<03:31, 10.09s/it]",
      "\r 33%|███▎      | 10/30 [01:05<02:37,  7.87s/it]",
      "\r 37%|███▋      | 11/30 [01:13<02:27,  7.78s/it]",
      "\r 40%|████      | 12/30 [01:29<03:05, 10.29s/it]",
      "\r 43%|████▎     | 13/30 [01:32<02:20,  8.24s/it]",
      "\r 47%|████▋     | 14/30 [01:38<01:58,  7.42s/it]",
      "\r 50%|█████     | 15/30 [01:43<01:39,  6.65s/it]",
      "\r 53%|█████▎    | 16/30 [01:59<02:11,  9.40s/it]",
      "\r 57%|█████▋    | 17/30 [02:06<01:55,  8.86s/it]",
      "\r 60%|██████    | 18/30 [02:11<01:30,  7.58s/it]",
      "\r 63%|██████▎   | 19/30 [02:25<01:43,  9.43s/it]",
      "\r 67%|██████▋   | 20/30 [02:38<01:45, 10.55s/it]",
      "\r 70%|███████   | 21/30 [02:42<01:17,  8.61s/it]",
      "\r 73%|███████▎  | 22/30 [02:44<00:53,  6.71s/it]",
      "\r 77%|███████▋  | 23/30 [02:51<00:46,  6.67s/it]",
      "\r 80%|████████  | 24/30 [02:59<00:43,  7.20s/it]",
      "\r 83%|████████▎ | 25/30 [03:08<00:37,  7.57s/it]",
      "\r 87%|████████▋ | 26/30 [03:13<00:28,  7.07s/it]",
      "\r 90%|█████████ | 27/30 [03:16<00:17,  5.79s/it]",
      "\r 93%|█████████▎| 28/30 [03:26<00:13,  6.83s/it]",
      "\r 97%|█████████▋| 29/30 [03:30<00:06,  6.06s/it]",
      "\r100%|██████████| 30/30 [03:37<00:00,  6.39s/it]",
      "\r100%|██████████| 30/30 [03:37<00:00,  7.25s/it]",
      "\n"
     ],
     "output_type": "stream"
    }
   ],
   "source": [
    "scan_object2 = talos.Scan(x=train_data,\n",
    "                         y=train_targets,\n",
    "                         model=build_better_model,\n",
    "                         experiment_name='find_optimal_params',\n",
    "                         params=param2,\n",
    "                         round_limit=30)"
   ],
   "metadata": {
    "collapsed": false,
    "pycharm": {
     "name": "#%%\n",
     "is_executing": false
    }
   }
  },
  {
   "cell_type": "code",
   "execution_count": 19,
   "outputs": [
    {
     "data": {
      "text/plain": "    round_epochs       loss       mae  batch_size  dropout_value  \\\n0             80  11.467742  2.539011           2            0.1   \n1             10  86.810413  6.723016           2            0.1   \n2             20  17.857129  2.953621           2            0.1   \n3             10  38.653540  4.272592           2            0.1   \n4             10  26.391260  3.604921           2            0.1   \n5             20  11.708395  2.526502           2            0.1   \n6             10  77.441697  5.916627           2            0.1   \n7             80   5.478784  1.692611           2            0.1   \n8             80  17.816258  3.195865           2            0.1   \n9             10  51.428903  4.811627           2            0.1   \n10            40   8.293915  2.140633           2            0.1   \n11            80  19.264721  3.134720           2            0.1   \n12            10  14.238281  2.617625           2            0.1   \n13            20  20.210732  3.330528           2            0.1   \n14            20  16.653860  2.827091           2            0.1   \n15            80  10.757023  2.357431           2            0.1   \n16            40  31.252665  4.048366           2            0.1   \n17            20  20.843629  3.379933           2            0.1   \n18            80   8.954266  2.217166           2            0.1   \n19            80  14.419518  2.864135           2            0.1   \n20            20  24.723947  3.651110           2            0.1   \n21            10  30.348445  3.699537           2            0.1   \n22            40  13.472009  2.612639           2            0.1   \n23            40  11.145350  2.479538           2            0.1   \n24            40  49.518547  4.943301           2            0.1   \n25            20  56.226302  5.049223           2            0.1   \n26            10  18.703999  3.126820           2            0.1   \n27            40  15.794249  2.879982           2            0.1   \n28            20  40.783817  4.584077           2            0.1   \n29            40  14.838179  2.738791           2            0.1   \n\n    epoch_number  number_of_layers  number_of_neurons optimizer  \n0             80                 1                 32      Adam  \n1             10                 1                  8      Adam  \n2             20                 1                 64      Adam  \n3             10                 1                 32      Adam  \n4             10                 2                 16      Adam  \n5             20                 2                 64      Adam  \n6             10                 2                  8      Adam  \n7             80                 2                 64      Adam  \n8             80                 2                  8      Adam  \n9             10                 1                 16      Adam  \n10            40                 2                 64      Adam  \n11            80                 1                 16      Adam  \n12            10                 2                 64      Adam  \n13            20                 2                  8      Adam  \n14            20                 2                 32      Adam  \n15            80                 1                 64      Adam  \n16            40                 1                 16      Adam  \n17            20                 2                 16      Adam  \n18            80                 2                 32      Adam  \n19            80                 2                 16      Adam  \n20            20                 1                 32      Adam  \n21            10                 1                 64      Adam  \n22            40                 1                 64      Adam  \n23            40                 2                 32      Adam  \n24            40                 1                  8      Adam  \n25            20                 1                  8      Adam  \n26            10                 2                 32      Adam  \n27            40                 2                 16      Adam  \n28            20                 1                 16      Adam  \n29            40                 1                 32      Adam  ",
      "text/html": "<div>\n<style scoped>\n    .dataframe tbody tr th:only-of-type {\n        vertical-align: middle;\n    }\n\n    .dataframe tbody tr th {\n        vertical-align: top;\n    }\n\n    .dataframe thead th {\n        text-align: right;\n    }\n</style>\n<table border=\"1\" class=\"dataframe\">\n  <thead>\n    <tr style=\"text-align: right;\">\n      <th></th>\n      <th>round_epochs</th>\n      <th>loss</th>\n      <th>mae</th>\n      <th>batch_size</th>\n      <th>dropout_value</th>\n      <th>epoch_number</th>\n      <th>number_of_layers</th>\n      <th>number_of_neurons</th>\n      <th>optimizer</th>\n    </tr>\n  </thead>\n  <tbody>\n    <tr>\n      <th>0</th>\n      <td>80</td>\n      <td>11.467742</td>\n      <td>2.539011</td>\n      <td>2</td>\n      <td>0.1</td>\n      <td>80</td>\n      <td>1</td>\n      <td>32</td>\n      <td>Adam</td>\n    </tr>\n    <tr>\n      <th>1</th>\n      <td>10</td>\n      <td>86.810413</td>\n      <td>6.723016</td>\n      <td>2</td>\n      <td>0.1</td>\n      <td>10</td>\n      <td>1</td>\n      <td>8</td>\n      <td>Adam</td>\n    </tr>\n    <tr>\n      <th>2</th>\n      <td>20</td>\n      <td>17.857129</td>\n      <td>2.953621</td>\n      <td>2</td>\n      <td>0.1</td>\n      <td>20</td>\n      <td>1</td>\n      <td>64</td>\n      <td>Adam</td>\n    </tr>\n    <tr>\n      <th>3</th>\n      <td>10</td>\n      <td>38.653540</td>\n      <td>4.272592</td>\n      <td>2</td>\n      <td>0.1</td>\n      <td>10</td>\n      <td>1</td>\n      <td>32</td>\n      <td>Adam</td>\n    </tr>\n    <tr>\n      <th>4</th>\n      <td>10</td>\n      <td>26.391260</td>\n      <td>3.604921</td>\n      <td>2</td>\n      <td>0.1</td>\n      <td>10</td>\n      <td>2</td>\n      <td>16</td>\n      <td>Adam</td>\n    </tr>\n    <tr>\n      <th>5</th>\n      <td>20</td>\n      <td>11.708395</td>\n      <td>2.526502</td>\n      <td>2</td>\n      <td>0.1</td>\n      <td>20</td>\n      <td>2</td>\n      <td>64</td>\n      <td>Adam</td>\n    </tr>\n    <tr>\n      <th>6</th>\n      <td>10</td>\n      <td>77.441697</td>\n      <td>5.916627</td>\n      <td>2</td>\n      <td>0.1</td>\n      <td>10</td>\n      <td>2</td>\n      <td>8</td>\n      <td>Adam</td>\n    </tr>\n    <tr>\n      <th>7</th>\n      <td>80</td>\n      <td>5.478784</td>\n      <td>1.692611</td>\n      <td>2</td>\n      <td>0.1</td>\n      <td>80</td>\n      <td>2</td>\n      <td>64</td>\n      <td>Adam</td>\n    </tr>\n    <tr>\n      <th>8</th>\n      <td>80</td>\n      <td>17.816258</td>\n      <td>3.195865</td>\n      <td>2</td>\n      <td>0.1</td>\n      <td>80</td>\n      <td>2</td>\n      <td>8</td>\n      <td>Adam</td>\n    </tr>\n    <tr>\n      <th>9</th>\n      <td>10</td>\n      <td>51.428903</td>\n      <td>4.811627</td>\n      <td>2</td>\n      <td>0.1</td>\n      <td>10</td>\n      <td>1</td>\n      <td>16</td>\n      <td>Adam</td>\n    </tr>\n    <tr>\n      <th>10</th>\n      <td>40</td>\n      <td>8.293915</td>\n      <td>2.140633</td>\n      <td>2</td>\n      <td>0.1</td>\n      <td>40</td>\n      <td>2</td>\n      <td>64</td>\n      <td>Adam</td>\n    </tr>\n    <tr>\n      <th>11</th>\n      <td>80</td>\n      <td>19.264721</td>\n      <td>3.134720</td>\n      <td>2</td>\n      <td>0.1</td>\n      <td>80</td>\n      <td>1</td>\n      <td>16</td>\n      <td>Adam</td>\n    </tr>\n    <tr>\n      <th>12</th>\n      <td>10</td>\n      <td>14.238281</td>\n      <td>2.617625</td>\n      <td>2</td>\n      <td>0.1</td>\n      <td>10</td>\n      <td>2</td>\n      <td>64</td>\n      <td>Adam</td>\n    </tr>\n    <tr>\n      <th>13</th>\n      <td>20</td>\n      <td>20.210732</td>\n      <td>3.330528</td>\n      <td>2</td>\n      <td>0.1</td>\n      <td>20</td>\n      <td>2</td>\n      <td>8</td>\n      <td>Adam</td>\n    </tr>\n    <tr>\n      <th>14</th>\n      <td>20</td>\n      <td>16.653860</td>\n      <td>2.827091</td>\n      <td>2</td>\n      <td>0.1</td>\n      <td>20</td>\n      <td>2</td>\n      <td>32</td>\n      <td>Adam</td>\n    </tr>\n    <tr>\n      <th>15</th>\n      <td>80</td>\n      <td>10.757023</td>\n      <td>2.357431</td>\n      <td>2</td>\n      <td>0.1</td>\n      <td>80</td>\n      <td>1</td>\n      <td>64</td>\n      <td>Adam</td>\n    </tr>\n    <tr>\n      <th>16</th>\n      <td>40</td>\n      <td>31.252665</td>\n      <td>4.048366</td>\n      <td>2</td>\n      <td>0.1</td>\n      <td>40</td>\n      <td>1</td>\n      <td>16</td>\n      <td>Adam</td>\n    </tr>\n    <tr>\n      <th>17</th>\n      <td>20</td>\n      <td>20.843629</td>\n      <td>3.379933</td>\n      <td>2</td>\n      <td>0.1</td>\n      <td>20</td>\n      <td>2</td>\n      <td>16</td>\n      <td>Adam</td>\n    </tr>\n    <tr>\n      <th>18</th>\n      <td>80</td>\n      <td>8.954266</td>\n      <td>2.217166</td>\n      <td>2</td>\n      <td>0.1</td>\n      <td>80</td>\n      <td>2</td>\n      <td>32</td>\n      <td>Adam</td>\n    </tr>\n    <tr>\n      <th>19</th>\n      <td>80</td>\n      <td>14.419518</td>\n      <td>2.864135</td>\n      <td>2</td>\n      <td>0.1</td>\n      <td>80</td>\n      <td>2</td>\n      <td>16</td>\n      <td>Adam</td>\n    </tr>\n    <tr>\n      <th>20</th>\n      <td>20</td>\n      <td>24.723947</td>\n      <td>3.651110</td>\n      <td>2</td>\n      <td>0.1</td>\n      <td>20</td>\n      <td>1</td>\n      <td>32</td>\n      <td>Adam</td>\n    </tr>\n    <tr>\n      <th>21</th>\n      <td>10</td>\n      <td>30.348445</td>\n      <td>3.699537</td>\n      <td>2</td>\n      <td>0.1</td>\n      <td>10</td>\n      <td>1</td>\n      <td>64</td>\n      <td>Adam</td>\n    </tr>\n    <tr>\n      <th>22</th>\n      <td>40</td>\n      <td>13.472009</td>\n      <td>2.612639</td>\n      <td>2</td>\n      <td>0.1</td>\n      <td>40</td>\n      <td>1</td>\n      <td>64</td>\n      <td>Adam</td>\n    </tr>\n    <tr>\n      <th>23</th>\n      <td>40</td>\n      <td>11.145350</td>\n      <td>2.479538</td>\n      <td>2</td>\n      <td>0.1</td>\n      <td>40</td>\n      <td>2</td>\n      <td>32</td>\n      <td>Adam</td>\n    </tr>\n    <tr>\n      <th>24</th>\n      <td>40</td>\n      <td>49.518547</td>\n      <td>4.943301</td>\n      <td>2</td>\n      <td>0.1</td>\n      <td>40</td>\n      <td>1</td>\n      <td>8</td>\n      <td>Adam</td>\n    </tr>\n    <tr>\n      <th>25</th>\n      <td>20</td>\n      <td>56.226302</td>\n      <td>5.049223</td>\n      <td>2</td>\n      <td>0.1</td>\n      <td>20</td>\n      <td>1</td>\n      <td>8</td>\n      <td>Adam</td>\n    </tr>\n    <tr>\n      <th>26</th>\n      <td>10</td>\n      <td>18.703999</td>\n      <td>3.126820</td>\n      <td>2</td>\n      <td>0.1</td>\n      <td>10</td>\n      <td>2</td>\n      <td>32</td>\n      <td>Adam</td>\n    </tr>\n    <tr>\n      <th>27</th>\n      <td>40</td>\n      <td>15.794249</td>\n      <td>2.879982</td>\n      <td>2</td>\n      <td>0.1</td>\n      <td>40</td>\n      <td>2</td>\n      <td>16</td>\n      <td>Adam</td>\n    </tr>\n    <tr>\n      <th>28</th>\n      <td>20</td>\n      <td>40.783817</td>\n      <td>4.584077</td>\n      <td>2</td>\n      <td>0.1</td>\n      <td>20</td>\n      <td>1</td>\n      <td>16</td>\n      <td>Adam</td>\n    </tr>\n    <tr>\n      <th>29</th>\n      <td>40</td>\n      <td>14.838179</td>\n      <td>2.738791</td>\n      <td>2</td>\n      <td>0.1</td>\n      <td>40</td>\n      <td>1</td>\n      <td>32</td>\n      <td>Adam</td>\n    </tr>\n  </tbody>\n</table>\n</div>"
     },
     "metadata": {},
     "output_type": "execute_result",
     "execution_count": 19
    }
   ],
   "source": [
    "# if you want to see the full output of Scan()\n",
    "scan_object2.data"
   ],
   "metadata": {
    "collapsed": false,
    "pycharm": {
     "name": "#%%\n",
     "is_executing": false
    }
   }
  },
  {
   "cell_type": "markdown",
   "source": [
    "Your best results are:"
   ],
   "metadata": {
    "collapsed": false,
    "pycharm": {
     "name": "#%% md\n"
    }
   }
  },
  {
   "cell_type": "code",
   "execution_count": 20,
   "outputs": [
    {
     "data": {
      "text/plain": "array([[80, 80, 2, 0.1, 2, 64, 'Adam', 0],\n       [40, 40, 2, 0.1, 2, 64, 'Adam', 1],\n       [80, 80, 2, 0.1, 2, 32, 'Adam', 2]], dtype=object)"
     },
     "metadata": {},
     "output_type": "execute_result",
     "execution_count": 20
    }
   ],
   "source": [
    "# use Scan object as input\n",
    "analyze_object2 = talos.Analyze(scan_object2)\n",
    "\n",
    "# get the best n=3 paramaters\n",
    "analyze_object2.best_params('mae', ['loss'], n=3, ascending=True)"
   ],
   "metadata": {
    "collapsed": false,
    "pycharm": {
     "name": "#%%\n",
     "is_executing": false
    }
   }
  },
  {
   "cell_type": "code",
   "execution_count": 21,
   "outputs": [
    {
     "data": {
      "text/plain": "1.6926110982894897"
     },
     "metadata": {},
     "output_type": "execute_result",
     "execution_count": 21
    }
   ],
   "source": [
    "# lowest mae with the parameters from analyze_object2.best_params('mae', ['loss'], n=1, ascending=True)\n",
    "analyze_object2.low('mae')"
   ],
   "metadata": {
    "collapsed": false,
    "pycharm": {
     "name": "#%%\n",
     "is_executing": false
    }
   }
  },
  {
   "cell_type": "markdown",
   "source": [
    "## Deploy close-to-optimal model"
   ],
   "metadata": {
    "collapsed": false,
    "pycharm": {
     "name": "#%% md\n"
    }
   }
  },
  {
   "cell_type": "markdown",
   "metadata": {},
   "source": [
    "### Evaluating Models with <code>Evaluate()</code> "
   ]
  },
  {
   "cell_type": "markdown",
   "metadata": {},
   "source": [
    "Models can be evaluated with <code>Evaluate()</code> against a k-fold cross-validation \n",
    "(<code>fold=K</code> specifies the number of repetitions in <code>Evaluate()</code>). \n",
    "Ideally at least 50% of the data, or more if possible, is kept completely out of the <code>Scan</code> process and only exposed into Evaluate once one or more candidate models have been identified."
   ]
  },
  {
   "cell_type": "code",
   "execution_count": 22,
   "metadata": {
    "pycharm": {
     "is_executing": false
    }
   },
   "outputs": [
    {
     "data": {
      "text/plain": "6.660938280105592"
     },
     "metadata": {},
     "output_type": "execute_result",
     "execution_count": 22
    }
   ],
   "source": [
    "evaluate_object = talos.Evaluate(scan_object2)\n",
    "\n",
    "# returns a list with 'folds=10' outputs\n",
    "all_mae_results =  evaluate_object.evaluate(test_data, test_targets, folds=10, metric='mae', task='continuous')\n",
    "\n",
    "# this is the average 'mae' that gives an aedequate estimation of our model error (on the test data)\n",
    "np.mean(all_mae_results)"
   ]
  },
  {
   "cell_type": "markdown",
   "metadata": {},
   "source": [
    "Once a sufficiently performing model has been found, a deployment package can be easily created."
   ]
  },
  {
   "cell_type": "markdown",
   "metadata": {},
   "source": [
    "### Deploying Models with <code>Deploy()</code> "
   ]
  },
  {
   "cell_type": "markdown",
   "metadata": {},
   "source": [
    "Once the right model or models have been found, you can create a deployment package with <code>Deploy()</code> which is then easy to transfer to a production or other environment, send via email, or upload to shared remote location. Best model is automatically chosen based on a given metric ('val_acc' by default).\n",
    "\n",
    "The Deploy package is a zip file that consist of: \n",
    "\n",
    "- details of the scan\n",
    "- model weights\n",
    "- model json\n",
    "- results of the experiment\n",
    "- sample of x data\n",
    "- sample of y data\n",
    "\n",
    "The <code>Deploy</code> package can be easily restored with <code>Restore()</code> which is covered in the next section."
   ]
  },
  {
   "cell_type": "code",
   "execution_count": 23,
   "metadata": {
    "pycharm": {
     "is_executing": false
    }
   },
   "outputs": [
    {
     "name": "stdout",
     "text": [
      "Deploy package waw_regression_deploy have been saved.\n"
     ],
     "output_type": "stream"
    }
   ],
   "source": [
    "# creates a file waw_regression_deploy.zip (\\approx 13 KB) in the local folder \n",
    "# the parameter 'asc' has to be true if lower means better (e.g. loss, mae) but false otherwise (e.g. accuracy)\n",
    "talos.Deploy(scan_object=scan_object2, model_name='waw_regression_deploy', metric='mae', asc=True);"
   ]
  },
  {
   "cell_type": "markdown",
   "metadata": {},
   "source": [
    "### Restoring Models with <code>Restore()</code>  "
   ]
  },
  {
   "cell_type": "code",
   "execution_count": 24,
   "metadata": {
    "pycharm": {
     "is_executing": false
    }
   },
   "outputs": [],
   "source": [
    "waw_regression = talos.Restore('waw_regression_deploy.zip')"
   ]
  },
  {
   "cell_type": "markdown",
   "metadata": {},
   "source": [
    "The <code>Restore</code> object now consists of the assets from the Scan object originally associated with the experiment, together with the model that had been picked as 'best'. The model can be immediately used for making prediction, or use in any other other way Keras model objects can be used."
   ]
  },
  {
   "cell_type": "code",
   "execution_count": 25,
   "outputs": [
    {
     "data": {
      "text/plain": "{'name': 'sequential_1',\n 'layers': [{'class_name': 'Dense',\n   'config': {'name': 'dense_1',\n    'trainable': True,\n    'batch_input_shape': (None, 13),\n    'dtype': 'float32',\n    'units': 64,\n    'activation': 'relu',\n    'use_bias': True,\n    'kernel_initializer': {'class_name': 'VarianceScaling',\n     'config': {'scale': 1.0,\n      'mode': 'fan_avg',\n      'distribution': 'uniform',\n      'seed': None}},\n    'bias_initializer': {'class_name': 'Zeros', 'config': {}},\n    'kernel_regularizer': None,\n    'bias_regularizer': None,\n    'activity_regularizer': None,\n    'kernel_constraint': None,\n    'bias_constraint': None}},\n  {'class_name': 'Dense',\n   'config': {'name': 'dense_2',\n    'trainable': True,\n    'dtype': 'float32',\n    'units': 64,\n    'activation': 'relu',\n    'use_bias': True,\n    'kernel_initializer': {'class_name': 'VarianceScaling',\n     'config': {'scale': 1.0,\n      'mode': 'fan_avg',\n      'distribution': 'uniform',\n      'seed': None}},\n    'bias_initializer': {'class_name': 'Zeros', 'config': {}},\n    'kernel_regularizer': None,\n    'bias_regularizer': None,\n    'activity_regularizer': None,\n    'kernel_constraint': None,\n    'bias_constraint': None}},\n  {'class_name': 'Dropout',\n   'config': {'name': 'dropout_1',\n    'trainable': True,\n    'dtype': 'float32',\n    'rate': 0.1,\n    'noise_shape': None,\n    'seed': None}},\n  {'class_name': 'Dense',\n   'config': {'name': 'dense_3',\n    'trainable': True,\n    'dtype': 'float32',\n    'units': 1,\n    'activation': 'linear',\n    'use_bias': True,\n    'kernel_initializer': {'class_name': 'VarianceScaling',\n     'config': {'scale': 1.0,\n      'mode': 'fan_avg',\n      'distribution': 'uniform',\n      'seed': None}},\n    'bias_initializer': {'class_name': 'Zeros', 'config': {}},\n    'kernel_regularizer': None,\n    'bias_regularizer': None,\n    'activity_regularizer': None,\n    'kernel_constraint': None,\n    'bias_constraint': None}}]}"
     },
     "metadata": {},
     "output_type": "execute_result",
     "execution_count": 25
    }
   ],
   "source": [
    "# What is the 'best' model that we use for predictions?\n",
    "# this should be the same model as found with (better check this) \n",
    "# 'analyze_object2.best_params('mae', ['loss'], n=1, ascending=True)' from the previous cell \n",
    "waw_regression.model.get_config()"
   ],
   "metadata": {
    "collapsed": false,
    "pycharm": {
     "name": "#%%\n",
     "is_executing": false
    }
   }
  },
  {
   "cell_type": "code",
   "execution_count": 26,
   "metadata": {
    "pycharm": {
     "is_executing": false
    }
   },
   "outputs": [
    {
     "data": {
      "text/plain": "array([[ 8.057767],\n       [19.864397],\n       [22.509373],\n       [37.04685 ],\n       [26.02824 ],\n       [23.017447],\n       [27.877794],\n       [21.108776],\n       [20.410147],\n       [22.164259],\n       [15.63898 ],\n       [17.712337],\n       [16.293907],\n       [43.7208  ],\n       [20.253284],\n       [19.66864 ],\n       [26.19515 ],\n       [18.629576],\n       [17.89006 ],\n       [21.088615],\n       [11.710831],\n       [10.751638],\n       [22.400724],\n       [15.040758],\n       [18.33192 ],\n       [26.698503],\n       [29.94661 ],\n       [32.474506],\n       [11.421837],\n       [18.517975],\n       [20.400518],\n       [13.196469],\n       [34.938705],\n       [23.841803],\n       [15.388106],\n       [ 9.841909],\n       [18.183863],\n       [16.736605],\n       [22.791874],\n       [27.536386],\n       [31.802874],\n       [27.391191],\n       [13.205412],\n       [45.69952 ],\n       [33.02967 ],\n       [28.359648],\n       [29.17532 ],\n       [18.74827 ],\n       [20.557848],\n       [22.798943],\n       [38.735966],\n       [20.900429],\n       [11.435402],\n       [14.402783],\n       [35.926983],\n       [28.16606 ],\n       [12.153124],\n       [52.705036],\n       [37.212326],\n       [24.315256],\n       [25.454113],\n       [14.775256],\n       [14.997261],\n       [20.040476],\n       [23.543177],\n       [19.667686],\n       [14.830857],\n       [21.237967],\n       [16.001682],\n       [ 7.780145],\n       [19.620878],\n       [30.811104],\n       [30.126726],\n       [17.150745],\n       [26.53317 ],\n       [19.895338],\n       [18.16121 ],\n       [24.844557],\n       [37.9878  ],\n       [11.447736],\n       [22.993866],\n       [42.347626],\n       [16.130072],\n       [13.494655],\n       [17.741934],\n       [19.025831],\n       [23.277977],\n       [21.138426],\n       [22.165424],\n       [36.783585],\n       [21.45727 ],\n       [17.82454 ],\n       [27.275692],\n       [46.586716],\n       [38.976967],\n       [22.315216],\n       [39.346577],\n       [38.2221  ],\n       [26.038183],\n       [50.241104],\n       [31.809359],\n       [21.282476]], dtype=float32)"
     },
     "metadata": {},
     "output_type": "execute_result",
     "execution_count": 26
    }
   ],
   "source": [
    "# make predictions with the model\n",
    "# if you are interested, compare the output with the ground truth 'test_targets'\n",
    "waw_regression.model.predict(test_data)"
   ]
  },
  {
   "cell_type": "markdown",
   "metadata": {},
   "source": [
    "In addition, for book keeping purpose, and for simplicity of sharing models with team members and other stakeholders, various attributes are included in the <code>Restore</code> object:"
   ]
  },
  {
   "cell_type": "code",
   "execution_count": 27,
   "metadata": {
    "pycharm": {
     "is_executing": false
    }
   },
   "outputs": [
    {
     "data": {
      "text/plain": "                     0                    1\n0      experiment_name  find_optimal_params\n1        random_method     uniform_mersenne\n2     reduction_method                  NaN\n3   reduction_interval                   50\n4     reduction_window                   20\n5  reduction_threshold                  0.2\n6     reduction_metric              val_acc\n7        complete_time       11/19/19/17:08\n8              x_shape            (404, 13)\n9              y_shape               (404,)",
      "text/html": "<div>\n<style scoped>\n    .dataframe tbody tr th:only-of-type {\n        vertical-align: middle;\n    }\n\n    .dataframe tbody tr th {\n        vertical-align: top;\n    }\n\n    .dataframe thead th {\n        text-align: right;\n    }\n</style>\n<table border=\"1\" class=\"dataframe\">\n  <thead>\n    <tr style=\"text-align: right;\">\n      <th></th>\n      <th>0</th>\n      <th>1</th>\n    </tr>\n  </thead>\n  <tbody>\n    <tr>\n      <th>0</th>\n      <td>experiment_name</td>\n      <td>find_optimal_params</td>\n    </tr>\n    <tr>\n      <th>1</th>\n      <td>random_method</td>\n      <td>uniform_mersenne</td>\n    </tr>\n    <tr>\n      <th>2</th>\n      <td>reduction_method</td>\n      <td>NaN</td>\n    </tr>\n    <tr>\n      <th>3</th>\n      <td>reduction_interval</td>\n      <td>50</td>\n    </tr>\n    <tr>\n      <th>4</th>\n      <td>reduction_window</td>\n      <td>20</td>\n    </tr>\n    <tr>\n      <th>5</th>\n      <td>reduction_threshold</td>\n      <td>0.2</td>\n    </tr>\n    <tr>\n      <th>6</th>\n      <td>reduction_metric</td>\n      <td>val_acc</td>\n    </tr>\n    <tr>\n      <th>7</th>\n      <td>complete_time</td>\n      <td>11/19/19/17:08</td>\n    </tr>\n    <tr>\n      <th>8</th>\n      <td>x_shape</td>\n      <td>(404, 13)</td>\n    </tr>\n    <tr>\n      <th>9</th>\n      <td>y_shape</td>\n      <td>(404,)</td>\n    </tr>\n  </tbody>\n</table>\n</div>"
     },
     "metadata": {},
     "output_type": "execute_result",
     "execution_count": 27
    }
   ],
   "source": [
    "# get the meta-data for the experiment\n",
    "waw_regression.details"
   ]
  },
  {
   "cell_type": "code",
   "execution_count": 28,
   "metadata": {
    "pycharm": {
     "is_executing": false
    }
   },
   "outputs": [
    {
     "data": {
      "text/plain": "{'number_of_layers': [1, 2],\n 'number_of_neurons': [8, 16, 32, 64],\n 'epoch_number': [10, 20, 40, 80],\n 'dropout_value': [0.1],\n 'optimizer': ['Adam'],\n 'batch_size': [2]}"
     },
     "metadata": {},
     "output_type": "execute_result",
     "execution_count": 28
    }
   ],
   "source": [
    "# get the hyperparameter space boundary, these are the hyperparameter values that you have considered before\n",
    "waw_regression.params"
   ]
  },
  {
   "cell_type": "code",
   "execution_count": 29,
   "metadata": {
    "pycharm": {
     "is_executing": false
    }
   },
   "outputs": [
    {
     "data": {
      "text/plain": "    round_epochs       loss       mae  batch_size  dropout_value  \\\n0             80  11.467742  2.539011           2            0.1   \n1             10  86.810413  6.723016           2            0.1   \n2             20  17.857129  2.953621           2            0.1   \n3             10  38.653540  4.272592           2            0.1   \n4             10  26.391260  3.604921           2            0.1   \n5             20  11.708395  2.526502           2            0.1   \n6             10  77.441697  5.916627           2            0.1   \n7             80   5.478784  1.692611           2            0.1   \n8             80  17.816258  3.195865           2            0.1   \n9             10  51.428903  4.811627           2            0.1   \n10            40   8.293915  2.140633           2            0.1   \n11            80  19.264721  3.134720           2            0.1   \n12            10  14.238281  2.617625           2            0.1   \n13            20  20.210732  3.330528           2            0.1   \n14            20  16.653860  2.827091           2            0.1   \n15            80  10.757023  2.357431           2            0.1   \n16            40  31.252665  4.048366           2            0.1   \n17            20  20.843629  3.379933           2            0.1   \n18            80   8.954266  2.217166           2            0.1   \n19            80  14.419518  2.864135           2            0.1   \n20            20  24.723947  3.651110           2            0.1   \n21            10  30.348445  3.699537           2            0.1   \n22            40  13.472009  2.612639           2            0.1   \n23            40  11.145350  2.479538           2            0.1   \n24            40  49.518547  4.943301           2            0.1   \n25            20  56.226302  5.049223           2            0.1   \n26            10  18.703999  3.126820           2            0.1   \n27            40  15.794249  2.879982           2            0.1   \n28            20  40.783817  4.584077           2            0.1   \n29            40  14.838179  2.738791           2            0.1   \n\n    epoch_number  number_of_layers  number_of_neurons optimizer  \n0             80                 1                 32      Adam  \n1             10                 1                  8      Adam  \n2             20                 1                 64      Adam  \n3             10                 1                 32      Adam  \n4             10                 2                 16      Adam  \n5             20                 2                 64      Adam  \n6             10                 2                  8      Adam  \n7             80                 2                 64      Adam  \n8             80                 2                  8      Adam  \n9             10                 1                 16      Adam  \n10            40                 2                 64      Adam  \n11            80                 1                 16      Adam  \n12            10                 2                 64      Adam  \n13            20                 2                  8      Adam  \n14            20                 2                 32      Adam  \n15            80                 1                 64      Adam  \n16            40                 1                 16      Adam  \n17            20                 2                 16      Adam  \n18            80                 2                 32      Adam  \n19            80                 2                 16      Adam  \n20            20                 1                 32      Adam  \n21            10                 1                 64      Adam  \n22            40                 1                 64      Adam  \n23            40                 2                 32      Adam  \n24            40                 1                  8      Adam  \n25            20                 1                  8      Adam  \n26            10                 2                 32      Adam  \n27            40                 2                 16      Adam  \n28            20                 1                 16      Adam  \n29            40                 1                 32      Adam  ",
      "text/html": "<div>\n<style scoped>\n    .dataframe tbody tr th:only-of-type {\n        vertical-align: middle;\n    }\n\n    .dataframe tbody tr th {\n        vertical-align: top;\n    }\n\n    .dataframe thead th {\n        text-align: right;\n    }\n</style>\n<table border=\"1\" class=\"dataframe\">\n  <thead>\n    <tr style=\"text-align: right;\">\n      <th></th>\n      <th>round_epochs</th>\n      <th>loss</th>\n      <th>mae</th>\n      <th>batch_size</th>\n      <th>dropout_value</th>\n      <th>epoch_number</th>\n      <th>number_of_layers</th>\n      <th>number_of_neurons</th>\n      <th>optimizer</th>\n    </tr>\n  </thead>\n  <tbody>\n    <tr>\n      <th>0</th>\n      <td>80</td>\n      <td>11.467742</td>\n      <td>2.539011</td>\n      <td>2</td>\n      <td>0.1</td>\n      <td>80</td>\n      <td>1</td>\n      <td>32</td>\n      <td>Adam</td>\n    </tr>\n    <tr>\n      <th>1</th>\n      <td>10</td>\n      <td>86.810413</td>\n      <td>6.723016</td>\n      <td>2</td>\n      <td>0.1</td>\n      <td>10</td>\n      <td>1</td>\n      <td>8</td>\n      <td>Adam</td>\n    </tr>\n    <tr>\n      <th>2</th>\n      <td>20</td>\n      <td>17.857129</td>\n      <td>2.953621</td>\n      <td>2</td>\n      <td>0.1</td>\n      <td>20</td>\n      <td>1</td>\n      <td>64</td>\n      <td>Adam</td>\n    </tr>\n    <tr>\n      <th>3</th>\n      <td>10</td>\n      <td>38.653540</td>\n      <td>4.272592</td>\n      <td>2</td>\n      <td>0.1</td>\n      <td>10</td>\n      <td>1</td>\n      <td>32</td>\n      <td>Adam</td>\n    </tr>\n    <tr>\n      <th>4</th>\n      <td>10</td>\n      <td>26.391260</td>\n      <td>3.604921</td>\n      <td>2</td>\n      <td>0.1</td>\n      <td>10</td>\n      <td>2</td>\n      <td>16</td>\n      <td>Adam</td>\n    </tr>\n    <tr>\n      <th>5</th>\n      <td>20</td>\n      <td>11.708395</td>\n      <td>2.526502</td>\n      <td>2</td>\n      <td>0.1</td>\n      <td>20</td>\n      <td>2</td>\n      <td>64</td>\n      <td>Adam</td>\n    </tr>\n    <tr>\n      <th>6</th>\n      <td>10</td>\n      <td>77.441697</td>\n      <td>5.916627</td>\n      <td>2</td>\n      <td>0.1</td>\n      <td>10</td>\n      <td>2</td>\n      <td>8</td>\n      <td>Adam</td>\n    </tr>\n    <tr>\n      <th>7</th>\n      <td>80</td>\n      <td>5.478784</td>\n      <td>1.692611</td>\n      <td>2</td>\n      <td>0.1</td>\n      <td>80</td>\n      <td>2</td>\n      <td>64</td>\n      <td>Adam</td>\n    </tr>\n    <tr>\n      <th>8</th>\n      <td>80</td>\n      <td>17.816258</td>\n      <td>3.195865</td>\n      <td>2</td>\n      <td>0.1</td>\n      <td>80</td>\n      <td>2</td>\n      <td>8</td>\n      <td>Adam</td>\n    </tr>\n    <tr>\n      <th>9</th>\n      <td>10</td>\n      <td>51.428903</td>\n      <td>4.811627</td>\n      <td>2</td>\n      <td>0.1</td>\n      <td>10</td>\n      <td>1</td>\n      <td>16</td>\n      <td>Adam</td>\n    </tr>\n    <tr>\n      <th>10</th>\n      <td>40</td>\n      <td>8.293915</td>\n      <td>2.140633</td>\n      <td>2</td>\n      <td>0.1</td>\n      <td>40</td>\n      <td>2</td>\n      <td>64</td>\n      <td>Adam</td>\n    </tr>\n    <tr>\n      <th>11</th>\n      <td>80</td>\n      <td>19.264721</td>\n      <td>3.134720</td>\n      <td>2</td>\n      <td>0.1</td>\n      <td>80</td>\n      <td>1</td>\n      <td>16</td>\n      <td>Adam</td>\n    </tr>\n    <tr>\n      <th>12</th>\n      <td>10</td>\n      <td>14.238281</td>\n      <td>2.617625</td>\n      <td>2</td>\n      <td>0.1</td>\n      <td>10</td>\n      <td>2</td>\n      <td>64</td>\n      <td>Adam</td>\n    </tr>\n    <tr>\n      <th>13</th>\n      <td>20</td>\n      <td>20.210732</td>\n      <td>3.330528</td>\n      <td>2</td>\n      <td>0.1</td>\n      <td>20</td>\n      <td>2</td>\n      <td>8</td>\n      <td>Adam</td>\n    </tr>\n    <tr>\n      <th>14</th>\n      <td>20</td>\n      <td>16.653860</td>\n      <td>2.827091</td>\n      <td>2</td>\n      <td>0.1</td>\n      <td>20</td>\n      <td>2</td>\n      <td>32</td>\n      <td>Adam</td>\n    </tr>\n    <tr>\n      <th>15</th>\n      <td>80</td>\n      <td>10.757023</td>\n      <td>2.357431</td>\n      <td>2</td>\n      <td>0.1</td>\n      <td>80</td>\n      <td>1</td>\n      <td>64</td>\n      <td>Adam</td>\n    </tr>\n    <tr>\n      <th>16</th>\n      <td>40</td>\n      <td>31.252665</td>\n      <td>4.048366</td>\n      <td>2</td>\n      <td>0.1</td>\n      <td>40</td>\n      <td>1</td>\n      <td>16</td>\n      <td>Adam</td>\n    </tr>\n    <tr>\n      <th>17</th>\n      <td>20</td>\n      <td>20.843629</td>\n      <td>3.379933</td>\n      <td>2</td>\n      <td>0.1</td>\n      <td>20</td>\n      <td>2</td>\n      <td>16</td>\n      <td>Adam</td>\n    </tr>\n    <tr>\n      <th>18</th>\n      <td>80</td>\n      <td>8.954266</td>\n      <td>2.217166</td>\n      <td>2</td>\n      <td>0.1</td>\n      <td>80</td>\n      <td>2</td>\n      <td>32</td>\n      <td>Adam</td>\n    </tr>\n    <tr>\n      <th>19</th>\n      <td>80</td>\n      <td>14.419518</td>\n      <td>2.864135</td>\n      <td>2</td>\n      <td>0.1</td>\n      <td>80</td>\n      <td>2</td>\n      <td>16</td>\n      <td>Adam</td>\n    </tr>\n    <tr>\n      <th>20</th>\n      <td>20</td>\n      <td>24.723947</td>\n      <td>3.651110</td>\n      <td>2</td>\n      <td>0.1</td>\n      <td>20</td>\n      <td>1</td>\n      <td>32</td>\n      <td>Adam</td>\n    </tr>\n    <tr>\n      <th>21</th>\n      <td>10</td>\n      <td>30.348445</td>\n      <td>3.699537</td>\n      <td>2</td>\n      <td>0.1</td>\n      <td>10</td>\n      <td>1</td>\n      <td>64</td>\n      <td>Adam</td>\n    </tr>\n    <tr>\n      <th>22</th>\n      <td>40</td>\n      <td>13.472009</td>\n      <td>2.612639</td>\n      <td>2</td>\n      <td>0.1</td>\n      <td>40</td>\n      <td>1</td>\n      <td>64</td>\n      <td>Adam</td>\n    </tr>\n    <tr>\n      <th>23</th>\n      <td>40</td>\n      <td>11.145350</td>\n      <td>2.479538</td>\n      <td>2</td>\n      <td>0.1</td>\n      <td>40</td>\n      <td>2</td>\n      <td>32</td>\n      <td>Adam</td>\n    </tr>\n    <tr>\n      <th>24</th>\n      <td>40</td>\n      <td>49.518547</td>\n      <td>4.943301</td>\n      <td>2</td>\n      <td>0.1</td>\n      <td>40</td>\n      <td>1</td>\n      <td>8</td>\n      <td>Adam</td>\n    </tr>\n    <tr>\n      <th>25</th>\n      <td>20</td>\n      <td>56.226302</td>\n      <td>5.049223</td>\n      <td>2</td>\n      <td>0.1</td>\n      <td>20</td>\n      <td>1</td>\n      <td>8</td>\n      <td>Adam</td>\n    </tr>\n    <tr>\n      <th>26</th>\n      <td>10</td>\n      <td>18.703999</td>\n      <td>3.126820</td>\n      <td>2</td>\n      <td>0.1</td>\n      <td>10</td>\n      <td>2</td>\n      <td>32</td>\n      <td>Adam</td>\n    </tr>\n    <tr>\n      <th>27</th>\n      <td>40</td>\n      <td>15.794249</td>\n      <td>2.879982</td>\n      <td>2</td>\n      <td>0.1</td>\n      <td>40</td>\n      <td>2</td>\n      <td>16</td>\n      <td>Adam</td>\n    </tr>\n    <tr>\n      <th>28</th>\n      <td>20</td>\n      <td>40.783817</td>\n      <td>4.584077</td>\n      <td>2</td>\n      <td>0.1</td>\n      <td>20</td>\n      <td>1</td>\n      <td>16</td>\n      <td>Adam</td>\n    </tr>\n    <tr>\n      <th>29</th>\n      <td>40</td>\n      <td>14.838179</td>\n      <td>2.738791</td>\n      <td>2</td>\n      <td>0.1</td>\n      <td>40</td>\n      <td>1</td>\n      <td>32</td>\n      <td>Adam</td>\n    </tr>\n  </tbody>\n</table>\n</div>"
     },
     "metadata": {},
     "output_type": "execute_result",
     "execution_count": 29
    }
   ],
   "source": [
    "# these are the results from the different runs of Scan()\n",
    "waw_regression.results"
   ]
  },
  {
   "cell_type": "markdown",
   "source": [
    "That's almost all on Talos for today. Of course, there are several other routines that are provided by Talos. You find\n",
    "the most recent version (0.6.4 in November 2019) on GitHub (https://github.com/autonomio/talos).  "
   ],
   "metadata": {
    "collapsed": false,
    "pycharm": {
     "name": "#%% md\n"
    }
   }
  },
  {
   "cell_type": "markdown",
   "source": [
    "### Outlook: a large numbers of hidden layers in Talos\n",
    "\n",
    "You probably have noticed that our model architecture in 'def build_better_model()'\n",
    "can only be used for a relatively low number of hidden layers (since you have to add each layer manually).\n",
    "For a larger number of hidden layers, Talos provides a 'hidden_layers' model \n",
    "(https://github.com/autonomio/talos/blob/master/docs/Hidden_Layers.md). When 'hidden_layers' are used,\n",
    "several parameters must be included in your parameter dictionary. These parameters are \n",
    "'dropout', 'shapes', 'hidden_layers', 'first_neuron' and 'activation'. \n",
    "\n",
    "An application for our problem might look like this:"
   ],
   "metadata": {
    "collapsed": false,
    "pycharm": {
     "name": "#%% md\n"
    }
   }
  },
  {
   "cell_type": "code",
   "execution_count": 30,
   "outputs": [],
   "source": [
    "param = {'hidden_layers' : [1, 2],          # <--- required\n",
    "         'first_neuron' : [8, 16, 32, 64],  # <--- required\n",
    "         'dropout' : [0, 0.1, 0.2],         # <--- required\n",
    "         'shapes': ['brick'],               # <--- required\n",
    "         'activation': ['relu'],            # <--- required\n",
    "         'epoch_number' : [10, 20, 40, 80],\n",
    "         'optimizer' : ['Adam', 'rmsprop'],\n",
    "         'batch_size' : [1, 2, 4, 8]}"
   ],
   "metadata": {
    "collapsed": false,
    "pycharm": {
     "name": "#%%\n",
     "is_executing": false
    }
   }
  },
  {
   "cell_type": "code",
   "execution_count": 31,
   "outputs": [],
   "source": [
    "from keras import models\n",
    "from keras import layers\n",
    "from talos.utils import hidden_layers\n",
    "\n",
    "def build_even_better_model(train_data, train_targets, val_data, val_targets, p):\n",
    "    model = models.Sequential()\n",
    "    \n",
    "    hidden_layers(model, p, 1) # <--- the required arguments are used here\n",
    "        \n",
    "    model.add(layers.Dense(1))\n",
    "    model.compile(optimizer='Adam', loss='mse', metrics=['mae'])\n",
    "    \n",
    "    # make sure history object is returned by model.fit()\n",
    "    history = model.fit(train_data, train_targets, epochs=p['epoch_number'], batch_size=p['batch_size'], verbose=0)\n",
    "    \n",
    "    return history, model\n"
   ],
   "metadata": {
    "collapsed": false,
    "pycharm": {
     "name": "#%%\n",
     "is_executing": false
    }
   }
  },
  {
   "cell_type": "markdown",
   "source": [
    "## Bonus ## \n",
    "__Excercise 4:__\n",
    " - Use the feature 'hidden_layers' from Talos for a new hyperparameter search.\n",
    "\n"
   ],
   "metadata": {
    "collapsed": false,
    "pycharm": {
     "name": "#%% md\n"
    }
   }
  },
  {
   "cell_type": "markdown",
   "metadata": {},
   "source": [
    "### 3. Guidelines on hyperparameter optimization <a name=\"three\"></a> \n",
    "\n",
    "* Hyperparameter optimization (at least as described in this tutorial with Talos) is an iterative process. You define the\n",
    "hyperparamter boundaries and start a search with <code>Scan()</code>. Using the results, you define new\n",
    "hyperparameter boundaries and a second search, ..., ..., final search.\n",
    "* In most situations, it is not necessary to perform a full grid search on all possible hyperparameter\n",
    "configurations (maybe in the order of thousands). Usually, it is sufficient to perform the scan on \n",
    "a random subset (10-30% )\n",
    "* It is important to determine those hyperparameter that have the largest influence on your performance\n",
    "metric. For this purpose, Talos provides routine such as <code>correlate()</code> to assist you to find these hyperparameters.\n",
    "* All different hyperparameter combinations are evaluated on a validation set. As usual, only your final (after several iterations)\n",
    "model is evaluated with a test set that is independent of the validation set.\n",
    "* Even though Talos can be used analyze thousands of hyperparameter configurations, it is important to\n",
    "first get some kind of intuition/understanding which model architecture might be adequate (e.g. do you require \n",
    "fully connected neural networks?, convolutional neural networks?, what might be the rough number\n",
    "of hidden layers?). Otherwise, since the hyperparameter space grows exponentially you will not be able \n",
    "to evaluate a relevant subset of your high-dimensional hypercube within a reasonable amount of time\n",
    "(cf. Curse of Dimensionality).\n"
   ]
  },
  {
   "cell_type": "markdown",
   "metadata": {},
   "source": [
    "Thank you for your participiation! <br>\n",
    "We hope that you have enjoyed this tutorial."
   ]
  }
 ],
 "metadata": {
  "kernelspec": {
   "display_name": "Python 3",
   "language": "python",
   "name": "python3"
  },
  "language_info": {
   "codemirror_mode": {
    "name": "ipython",
    "version": 3
   },
   "file_extension": ".py",
   "mimetype": "text/x-python",
   "name": "python",
   "nbconvert_exporter": "python",
   "pygments_lexer": "ipython3",
   "version": "3.6.8"
  }
 },
 "nbformat": 4,
 "nbformat_minor": 2
}